{
 "cells": [
  {
   "cell_type": "code",
   "execution_count": 1,
   "metadata": {
    "scrolled": true
   },
   "outputs": [
    {
     "name": "stderr",
     "output_type": "stream",
     "text": [
      "Using TensorFlow backend.\n"
     ]
    }
   ],
   "source": [
    "# Read the dataset description\n",
    "import gzip\n",
    "# Read or generate p2h, a dictionary of image name to image id (picture to hash)\n",
    "import pickle\n",
    "import platform\n",
    "import random\n",
    "# Suppress annoying stderr output when importing keras.\n",
    "import sys\n",
    "from lapjv import lapjv\n",
    "from math import sqrt\n",
    "# Determine the size of each image\n",
    "from os.path import isfile\n",
    "\n",
    "import keras\n",
    "import matplotlib.pyplot as plt\n",
    "import numpy as np\n",
    "import pandas as pd\n",
    "from PIL import Image as pil_image\n",
    "from imagehash import phash\n",
    "from keras import backend as K\n",
    "from keras import regularizers\n",
    "from keras.engine.topology import Input\n",
    "from keras.layers import Activation, Add, BatchNormalization, Concatenate, Conv2D, Dense, Flatten \n",
    "from keras.layers import GlobalMaxPooling2D, Lambda, MaxPooling2D, Reshape\n",
    "from keras.models import Model\n",
    "from keras.optimizers import Adam\n",
    "from keras.preprocessing.image import img_to_array\n",
    "from keras.utils import Sequence\n",
    "from pandas import read_csv\n",
    "from scipy.ndimage import affine_transform\n",
    "from tqdm import tqdm_notebook as tqdm\n",
    "import time"
   ]
  },
  {
   "cell_type": "code",
   "execution_count": 2,
   "metadata": {},
   "outputs": [],
   "source": [
    "TRAIN_DF = '../data/train.csv'\n",
    "SUB_Df = '../data/sample_submission.csv'\n",
    "TRAIN = '../data/train/'\n",
    "TEST = '../data/test/'\n",
    "P2H = '../data/p2h.pickle'\n",
    "P2SIZE = '../data/p2size.pickle'\n",
    "BB_DF = \"../data/bounding_boxes.csv\"\n",
    "tagged = dict([(p, w) for _, p, w in read_csv(TRAIN_DF).to_records()])\n",
    "submit = [p for _, p, _ in read_csv(SUB_Df).to_records()]\n",
    "join = list(tagged.keys()) + submit"
   ]
  },
  {
   "cell_type": "code",
   "execution_count": 3,
   "metadata": {},
   "outputs": [],
   "source": [
    "def expand_path(p):\n",
    "    if isfile(TRAIN + p):\n",
    "        return TRAIN + p\n",
    "    if isfile(TEST + p):\n",
    "        return TEST + p\n",
    "    return p"
   ]
  },
  {
   "cell_type": "code",
   "execution_count": 4,
   "metadata": {},
   "outputs": [
    {
     "name": "stdout",
     "output_type": "stream",
     "text": [
      "P2SIZE exists.\n"
     ]
    }
   ],
   "source": [
    "if isfile(P2SIZE):\n",
    "    print(\"P2SIZE exists.\")\n",
    "    with open(P2SIZE, 'rb') as f:\n",
    "        p2size = pickle.load(f)\n",
    "else:\n",
    "    p2size = {}\n",
    "    for p in tqdm(join):\n",
    "        size = pil_image.open(expand_path(p)).size\n",
    "        p2size[p] = size"
   ]
  },
  {
   "cell_type": "code",
   "execution_count": 5,
   "metadata": {},
   "outputs": [],
   "source": [
    "def match(h1, h2):\n",
    "    for p1 in h2ps[h1]:\n",
    "        for p2 in h2ps[h2]:\n",
    "            i1 = pil_image.open(expand_path(p1))\n",
    "            i2 = pil_image.open(expand_path(p2))\n",
    "            if i1.mode != i2.mode or i1.size != i2.size: return False\n",
    "            a1 = np.array(i1)\n",
    "            a1 = a1 - a1.mean()\n",
    "            a1 = a1 / sqrt((a1 ** 2).mean())\n",
    "            a2 = np.array(i2)\n",
    "            a2 = a2 - a2.mean()\n",
    "            a2 = a2 / sqrt((a2 ** 2).mean())\n",
    "            a = ((a1 - a2) ** 2).mean()\n",
    "            if a > 0.1: return False\n",
    "    return True"
   ]
  },
  {
   "cell_type": "code",
   "execution_count": 6,
   "metadata": {},
   "outputs": [
    {
     "name": "stdout",
     "output_type": "stream",
     "text": [
      "P2H exists.\n"
     ]
    }
   ],
   "source": [
    "if isfile(P2H):\n",
    "    print(\"P2H exists.\")\n",
    "    with open(P2H, 'rb') as f:\n",
    "        p2h = pickle.load(f)\n",
    "else:\n",
    "    # Compute phash for each image in the training and test set.\n",
    "    p2h = {}\n",
    "    for p in tqdm(join):\n",
    "        img = pil_image.open(expand_path(p))\n",
    "        h = phash(img)\n",
    "        p2h[p] = h\n",
    "\n",
    "    # Find all images associated with a given phash value.\n",
    "    h2ps = {}\n",
    "    for p, h in p2h.items():\n",
    "        if h not in h2ps: h2ps[h] = []\n",
    "        if p not in h2ps[h]: h2ps[h].append(p)\n",
    "\n",
    "    # Find all distinct phash values\n",
    "    hs = list(h2ps.keys())\n",
    "\n",
    "    # If the images are close enough, associate the two phash values (this is the slow part: n^2 algorithm)\n",
    "    h2h = {}\n",
    "    for i, h1 in enumerate(tqdm(hs)):\n",
    "        for h2 in hs[:i]:\n",
    "            if h1 - h2 <= 6 and match(h1, h2):\n",
    "                s1 = str(h1)\n",
    "                s2 = str(h2)\n",
    "                if s1 < s2: s1, s2 = s2, s1\n",
    "                h2h[s1] = s2\n",
    "\n",
    "    # Group together images with equivalent phash, and replace by string format of phash (faster and more readable)\n",
    "    for p, h in p2h.items():\n",
    "        h = str(h)\n",
    "        if h in h2h: h = h2h[h]\n",
    "        p2h[p] = h\n",
    "#     with open(P2H, 'wb') as f:\n",
    "#         pickle.dump(p2h, f)\n",
    "# For each image id, determine the list of pictures\n",
    "h2ps = {}\n",
    "for p, h in p2h.items():\n",
    "    if h not in h2ps: h2ps[h] = []\n",
    "    if p not in h2ps[h]: h2ps[h].append(p)"
   ]
  },
  {
   "cell_type": "code",
   "execution_count": 7,
   "metadata": {},
   "outputs": [],
   "source": [
    "def show_whale(imgs, per_row=2):\n",
    "    n = len(imgs)\n",
    "    rows = (n + per_row - 1) // per_row\n",
    "    cols = min(per_row, n)\n",
    "    fig, axes = plt.subplots(rows, cols, figsize=(24 // per_row * cols, 24 // per_row * rows))\n",
    "    for ax in axes.flatten(): ax.axis('off')\n",
    "    for i, (img, ax) in enumerate(zip(imgs, axes.flatten())): ax.imshow(img.convert('RGB'))\n",
    "        \n",
    "\n",
    "def read_raw_image(p):\n",
    "    img = pil_image.open(expand_path(p))\n",
    "    return img"
   ]
  },
  {
   "cell_type": "code",
   "execution_count": 8,
   "metadata": {},
   "outputs": [
    {
     "data": {
      "text/plain": [
       "(33317,\n",
       " [('d26698c3271c757c', '0000e88ab.jpg'),\n",
       "  ('ba8cc231ad489b77', '0001f9222.jpg'),\n",
       "  ('bbcad234a52d0f0b', '00029d126.jpg'),\n",
       "  ('c09ae7dc09f33a29', '00050a15a.jpg'),\n",
       "  ('d02f65ba9f74a08a', '0005c1ef8.jpg')])"
      ]
     },
     "execution_count": 8,
     "metadata": {},
     "output_type": "execute_result"
    }
   ],
   "source": [
    "# For each images id, select the prefered image\n",
    "def prefer(ps):\n",
    "    if len(ps) == 1: return ps[0]\n",
    "    best_p = ps[0]\n",
    "    best_s = p2size[best_p]\n",
    "    for i in range(1, len(ps)):\n",
    "        p = ps[i]\n",
    "        s = p2size[p]\n",
    "        if s[0] * s[1] > best_s[0] * best_s[1]:  # Select the image with highest resolution\n",
    "            best_p = p\n",
    "            best_s = s\n",
    "    return best_p\n",
    "\n",
    "h2p = {}\n",
    "for h, ps in h2ps.items():\n",
    "    h2p[h] = prefer(ps)\n",
    "len(h2p), list(h2p.items())[:5]"
   ]
  },
  {
   "cell_type": "code",
   "execution_count": 9,
   "metadata": {},
   "outputs": [],
   "source": [
    "# Read the bounding box data from the bounding box kernel (see reference above)\n",
    "p2bb = pd.read_csv(BB_DF).set_index(\"Image\")\n",
    "\n",
    "old_stderr = sys.stderr\n",
    "sys.stderr = open('/dev/null' if platform.system() != 'Windows' else 'nul', 'w')\n",
    "\n",
    "sys.stderr = old_stderr\n",
    "\n",
    "img_shape = (384, 384, 1)  # The image shape used by the model\n",
    "anisotropy = 2.15  # The horizontal compression ratio\n",
    "crop_margin = 0.05  # The margin added around the bounding box to compensate for bounding box inaccuracy"
   ]
  },
  {
   "cell_type": "code",
   "execution_count": 10,
   "metadata": {},
   "outputs": [],
   "source": [
    "def build_transform(rotation, shear, height_zoom, width_zoom, height_shift, width_shift):\n",
    "    \"\"\"\n",
    "    Build a transformation matrix with the specified characteristics.\n",
    "    \"\"\"\n",
    "    rotation = np.deg2rad(rotation)\n",
    "    shear = np.deg2rad(shear)\n",
    "    rotation_matrix = np.array(\n",
    "        [[np.cos(rotation), np.sin(rotation), 0], [-np.sin(rotation), np.cos(rotation), 0], [0, 0, 1]])\n",
    "    shift_matrix = np.array([[1, 0, height_shift], [0, 1, width_shift], [0, 0, 1]])\n",
    "    shear_matrix = np.array([[1, np.sin(shear), 0], [0, np.cos(shear), 0], [0, 0, 1]])\n",
    "    zoom_matrix = np.array([[1.0 / height_zoom, 0, 0], [0, 1.0 / width_zoom, 0], [0, 0, 1]])\n",
    "    shift_matrix = np.array([[1, 0, -height_shift], [0, 1, -width_shift], [0, 0, 1]])\n",
    "    return np.dot(np.dot(rotation_matrix, shear_matrix), np.dot(zoom_matrix, shift_matrix))"
   ]
  },
  {
   "cell_type": "code",
   "execution_count": 11,
   "metadata": {},
   "outputs": [],
   "source": [
    "def read_cropped_image(p, augment):\n",
    "    \"\"\"\n",
    "    @param p : the name of the picture to read\n",
    "    @param augment: True/False if data augmentation should be performed\n",
    "    @return a numpy array with the transformed image\n",
    "    \"\"\"\n",
    "    # If an image id was given, convert to filename\n",
    "    if p in h2p:\n",
    "        p = h2p[p]\n",
    "    size_x, size_y = p2size[p]\n",
    "\n",
    "    # Determine the region of the original image we want to capture based on the bounding box.\n",
    "    row = p2bb.loc[p]\n",
    "    x0, y0, x1, y1 = row['x0'], row['y0'], row['x1'], row['y1']\n",
    "    dx = x1 - x0\n",
    "    dy = y1 - y0\n",
    "    x0 -= dx * crop_margin\n",
    "    x1 += dx * crop_margin + 1\n",
    "    y0 -= dy * crop_margin\n",
    "    y1 += dy * crop_margin + 1\n",
    "    if x0 < 0:\n",
    "        x0 = 0\n",
    "    if x1 > size_x:\n",
    "        x1 = size_x\n",
    "    if y0 < 0:\n",
    "        y0 = 0\n",
    "    if y1 > size_y:\n",
    "        y1 = size_y\n",
    "    dx = x1 - x0\n",
    "    dy = y1 - y0\n",
    "    if dx > dy * anisotropy:\n",
    "        dy = 0.5 * (dx / anisotropy - dy)\n",
    "        y0 -= dy\n",
    "        y1 += dy\n",
    "    else:\n",
    "        dx = 0.5 * (dy * anisotropy - dx)\n",
    "        x0 -= dx\n",
    "        x1 += dx\n",
    "\n",
    "    # Generate the transformation matrix\n",
    "    trans = np.array([[1, 0, -0.5 * img_shape[0]], [0, 1, -0.5 * img_shape[1]], [0, 0, 1]])\n",
    "    trans = np.dot(np.array([[(y1 - y0) / img_shape[0], 0, 0], [0, (x1 - x0) / img_shape[1], 0], [0, 0, 1]]), trans)\n",
    "    if augment:\n",
    "        trans = np.dot(build_transform(\n",
    "            random.uniform(-5, 5),\n",
    "            random.uniform(-5, 5),\n",
    "            random.uniform(0.8, 1.0),\n",
    "            random.uniform(0.8, 1.0),\n",
    "            random.uniform(-0.05 * (y1 - y0), 0.05 * (y1 - y0)),\n",
    "            random.uniform(-0.05 * (x1 - x0), 0.05 * (x1 - x0))\n",
    "        ), trans)\n",
    "    trans = np.dot(np.array([[1, 0, 0.5 * (y1 + y0)], [0, 1, 0.5 * (x1 + x0)], [0, 0, 1]]), trans)\n",
    "\n",
    "    # Read the image, transform to black and white and comvert to numpy array\n",
    "    img = read_raw_image(p).convert('L')\n",
    "#     img = read_raw_image(p).convert('RGB')\n",
    "    img = img_to_array(img)\n",
    "\n",
    "    # Apply affine transformation\n",
    "    matrix = trans[:2, :2]\n",
    "    offset = trans[:2, 2]\n",
    "#     print(img.shape[:-1], img.shape)\n",
    "    img = img.reshape(img.shape[:-1])\n",
    "#     img = img.reshape(-1,1)\n",
    "    img = affine_transform(img, matrix, offset, output_shape=img_shape[:-1], order=1, mode='constant',\n",
    "                           cval=np.average(img))\n",
    "#     img = affine_transform(img, matrix, offset, output_shape=img.shape, order=1, mode='constant',\n",
    "#                            cval=np.average(img))\n",
    "    img = img.reshape(img_shape)\n",
    "\n",
    "    # Normalize to zero mean and unit variance\n",
    "    img -= np.mean(img, keepdims=True)\n",
    "    img /= np.std(img, keepdims=True) + K.epsilon()\n",
    "    return img\n",
    "\n",
    "def read_for_training(p):\n",
    "    \"\"\"\n",
    "    Read and preprocess an image with data augmentation (random transform).\n",
    "    \"\"\"\n",
    "    return read_cropped_image(p, True)\n",
    "\n",
    "\n",
    "def read_for_validation(p):\n",
    "    \"\"\"\n",
    "    Read and preprocess an image without data augmentation (use for testing).\n",
    "    \"\"\"\n",
    "    return read_cropped_image(p, False)\n",
    "\n",
    "\n",
    "p = list(tagged.keys())[312]"
   ]
  },
  {
   "cell_type": "code",
   "execution_count": 12,
   "metadata": {},
   "outputs": [],
   "source": [
    "def subblock(x, filter, **kwargs):\n",
    "    x = BatchNormalization()(x)\n",
    "    y = x\n",
    "    y = Conv2D(filter, (1, 1), activation='relu', **kwargs)(y)  # Reduce the number of features to 'filter'\n",
    "    y = BatchNormalization()(y)\n",
    "    y = Conv2D(filter, (3, 3), activation='relu', **kwargs)(y)  # Extend the feature field\n",
    "    y = BatchNormalization()(y)\n",
    "    y = Conv2D(K.int_shape(x)[-1], (1, 1), **kwargs)(y)  # no activation # Restore the number of original features\n",
    "    y = Add()([x, y])  # Add the bypass connection\n",
    "    y = Activation('relu')(y)\n",
    "    return y\n",
    "\n",
    "\n",
    "def build_model(lr, l2, activation='sigmoid'):\n",
    "    ##############\n",
    "    # BRANCH MODEL\n",
    "    ##############\n",
    "    regul = regularizers.l2(l2)\n",
    "    optim = Adam(lr=lr)\n",
    "    kwargs = {'padding': 'same', 'kernel_regularizer': regul}\n",
    "\n",
    "    inp = Input(shape=img_shape)  # 384x384x1\n",
    "    x = Conv2D(64, (9, 9), strides=2, activation='relu', **kwargs)(inp)\n",
    "\n",
    "    x = MaxPooling2D((2, 2), strides=(2, 2))(x)  # 96x96x64\n",
    "    for _ in range(2):\n",
    "        x = BatchNormalization()(x)\n",
    "        x = Conv2D(64, (3, 3), activation='relu', **kwargs)(x)\n",
    "\n",
    "    x = MaxPooling2D((2, 2), strides=(2, 2))(x)  # 48x48x64\n",
    "    x = BatchNormalization()(x)\n",
    "    x = Conv2D(128, (1, 1), activation='relu', **kwargs)(x)  # 48x48x128\n",
    "    for _ in range(4):\n",
    "        x = subblock(x, 64, **kwargs)\n",
    "\n",
    "    x = MaxPooling2D((2, 2), strides=(2, 2))(x)  # 24x24x128\n",
    "    x = BatchNormalization()(x)\n",
    "    x = Conv2D(256, (1, 1), activation='relu', **kwargs)(x)  # 24x24x256\n",
    "    for _ in range(4):\n",
    "        x = subblock(x, 64, **kwargs)\n",
    "\n",
    "    x = MaxPooling2D((2, 2), strides=(2, 2))(x)  # 12x12x256\n",
    "    x = BatchNormalization()(x)\n",
    "    x = Conv2D(384, (1, 1), activation='relu', **kwargs)(x)  # 12x12x384\n",
    "    for _ in range(4):\n",
    "        x = subblock(x, 96, **kwargs)\n",
    "\n",
    "    x = MaxPooling2D((2, 2), strides=(2, 2))(x)  # 6x6x384\n",
    "    x = BatchNormalization()(x)\n",
    "    x = Conv2D(512, (1, 1), activation='relu', **kwargs)(x)  # 6x6x512\n",
    "    for _ in range(4):\n",
    "        x = subblock(x, 128, **kwargs)\n",
    "\n",
    "    x = GlobalMaxPooling2D()(x)  # 512\n",
    "    branch_model = Model(inp, x)\n",
    "\n",
    "    ############\n",
    "    # HEAD MODEL\n",
    "    ############\n",
    "    mid = 32\n",
    "    xa_inp = Input(shape=branch_model.output_shape[1:])\n",
    "    xb_inp = Input(shape=branch_model.output_shape[1:])\n",
    "    x1 = Lambda(lambda x: x[0] * x[1])([xa_inp, xb_inp])\n",
    "    x2 = Lambda(lambda x: x[0] + x[1])([xa_inp, xb_inp])\n",
    "    x3 = Lambda(lambda x: K.abs(x[0] - x[1]))([xa_inp, xb_inp])\n",
    "    x4 = Lambda(lambda x: K.square(x))(x3)\n",
    "    x = Concatenate()([x1, x2, x3, x4])\n",
    "    x = Reshape((4, branch_model.output_shape[1], 1), name='reshape1')(x)\n",
    "\n",
    "    # Per feature NN with shared weight is implemented using CONV2D with appropriate stride.\n",
    "    x = Conv2D(mid, (4, 1), activation='relu', padding='valid')(x)\n",
    "    x = Reshape((branch_model.output_shape[1], mid, 1))(x)\n",
    "    x = Conv2D(1, (1, mid), activation='linear', padding='valid')(x)\n",
    "    x = Flatten(name='flatten')(x)\n",
    "\n",
    "    # Weighted sum implemented as a Dense layer.\n",
    "    x = Dense(1, use_bias=True, activation=activation, name='weighted-average')(x)\n",
    "    head_model = Model([xa_inp, xb_inp], x, name='head')\n",
    "    \n",
    "   \n",
    "    ########################\n",
    "    # SIAMESE NEURAL NETWORK\n",
    "    ########################\n",
    "    # Complete model is constructed by calling the branch model on each input image,\n",
    "    # and then the head model on the resulting 512-vectors.\n",
    "    img_a = Input(shape=img_shape)\n",
    "    img_b = Input(shape=img_shape)\n",
    "    xa = branch_model(img_a)\n",
    "    xb = branch_model(img_b)\n",
    "    x = head_model([xa, xb])\n",
    "#     x = head_model([xa])\n",
    "    model = Model([img_a, img_b], x)\n",
    "    model.compile(optim, loss='binary_crossentropy', metrics=['binary_crossentropy', 'acc'])\n",
    "    return model, branch_model, branch_model\n",
    "#     return model, branch_model, head_model\n"
   ]
  },
  {
   "cell_type": "code",
   "execution_count": 13,
   "metadata": {},
   "outputs": [],
   "source": [
    "model, branch_model, head_model = build_model(64e-5, 0)"
   ]
  },
  {
   "cell_type": "code",
   "execution_count": 14,
   "metadata": {},
   "outputs": [],
   "source": [
    "h2ws = {}\n",
    "new_whale = 'new_whale'\n",
    "for p, w in tagged.items():\n",
    "    if w != new_whale:  # Use only identified whales\n",
    "        h = p2h[p]\n",
    "        if h not in h2ws: h2ws[h] = []\n",
    "        if w not in h2ws[h]: h2ws[h].append(w)\n",
    "for h, ws in h2ws.items():\n",
    "    if len(ws) > 1:\n",
    "        h2ws[h] = sorted(ws)\n",
    "\n",
    "# For each whale, find the unambiguous images ids.\n",
    "w2hs = {}\n",
    "for h, ws in h2ws.items():\n",
    "    if len(ws) == 1:  # Use only unambiguous pictures\n",
    "        w = ws[0]\n",
    "        if w not in w2hs: w2hs[w] = []\n",
    "        if h not in w2hs[w]: w2hs[w].append(h)\n",
    "for w, hs in w2hs.items():\n",
    "    if len(hs) > 1:\n",
    "        w2hs[w] = sorted(hs)"
   ]
  },
  {
   "cell_type": "code",
   "execution_count": 15,
   "metadata": {},
   "outputs": [],
   "source": [
    "train = []  # A list of training image ids\n",
    "for hs in w2hs.values():\n",
    "    if len(hs) > 1:\n",
    "        train += hs\n",
    "random.shuffle(train)\n",
    "train_set = set(train)\n",
    "\n",
    "w2ts = {}  # Associate the image ids from train to each whale id.\n",
    "for w, hs in w2hs.items():\n",
    "    for h in hs:\n",
    "        if h in train_set:\n",
    "            if w not in w2ts:\n",
    "                w2ts[w] = []\n",
    "            if h not in w2ts[w]:\n",
    "                w2ts[w].append(h)\n",
    "for w, ts in w2ts.items():\n",
    "    w2ts[w] = np.array(ts)\n",
    "\n",
    "t2i = {}  # The position in train of each training image id\n",
    "for i, t in enumerate(train):\n",
    "    t2i[t] = i\n"
   ]
  },
  {
   "cell_type": "code",
   "execution_count": 16,
   "metadata": {},
   "outputs": [
    {
     "name": "stdout",
     "output_type": "stream",
     "text": [
      "(13623, 13623)\n"
     ]
    }
   ],
   "source": [
    "import threading\n",
    "class TrainingData(Sequence):\n",
    "    def __init__(self, score, steps=1000, batch_size=32):\n",
    "        \"\"\"\n",
    "        @param score the cost matrix for the picture matching\n",
    "        @param steps the number of epoch we are planning with this score matrix\n",
    "        \"\"\"\n",
    "        super(TrainingData, self).__init__()\n",
    "        self.score = -score  # Maximizing the score is the same as minimuzing -score.\n",
    "        self.steps = steps\n",
    "        self.batch_size = batch_size\n",
    "        for ts in w2ts.values():\n",
    "            idxs = [t2i[t] for t in ts]\n",
    "            for i in idxs:\n",
    "                for j in idxs:\n",
    "                    self.score[\n",
    "                        i, j] = 10000.0  # Set a large value for matching whales -- eliminates this potential pairing\n",
    "        self.on_epoch_end()\n",
    "\n",
    "    def __getitem__(self, index):\n",
    "        start = self.batch_size * index\n",
    "        end = min(start + self.batch_size, len(self.match) + len(self.unmatch))\n",
    "        size = end - start\n",
    "        assert size > 0\n",
    "        a = np.zeros((size,) + img_shape, dtype=K.floatx())\n",
    "        b = np.zeros((size,) + img_shape, dtype=K.floatx())\n",
    "        c = np.zeros((size, 1), dtype=K.floatx())\n",
    "        j = start // 2\n",
    "        for i in range(0, size, 2):\n",
    "            a[i, :, :, :] = read_for_training(self.match[j][0])\n",
    "            b[i, :, :, :] = read_for_training(self.match[j][1])\n",
    "            c[i, 0] = 1  # This is a match\n",
    "            a[i + 1, :, :, :] = read_for_training(self.unmatch[j][0])\n",
    "            b[i + 1, :, :, :] = read_for_training(self.unmatch[j][1])\n",
    "            c[i + 1, 0] = 0  # Different whales\n",
    "            j += 1\n",
    "        return [a, b], c\n",
    "\n",
    "    def on_epoch_end(self):\n",
    "        if self.steps <= 0: return  # Skip this on the last epoch.\n",
    "        self.steps -= 1\n",
    "        self.match = []\n",
    "        self.unmatch = []\n",
    "        \n",
    "        num_threads = 6\n",
    "        tmp   = num_threads*[None]\n",
    "        threads   = []\n",
    "        thread_input   = num_threads*[None]\n",
    "        thread_idx = 0\n",
    "        batch = self.score.shape[0] // (num_threads-1)\n",
    "        for start in range(0, self.score.shape[0], batch):\n",
    "            end = min(score.shape[0], start + batch)\n",
    "#             print(self.score.shape)\n",
    "#             print(start, end)\n",
    "            thread_input[thread_idx]  = self.score[start:end, start:end]\n",
    "            thread_idx += 1\n",
    "\n",
    "        def worker(data_idx):\n",
    "#             _,_,x = lapjv(thread_input[data_idx]) \n",
    "            x,_,_ = lapjv(thread_input[data_idx]) \n",
    "            tmp[data_idx] = x\n",
    "\n",
    "#         print(\"Start worker threads\")\n",
    "        for i in range(num_threads):\n",
    "            t = threading.Thread(target=worker, args=(i,), daemon=True)\n",
    "            t.start()\n",
    "            threads.append(t)\n",
    "        for t in threads:\n",
    "            if t is not None:\n",
    "                t.join()\n",
    "        x = np.concatenate(tmp)\n",
    "#         print(\"LAP completed\")\n",
    "            \n",
    "#         _, _, x = lapjv(self.score)  # Solve the linear assignment problem\n",
    "#         x, _, _ = lapjv(self.score)  # Solve the linear assignment problem\n",
    "        y = np.arange(len(x), dtype=np.int32)\n",
    "\n",
    "        # Compute a derangement for matching whales\n",
    "        for ts in w2ts.values():\n",
    "            d = ts.copy()\n",
    "            while True:\n",
    "                random.shuffle(d)\n",
    "                if not np.any(ts == d): break\n",
    "            for ab in zip(ts, d): self.match.append(ab)\n",
    "\n",
    "        # Construct unmatched whale pairs from the LAP solution.\n",
    "        for i, j in zip(x, y):\n",
    "            if i == j:\n",
    "                print(self.score)\n",
    "                print(x)\n",
    "                print(y)\n",
    "                print(i, j)\n",
    "            assert i != j\n",
    "#             print(i,j)\n",
    "            self.unmatch.append((train[i], train[j]))\n",
    "\n",
    "        # Force a different choice for an eventual next epoch.\n",
    "        self.score[x, y] = 10000.0\n",
    "        self.score[y, x] = 10000.0\n",
    "        random.shuffle(self.match)\n",
    "        random.shuffle(self.unmatch)\n",
    "        # print(len(self.match), len(train), len(self.unmatch), len(train))\n",
    "        assert len(self.match) == len(train) and len(self.unmatch) == len(train)\n",
    "\n",
    "    def __len__(self):\n",
    "        return (len(self.match) + len(self.unmatch) + self.batch_size - 1) // self.batch_size\n",
    "\n",
    "\n",
    "# Test on a batch of 32 with random costs.\n",
    "score = np.random.random_sample(size=(len(train), len(train)))\n",
    "print(score.shape)\n",
    "data = TrainingData(score)\n",
    "(a, b), c = data[0]"
   ]
  },
  {
   "cell_type": "code",
   "execution_count": 17,
   "metadata": {},
   "outputs": [
    {
     "name": "stdout",
     "output_type": "stream",
     "text": [
      "[[[[ 0.08818758]\n",
      "   [ 0.08818758]\n",
      "   [ 0.08818758]\n",
      "   ...\n",
      "   [ 0.08818758]\n",
      "   [ 0.08818758]\n",
      "   [ 0.08818758]]\n",
      "\n",
      "  [[ 0.08818758]\n",
      "   [ 0.08818758]\n",
      "   [ 0.08818758]\n",
      "   ...\n",
      "   [ 0.08818758]\n",
      "   [ 0.08818758]\n",
      "   [ 0.08818758]]\n",
      "\n",
      "  [[ 0.08818758]\n",
      "   [ 0.08818758]\n",
      "   [ 0.08818758]\n",
      "   ...\n",
      "   [ 0.08818758]\n",
      "   [ 0.08818758]\n",
      "   [ 0.08818758]]\n",
      "\n",
      "  ...\n",
      "\n",
      "  [[ 0.08818758]\n",
      "   [ 0.08818758]\n",
      "   [ 0.08818758]\n",
      "   ...\n",
      "   [ 0.08818758]\n",
      "   [ 0.08818758]\n",
      "   [ 0.08818758]]\n",
      "\n",
      "  [[ 0.08818758]\n",
      "   [ 0.08818758]\n",
      "   [ 0.08818758]\n",
      "   ...\n",
      "   [ 0.08818758]\n",
      "   [ 0.08818758]\n",
      "   [ 0.08818758]]\n",
      "\n",
      "  [[ 0.08818758]\n",
      "   [ 0.08818758]\n",
      "   [ 0.08818758]\n",
      "   ...\n",
      "   [ 0.08818758]\n",
      "   [ 0.08818758]\n",
      "   [ 0.08818758]]]\n",
      "\n",
      "\n",
      " [[[ 0.0015886 ]\n",
      "   [ 0.0015886 ]\n",
      "   [ 0.0015886 ]\n",
      "   ...\n",
      "   [ 0.0015886 ]\n",
      "   [ 0.0015886 ]\n",
      "   [ 0.0015886 ]]\n",
      "\n",
      "  [[ 0.0015886 ]\n",
      "   [ 0.0015886 ]\n",
      "   [ 0.0015886 ]\n",
      "   ...\n",
      "   [ 0.0015886 ]\n",
      "   [ 0.0015886 ]\n",
      "   [ 0.0015886 ]]\n",
      "\n",
      "  [[ 0.0015886 ]\n",
      "   [ 0.0015886 ]\n",
      "   [ 0.0015886 ]\n",
      "   ...\n",
      "   [ 0.0015886 ]\n",
      "   [ 0.0015886 ]\n",
      "   [ 0.0015886 ]]\n",
      "\n",
      "  ...\n",
      "\n",
      "  [[ 0.0015886 ]\n",
      "   [ 0.0015886 ]\n",
      "   [ 0.0015886 ]\n",
      "   ...\n",
      "   [ 0.0015886 ]\n",
      "   [ 0.0015886 ]\n",
      "   [ 0.0015886 ]]\n",
      "\n",
      "  [[ 0.0015886 ]\n",
      "   [ 0.0015886 ]\n",
      "   [ 0.0015886 ]\n",
      "   ...\n",
      "   [ 0.0015886 ]\n",
      "   [ 0.0015886 ]\n",
      "   [ 0.0015886 ]]\n",
      "\n",
      "  [[ 0.0015886 ]\n",
      "   [ 0.0015886 ]\n",
      "   [ 0.0015886 ]\n",
      "   ...\n",
      "   [ 0.0015886 ]\n",
      "   [ 0.0015886 ]\n",
      "   [ 0.0015886 ]]]\n",
      "\n",
      "\n",
      " [[[ 0.00194202]\n",
      "   [ 0.00194202]\n",
      "   [ 0.00194202]\n",
      "   ...\n",
      "   [ 0.00194202]\n",
      "   [ 0.00194202]\n",
      "   [ 0.00194202]]\n",
      "\n",
      "  [[ 0.00194202]\n",
      "   [ 0.00194202]\n",
      "   [ 0.00194202]\n",
      "   ...\n",
      "   [ 0.00194202]\n",
      "   [ 0.00194202]\n",
      "   [ 0.00194202]]\n",
      "\n",
      "  [[ 0.00194202]\n",
      "   [ 0.00194202]\n",
      "   [ 0.00194202]\n",
      "   ...\n",
      "   [ 0.00194202]\n",
      "   [ 0.00194202]\n",
      "   [ 0.00194202]]\n",
      "\n",
      "  ...\n",
      "\n",
      "  [[ 0.00194202]\n",
      "   [ 0.00194202]\n",
      "   [ 0.00194202]\n",
      "   ...\n",
      "   [ 0.00194202]\n",
      "   [ 0.00194202]\n",
      "   [ 0.00194202]]\n",
      "\n",
      "  [[ 0.00194202]\n",
      "   [ 0.00194202]\n",
      "   [ 0.00194202]\n",
      "   ...\n",
      "   [ 0.00194202]\n",
      "   [ 0.00194202]\n",
      "   [ 0.00194202]]\n",
      "\n",
      "  [[ 0.00194202]\n",
      "   [ 0.00194202]\n",
      "   [ 0.00194202]\n",
      "   ...\n",
      "   [ 0.00194202]\n",
      "   [ 0.00194202]\n",
      "   [ 0.00194202]]]\n",
      "\n",
      "\n",
      " ...\n",
      "\n",
      "\n",
      " [[[ 0.05037455]\n",
      "   [ 0.05037455]\n",
      "   [ 0.05037455]\n",
      "   ...\n",
      "   [ 0.05037455]\n",
      "   [ 0.05037455]\n",
      "   [ 0.05037455]]\n",
      "\n",
      "  [[ 0.05037455]\n",
      "   [ 0.05037455]\n",
      "   [ 0.05037455]\n",
      "   ...\n",
      "   [ 0.05037455]\n",
      "   [ 0.05037455]\n",
      "   [ 0.05037455]]\n",
      "\n",
      "  [[ 0.05037455]\n",
      "   [ 0.05037455]\n",
      "   [ 0.05037455]\n",
      "   ...\n",
      "   [ 0.05037455]\n",
      "   [ 0.05037455]\n",
      "   [ 0.05037455]]\n",
      "\n",
      "  ...\n",
      "\n",
      "  [[ 0.05037455]\n",
      "   [ 0.05037455]\n",
      "   [ 0.05037455]\n",
      "   ...\n",
      "   [ 0.05037455]\n",
      "   [ 0.05037455]\n",
      "   [ 0.05037455]]\n",
      "\n",
      "  [[ 0.05037455]\n",
      "   [ 0.05037455]\n",
      "   [ 0.05037455]\n",
      "   ...\n",
      "   [ 0.05037455]\n",
      "   [ 0.05037455]\n",
      "   [ 0.05037455]]\n",
      "\n",
      "  [[ 0.05037455]\n",
      "   [ 0.05037455]\n",
      "   [ 0.05037455]\n",
      "   ...\n",
      "   [ 0.05037455]\n",
      "   [ 0.05037455]\n",
      "   [ 0.05037455]]]\n",
      "\n",
      "\n",
      " [[[ 0.00216274]\n",
      "   [ 0.00216274]\n",
      "   [ 0.00216274]\n",
      "   ...\n",
      "   [ 0.00216274]\n",
      "   [ 0.00216274]\n",
      "   [ 0.00216274]]\n",
      "\n",
      "  [[ 0.00216274]\n",
      "   [ 0.00216274]\n",
      "   [ 0.00216274]\n",
      "   ...\n",
      "   [ 0.00216274]\n",
      "   [ 0.00216274]\n",
      "   [ 0.00216274]]\n",
      "\n",
      "  [[ 0.00216274]\n",
      "   [ 0.00216274]\n",
      "   [ 0.00216274]\n",
      "   ...\n",
      "   [ 0.00216274]\n",
      "   [ 0.00216274]\n",
      "   [ 0.00216274]]\n",
      "\n",
      "  ...\n",
      "\n",
      "  [[ 0.00216274]\n",
      "   [ 0.00216274]\n",
      "   [ 0.00216274]\n",
      "   ...\n",
      "   [ 0.00216274]\n",
      "   [ 0.00216274]\n",
      "   [ 0.00216274]]\n",
      "\n",
      "  [[ 0.00216274]\n",
      "   [ 0.00216274]\n",
      "   [ 0.00216274]\n",
      "   ...\n",
      "   [ 0.00216274]\n",
      "   [ 0.00216274]\n",
      "   [ 0.00216274]]\n",
      "\n",
      "  [[ 0.00216274]\n",
      "   [ 0.00216274]\n",
      "   [ 0.00216274]\n",
      "   ...\n",
      "   [ 0.00216274]\n",
      "   [ 0.00216274]\n",
      "   [ 0.00216274]]]\n",
      "\n",
      "\n",
      " [[[ 0.50884366]\n",
      "   [ 0.55742794]\n",
      "   [ 0.56745684]\n",
      "   ...\n",
      "   [ 0.11318189]\n",
      "   [ 0.11318189]\n",
      "   [ 0.11318189]]\n",
      "\n",
      "  [[ 0.51019764]\n",
      "   [ 0.5498374 ]\n",
      "   [ 0.5591635 ]\n",
      "   ...\n",
      "   [ 0.11318189]\n",
      "   [ 0.11318189]\n",
      "   [ 0.11318189]]\n",
      "\n",
      "  [[ 0.49534944]\n",
      "   [ 0.539975  ]\n",
      "   [ 0.53421104]\n",
      "   ...\n",
      "   [ 0.11318189]\n",
      "   [ 0.11318189]\n",
      "   [ 0.11318189]]\n",
      "\n",
      "  ...\n",
      "\n",
      "  [[-0.84479696]\n",
      "   [-0.51925415]\n",
      "   [-0.43393672]\n",
      "   ...\n",
      "   [ 0.11318189]\n",
      "   [ 0.11318189]\n",
      "   [ 0.11318189]]\n",
      "\n",
      "  [[-0.6427897 ]\n",
      "   [-0.5222317 ]\n",
      "   [-0.6787322 ]\n",
      "   ...\n",
      "   [ 0.11318189]\n",
      "   [ 0.11318189]\n",
      "   [ 0.11318189]]\n",
      "\n",
      "  [[-1.0064445 ]\n",
      "   [-1.0728664 ]\n",
      "   [-1.1817478 ]\n",
      "   ...\n",
      "   [ 0.11318189]\n",
      "   [ 0.11318189]\n",
      "   [ 0.11318189]]]] [[[[7.2712198e-02]\n",
      "   [7.2712198e-02]\n",
      "   [7.2712198e-02]\n",
      "   ...\n",
      "   [7.2712198e-02]\n",
      "   [7.2712198e-02]\n",
      "   [7.2712198e-02]]\n",
      "\n",
      "  [[7.2712198e-02]\n",
      "   [7.2712198e-02]\n",
      "   [7.2712198e-02]\n",
      "   ...\n",
      "   [7.2712198e-02]\n",
      "   [7.2712198e-02]\n",
      "   [7.2712198e-02]]\n",
      "\n",
      "  [[7.2712198e-02]\n",
      "   [7.2712198e-02]\n",
      "   [7.2712198e-02]\n",
      "   ...\n",
      "   [7.2712198e-02]\n",
      "   [7.2712198e-02]\n",
      "   [7.2712198e-02]]\n",
      "\n",
      "  ...\n",
      "\n",
      "  [[7.2712198e-02]\n",
      "   [7.2712198e-02]\n",
      "   [7.2712198e-02]\n",
      "   ...\n",
      "   [7.2712198e-02]\n",
      "   [7.2712198e-02]\n",
      "   [7.2712198e-02]]\n",
      "\n",
      "  [[7.2712198e-02]\n",
      "   [7.2712198e-02]\n",
      "   [7.2712198e-02]\n",
      "   ...\n",
      "   [7.2712198e-02]\n",
      "   [7.2712198e-02]\n",
      "   [7.2712198e-02]]\n",
      "\n",
      "  [[7.2712198e-02]\n",
      "   [7.2712198e-02]\n",
      "   [7.2712198e-02]\n",
      "   ...\n",
      "   [7.2712198e-02]\n",
      "   [7.2712198e-02]\n",
      "   [7.2712198e-02]]]\n",
      "\n",
      "\n",
      " [[[3.4418497e-02]\n",
      "   [3.4418497e-02]\n",
      "   [3.4418497e-02]\n",
      "   ...\n",
      "   [5.1457232e-01]\n",
      "   [3.4418497e-02]\n",
      "   [3.4418497e-02]]\n",
      "\n",
      "  [[3.4418497e-02]\n",
      "   [3.4418497e-02]\n",
      "   [3.4418497e-02]\n",
      "   ...\n",
      "   [5.6288940e-01]\n",
      "   [3.4418497e-02]\n",
      "   [3.4418497e-02]]\n",
      "\n",
      "  [[3.4418497e-02]\n",
      "   [3.4418497e-02]\n",
      "   [3.4418497e-02]\n",
      "   ...\n",
      "   [5.6315303e-01]\n",
      "   [3.4418497e-02]\n",
      "   [3.4418497e-02]]\n",
      "\n",
      "  ...\n",
      "\n",
      "  [[3.4418497e-02]\n",
      "   [3.4418497e-02]\n",
      "   [3.4418497e-02]\n",
      "   ...\n",
      "   [3.4418497e-02]\n",
      "   [3.4418497e-02]\n",
      "   [3.4418497e-02]]\n",
      "\n",
      "  [[3.4418497e-02]\n",
      "   [3.4418497e-02]\n",
      "   [3.4418497e-02]\n",
      "   ...\n",
      "   [3.4418497e-02]\n",
      "   [3.4418497e-02]\n",
      "   [3.4418497e-02]]\n",
      "\n",
      "  [[3.4418497e-02]\n",
      "   [3.4418497e-02]\n",
      "   [3.4418497e-02]\n",
      "   ...\n",
      "   [3.4418497e-02]\n",
      "   [3.4418497e-02]\n",
      "   [3.4418497e-02]]]\n",
      "\n",
      "\n",
      " [[[8.2415517e-04]\n",
      "   [8.2415517e-04]\n",
      "   [8.2415517e-04]\n",
      "   ...\n",
      "   [8.2415517e-04]\n",
      "   [8.2415517e-04]\n",
      "   [8.2415517e-04]]\n",
      "\n",
      "  [[8.2415517e-04]\n",
      "   [8.2415517e-04]\n",
      "   [8.2415517e-04]\n",
      "   ...\n",
      "   [8.2415517e-04]\n",
      "   [8.2415517e-04]\n",
      "   [8.2415517e-04]]\n",
      "\n",
      "  [[8.2415517e-04]\n",
      "   [8.2415517e-04]\n",
      "   [8.2415517e-04]\n",
      "   ...\n",
      "   [8.2415517e-04]\n",
      "   [8.2415517e-04]\n",
      "   [8.2415517e-04]]\n",
      "\n",
      "  ...\n",
      "\n",
      "  [[8.2415517e-04]\n",
      "   [8.2415517e-04]\n",
      "   [8.2415517e-04]\n",
      "   ...\n",
      "   [8.2415517e-04]\n",
      "   [8.2415517e-04]\n",
      "   [8.2415517e-04]]\n",
      "\n",
      "  [[8.2415517e-04]\n",
      "   [8.2415517e-04]\n",
      "   [8.2415517e-04]\n",
      "   ...\n",
      "   [8.2415517e-04]\n",
      "   [8.2415517e-04]\n",
      "   [8.2415517e-04]]\n",
      "\n",
      "  [[8.2415517e-04]\n",
      "   [8.2415517e-04]\n",
      "   [8.2415517e-04]\n",
      "   ...\n",
      "   [8.2415517e-04]\n",
      "   [8.2415517e-04]\n",
      "   [8.2415517e-04]]]\n",
      "\n",
      "\n",
      " ...\n",
      "\n",
      "\n",
      " [[[8.5698545e-01]\n",
      "   [7.2820443e-01]\n",
      "   [6.3884860e-01]\n",
      "   ...\n",
      "   [3.2361484e-01]\n",
      "   [3.2361484e-01]\n",
      "   [3.2361484e-01]]\n",
      "\n",
      "  [[9.4924134e-01]\n",
      "   [8.2325095e-01]\n",
      "   [7.3430985e-01]\n",
      "   ...\n",
      "   [3.2361484e-01]\n",
      "   [3.2361484e-01]\n",
      "   [3.2361484e-01]]\n",
      "\n",
      "  [[1.0103887e+00]\n",
      "   [9.8510253e-01]\n",
      "   [9.2076582e-01]\n",
      "   ...\n",
      "   [3.2361484e-01]\n",
      "   [3.2361484e-01]\n",
      "   [3.2361484e-01]]\n",
      "\n",
      "  ...\n",
      "\n",
      "  [[1.7277951e+00]\n",
      "   [1.5848213e+00]\n",
      "   [1.7230983e+00]\n",
      "   ...\n",
      "   [3.2361484e-01]\n",
      "   [3.2361484e-01]\n",
      "   [3.2361484e-01]]\n",
      "\n",
      "  [[1.6922922e+00]\n",
      "   [1.6273651e+00]\n",
      "   [1.7526319e+00]\n",
      "   ...\n",
      "   [3.2361484e-01]\n",
      "   [3.2361484e-01]\n",
      "   [3.2361484e-01]]\n",
      "\n",
      "  [[7.3043358e-01]\n",
      "   [1.7450280e+00]\n",
      "   [1.7354482e+00]\n",
      "   ...\n",
      "   [3.2361484e-01]\n",
      "   [3.2361484e-01]\n",
      "   [3.2361484e-01]]]\n",
      "\n",
      "\n",
      " [[[1.7615177e-02]\n",
      "   [1.7615177e-02]\n",
      "   [1.7615177e-02]\n",
      "   ...\n",
      "   [1.7615177e-02]\n",
      "   [1.7615177e-02]\n",
      "   [1.7615177e-02]]\n",
      "\n",
      "  [[1.7615177e-02]\n",
      "   [1.7615177e-02]\n",
      "   [1.7615177e-02]\n",
      "   ...\n",
      "   [1.7615177e-02]\n",
      "   [1.7615177e-02]\n",
      "   [1.7615177e-02]]\n",
      "\n",
      "  [[1.7615177e-02]\n",
      "   [1.7615177e-02]\n",
      "   [1.7615177e-02]\n",
      "   ...\n",
      "   [1.7615177e-02]\n",
      "   [1.7615177e-02]\n",
      "   [1.7615177e-02]]\n",
      "\n",
      "  ...\n",
      "\n",
      "  [[1.7615177e-02]\n",
      "   [1.7615177e-02]\n",
      "   [1.7615177e-02]\n",
      "   ...\n",
      "   [1.7615177e-02]\n",
      "   [1.7615177e-02]\n",
      "   [1.7615177e-02]]\n",
      "\n",
      "  [[1.7615177e-02]\n",
      "   [1.7615177e-02]\n",
      "   [1.7615177e-02]\n",
      "   ...\n",
      "   [1.7615177e-02]\n",
      "   [1.7615177e-02]\n",
      "   [1.7615177e-02]]\n",
      "\n",
      "  [[1.7615177e-02]\n",
      "   [1.7615177e-02]\n",
      "   [1.7615177e-02]\n",
      "   ...\n",
      "   [1.7615177e-02]\n",
      "   [1.7615177e-02]\n",
      "   [1.7615177e-02]]]\n",
      "\n",
      "\n",
      " [[[3.2401700e-02]\n",
      "   [3.2401700e-02]\n",
      "   [3.2401700e-02]\n",
      "   ...\n",
      "   [3.2401700e-02]\n",
      "   [3.2401700e-02]\n",
      "   [3.2401700e-02]]\n",
      "\n",
      "  [[3.2401700e-02]\n",
      "   [3.2401700e-02]\n",
      "   [3.2401700e-02]\n",
      "   ...\n",
      "   [3.2401700e-02]\n",
      "   [3.2401700e-02]\n",
      "   [3.2401700e-02]]\n",
      "\n",
      "  [[3.2401700e-02]\n",
      "   [3.2401700e-02]\n",
      "   [3.2401700e-02]\n",
      "   ...\n",
      "   [3.2401700e-02]\n",
      "   [3.2401700e-02]\n",
      "   [3.2401700e-02]]\n",
      "\n",
      "  ...\n",
      "\n",
      "  [[3.2401700e-02]\n",
      "   [3.2401700e-02]\n",
      "   [3.2401700e-02]\n",
      "   ...\n",
      "   [3.2401700e-02]\n",
      "   [3.2401700e-02]\n",
      "   [3.2401700e-02]]\n",
      "\n",
      "  [[3.2401700e-02]\n",
      "   [3.2401700e-02]\n",
      "   [3.2401700e-02]\n",
      "   ...\n",
      "   [3.2401700e-02]\n",
      "   [3.2401700e-02]\n",
      "   [3.2401700e-02]]\n",
      "\n",
      "  [[3.2401700e-02]\n",
      "   [3.2401700e-02]\n",
      "   [3.2401700e-02]\n",
      "   ...\n",
      "   [3.2401700e-02]\n",
      "   [3.2401700e-02]\n",
      "   [3.2401700e-02]]]] [[1.]\n",
      " [0.]\n",
      " [1.]\n",
      " [0.]\n",
      " [1.]\n",
      " [0.]\n",
      " [1.]\n",
      " [0.]\n",
      " [1.]\n",
      " [0.]\n",
      " [1.]\n",
      " [0.]\n",
      " [1.]\n",
      " [0.]\n",
      " [1.]\n",
      " [0.]\n",
      " [1.]\n",
      " [0.]\n",
      " [1.]\n",
      " [0.]\n",
      " [1.]\n",
      " [0.]\n",
      " [1.]\n",
      " [0.]\n",
      " [1.]\n",
      " [0.]\n",
      " [1.]\n",
      " [0.]\n",
      " [1.]\n",
      " [0.]\n",
      " [1.]\n",
      " [0.]]\n"
     ]
    }
   ],
   "source": [
    "print(a,b,c)"
   ]
  },
  {
   "cell_type": "code",
   "execution_count": 18,
   "metadata": {},
   "outputs": [],
   "source": [
    "# A Keras generator to evaluate only the BRANCH MODEL\n",
    "class FeatureGen(Sequence):\n",
    "    def __init__(self, data, batch_size=64, verbose=1):\n",
    "        super(FeatureGen, self).__init__()\n",
    "        self.data = data\n",
    "        self.batch_size = batch_size\n",
    "        self.verbose = verbose\n",
    "        if self.verbose > 0: self.progress = tqdm(total=len(self), desc='Features')\n",
    "\n",
    "    def __getitem__(self, index):\n",
    "        start = self.batch_size * index\n",
    "        size = min(len(self.data) - start, self.batch_size)\n",
    "        a = np.zeros((size,) + img_shape, dtype=K.floatx())\n",
    "        for i in range(size): a[i, :, :, :] = read_for_validation(self.data[start + i])\n",
    "        if self.verbose > 0:\n",
    "            self.progress.update()\n",
    "            if self.progress.n >= len(self): self.progress.close()\n",
    "        return a\n",
    "\n",
    "    def __len__(self):\n",
    "        return (len(self.data) + self.batch_size - 1) // self.batch_size\n"
   ]
  },
  {
   "cell_type": "code",
   "execution_count": 19,
   "metadata": {},
   "outputs": [],
   "source": [
    "class ScoreGen(Sequence):\n",
    "    def __init__(self, x, y=None, batch_size=2048, verbose=1):\n",
    "        super(ScoreGen, self).__init__()\n",
    "        self.x = x\n",
    "        self.y = y\n",
    "        self.batch_size = batch_size\n",
    "        self.verbose = verbose\n",
    "        if y is None:\n",
    "            self.y = self.x\n",
    "            self.ix, self.iy = np.triu_indices(x.shape[0], 1)\n",
    "        else:\n",
    "            self.iy, self.ix = np.indices((y.shape[0], x.shape[0]))\n",
    "            self.ix = self.ix.reshape((self.ix.size,))\n",
    "            self.iy = self.iy.reshape((self.iy.size,))\n",
    "        self.subbatch = (len(self.x) + self.batch_size - 1) // self.batch_size\n",
    "        if self.verbose > 0:\n",
    "            self.progress = tqdm(total=len(self), desc='Scores')\n",
    "\n",
    "    def __getitem__(self, index):\n",
    "        start = index * self.batch_size\n",
    "        end = min(start + self.batch_size, len(self.ix))\n",
    "        a = self.y[self.iy[start:end], :]\n",
    "        b = self.x[self.ix[start:end], :]\n",
    "        if self.verbose > 0:\n",
    "            self.progress.update()\n",
    "            if self.progress.n >= len(self): self.progress.close()\n",
    "        return [a, b]\n",
    "\n",
    "    def __len__(self):\n",
    "        return (len(self.ix) + self.batch_size - 1) // self.batch_size"
   ]
  },
  {
   "cell_type": "code",
   "execution_count": 20,
   "metadata": {},
   "outputs": [],
   "source": [
    "from keras.callbacks import ModelCheckpoint, LearningRateScheduler, EarlyStopping, ReduceLROnPlateau\n",
    "\n",
    "def set_lr(model, lr):\n",
    "    K.set_value(model.optimizer.lr, float(lr))\n",
    "\n",
    "\n",
    "def get_lr(model):\n",
    "    return K.get_value(model.optimizer.lr)\n",
    "\n",
    "\n",
    "def score_reshape(score, x, y=None):\n",
    "    \"\"\"\n",
    "    Tranformed the packed matrix 'score' into a square matrix.\n",
    "    @param score the packed matrix\n",
    "    @param x the first image feature tensor\n",
    "    @param y the second image feature tensor if different from x\n",
    "    @result the square matrix\n",
    "    \"\"\"\n",
    "    if y is None:\n",
    "        # When y is None, score is a packed upper triangular matrix.\n",
    "        # Unpack, and transpose to form the symmetrical lower triangular matrix.\n",
    "        m = np.zeros((x.shape[0], x.shape[0]), dtype=K.floatx())\n",
    "        m[np.triu_indices(x.shape[0], 1)] = score.squeeze()\n",
    "        m += m.transpose()\n",
    "    else:\n",
    "        m = np.zeros((y.shape[0], x.shape[0]), dtype=K.floatx())\n",
    "        iy, ix = np.indices((y.shape[0], x.shape[0]))\n",
    "        ix = ix.reshape((ix.size,))\n",
    "        iy = iy.reshape((iy.size,))\n",
    "        m[iy, ix] = score.squeeze()\n",
    "    return m\n",
    "\n",
    "\n",
    "def compute_score(verbose=1):\n",
    "    \"\"\"\n",
    "    Compute the score matrix by scoring every pictures from the training set against every other picture O(n^2).\n",
    "    \"\"\"\n",
    "    features = branch_model.predict_generator(FeatureGen(train, verbose=verbose), max_queue_size=12, workers=6,\n",
    "                                              verbose=0)\n",
    "    score = branch_model.predict_generator(ScoreGen(features, verbose=verbose), max_queue_size=12, workers=6, \n",
    "                                         verbose=0)\n",
    "    score = score_reshape(score, features)\n",
    "#     score = features\n",
    "    return features, score\n",
    "\n",
    "\n",
    "def make_steps(step, ampl):\n",
    "    \"\"\"\n",
    "    Perform training epochs\n",
    "    @param step Number of epochs to perform\n",
    "    @param ampl the K, the randomized component of the score matrix.\n",
    "    \"\"\"\n",
    "    global w2ts, t2i, steps, features, score, histories\n",
    "\n",
    "    # shuffle the training pictures\n",
    "    random.shuffle(train)\n",
    "\n",
    "    # Map whale id to the list of associated training picture hash value\n",
    "    w2ts = {}\n",
    "    for w, hs in w2hs.items():\n",
    "        for h in hs:\n",
    "            if h in train_set:\n",
    "                if w not in w2ts: w2ts[w] = []\n",
    "                if h not in w2ts[w]: w2ts[w].append(h)\n",
    "    for w, ts in w2ts.items(): w2ts[w] = np.array(ts)\n",
    "\n",
    "    # Map training picture hash value to index in 'train' array    \n",
    "    t2i = {}\n",
    "    for i, t in enumerate(train): t2i[t] = i\n",
    "\n",
    "    # Compute the match score for each picture pair\n",
    "    features, score = compute_score()\n",
    "#     np.save('../cache/features7', features)\n",
    "#     np.save('../cache/score7', score)\n",
    "#     features = np.load('../cache/features7.npy')\n",
    "#     score = np.load('../cache/score7.npy')\n",
    "    chkpt = '../cache/wt7-{epoch:02d}.h5'\n",
    "    checkpoint = ModelCheckpoint(chkpt, monitor='acc', verbose=1, \n",
    "                                 save_best_only=True, mode='max', save_weights_only = True)\n",
    "    reduceLROnPlat = ReduceLROnPlateau(monitor='acc', factor=0.1, patience=3, \n",
    "                                       verbose=1, mode='auto', epsilon=0.0001)\n",
    "    early = EarlyStopping(monitor=\"acc\", \n",
    "                          mode=\"max\", \n",
    "                          patience=6)\n",
    "    callbacks_list = [checkpoint, early, reduceLROnPlat]\n",
    "    \n",
    "    # Train the model for 'step' epochs\n",
    "    history = model.fit_generator(\n",
    "        TrainingData(score + ampl * np.random.random_sample(size=score.shape), steps=step, batch_size=32),\n",
    "        initial_epoch=steps, epochs=steps + step, max_queue_size=12, workers=6, verbose=1,\n",
    "        callbacks = callbacks_list).history\n",
    "    steps += step\n",
    "\n",
    "    # Collect history data\n",
    "    history['epochs'] = steps\n",
    "    history['ms'] = np.mean(score)\n",
    "    history['lr'] = get_lr(model)\n",
    "    print(history['epochs'], history['lr'], history['ms'])\n",
    "    histories.append(history)"
   ]
  },
  {
   "cell_type": "code",
   "execution_count": 23,
   "metadata": {},
   "outputs": [
    {
     "data": {
      "application/vnd.jupyter.widget-view+json": {
       "model_id": "10e5de20c72441a1bcb9528f7753f5b1",
       "version_major": 2,
       "version_minor": 0
      },
      "text/html": [
       "<p>Failed to display Jupyter Widget of type <code>HBox</code>.</p>\n",
       "<p>\n",
       "  If you're reading this message in the Jupyter Notebook or JupyterLab Notebook, it may mean\n",
       "  that the widgets JavaScript is still loading. If this message persists, it\n",
       "  likely means that the widgets JavaScript library is either not installed or\n",
       "  not enabled. See the <a href=\"https://ipywidgets.readthedocs.io/en/stable/user_install.html\">Jupyter\n",
       "  Widgets Documentation</a> for setup instructions.\n",
       "</p>\n",
       "<p>\n",
       "  If you're reading this message in another frontend (for example, a static\n",
       "  rendering on GitHub or <a href=\"https://nbviewer.jupyter.org/\">NBViewer</a>),\n",
       "  it may mean that your frontend doesn't currently support widgets.\n",
       "</p>\n"
      ],
      "text/plain": [
       "HBox(children=(IntProgress(value=0, description='Features', max=213, style=ProgressStyle(description_width='initial')), HTML(value='')))"
      ]
     },
     "metadata": {},
     "output_type": "display_data"
    },
    {
     "name": "stdout",
     "output_type": "stream",
     "text": [
      "\n"
     ]
    },
    {
     "data": {
      "application/vnd.jupyter.widget-view+json": {
       "model_id": "0cce6292236f4c4db2673df5f90a34c7",
       "version_major": 2,
       "version_minor": 0
      },
      "text/html": [
       "<p>Failed to display Jupyter Widget of type <code>HBox</code>.</p>\n",
       "<p>\n",
       "  If you're reading this message in the Jupyter Notebook or JupyterLab Notebook, it may mean\n",
       "  that the widgets JavaScript is still loading. If this message persists, it\n",
       "  likely means that the widgets JavaScript library is either not installed or\n",
       "  not enabled. See the <a href=\"https://ipywidgets.readthedocs.io/en/stable/user_install.html\">Jupyter\n",
       "  Widgets Documentation</a> for setup instructions.\n",
       "</p>\n",
       "<p>\n",
       "  If you're reading this message in another frontend (for example, a static\n",
       "  rendering on GitHub or <a href=\"https://nbviewer.jupyter.org/\">NBViewer</a>),\n",
       "  it may mean that your frontend doesn't currently support widgets.\n",
       "</p>\n"
      ],
      "text/plain": [
       "HBox(children=(IntProgress(value=0, description='Scores', max=45306, style=ProgressStyle(description_width='initial')), HTML(value='')))"
      ]
     },
     "metadata": {},
     "output_type": "display_data"
    },
    {
     "ename": "ValueError",
     "evalue": "Error when checking model input: the list of Numpy arrays that you are passing to your model is not the size the model expected. Expected to see 1 array(s), but instead got the following list of 2 arrays: [array([[0.02294824, 0.09359654, 0.07548255, ..., 0.09531375, 0.23029087,\n        0.0293752 ],\n       [0.01246711, 0.07710004, 0.04197296, ..., 0.07596871, 0.1932814 ,\n        0.02541753],\n       [0.0...",
     "output_type": "error",
     "traceback": [
      "\u001b[0;31m---------------------------------------------------------------------------\u001b[0m",
      "\u001b[0;31mValueError\u001b[0m                                Traceback (most recent call last)",
      "\u001b[0;32m<ipython-input-23-cf560fa5a9f5>\u001b[0m in \u001b[0;36m<module>\u001b[0;34m()\u001b[0m\n\u001b[1;32m      9\u001b[0m \u001b[0;31m#     model.set_weights(tmp.get_weights())\u001b[0m\u001b[0;34m\u001b[0m\u001b[0;34m\u001b[0m\u001b[0m\n\u001b[1;32m     10\u001b[0m     \u001b[0;31m# epoch -> 10\u001b[0m\u001b[0;34m\u001b[0m\u001b[0;34m\u001b[0m\u001b[0m\n\u001b[0;32m---> 11\u001b[0;31m     \u001b[0mmake_steps\u001b[0m\u001b[0;34m(\u001b[0m\u001b[0;36m10\u001b[0m\u001b[0;34m,\u001b[0m \u001b[0;36m1000\u001b[0m\u001b[0;34m)\u001b[0m\u001b[0;34m\u001b[0m\u001b[0m\n\u001b[0m\u001b[1;32m     12\u001b[0m     \u001b[0mampl\u001b[0m \u001b[0;34m=\u001b[0m \u001b[0;36m100.0\u001b[0m\u001b[0;34m\u001b[0m\u001b[0m\n\u001b[1;32m     13\u001b[0m     \u001b[0;32mfor\u001b[0m \u001b[0m_\u001b[0m \u001b[0;32min\u001b[0m \u001b[0mrange\u001b[0m\u001b[0;34m(\u001b[0m\u001b[0;36m2\u001b[0m\u001b[0;34m)\u001b[0m\u001b[0;34m:\u001b[0m\u001b[0;34m\u001b[0m\u001b[0m\n",
      "\u001b[0;32m<ipython-input-22-0018ad191fdb>\u001b[0m in \u001b[0;36mmake_steps\u001b[0;34m(step, ampl)\u001b[0m\n\u001b[1;32m     70\u001b[0m \u001b[0;34m\u001b[0m\u001b[0m\n\u001b[1;32m     71\u001b[0m     \u001b[0;31m# Compute the match score for each picture pair\u001b[0m\u001b[0;34m\u001b[0m\u001b[0;34m\u001b[0m\u001b[0m\n\u001b[0;32m---> 72\u001b[0;31m     \u001b[0mfeatures\u001b[0m\u001b[0;34m,\u001b[0m \u001b[0mscore\u001b[0m \u001b[0;34m=\u001b[0m \u001b[0mcompute_score\u001b[0m\u001b[0;34m(\u001b[0m\u001b[0;34m)\u001b[0m\u001b[0;34m\u001b[0m\u001b[0m\n\u001b[0m\u001b[1;32m     73\u001b[0m \u001b[0;31m#     np.save('../cache/features7', features)\u001b[0m\u001b[0;34m\u001b[0m\u001b[0;34m\u001b[0m\u001b[0m\n\u001b[1;32m     74\u001b[0m \u001b[0;31m#     np.save('../cache/score7', score)\u001b[0m\u001b[0;34m\u001b[0m\u001b[0;34m\u001b[0m\u001b[0m\n",
      "\u001b[0;32m<ipython-input-22-0018ad191fdb>\u001b[0m in \u001b[0;36mcompute_score\u001b[0;34m(verbose)\u001b[0m\n\u001b[1;32m     39\u001b[0m                                               verbose=0)\n\u001b[1;32m     40\u001b[0m     score = branch_model.predict_generator(ScoreGen(features, verbose=verbose), max_queue_size=12, workers=6, \n\u001b[0;32m---> 41\u001b[0;31m                                          verbose=0)\n\u001b[0m\u001b[1;32m     42\u001b[0m     \u001b[0mscore\u001b[0m \u001b[0;34m=\u001b[0m \u001b[0mscore_reshape\u001b[0m\u001b[0;34m(\u001b[0m\u001b[0mscore\u001b[0m\u001b[0;34m,\u001b[0m \u001b[0mfeatures\u001b[0m\u001b[0;34m)\u001b[0m\u001b[0;34m\u001b[0m\u001b[0m\n\u001b[1;32m     43\u001b[0m \u001b[0;31m#     score = features\u001b[0m\u001b[0;34m\u001b[0m\u001b[0;34m\u001b[0m\u001b[0m\n",
      "\u001b[0;32m~/anaconda3/envs/hpg/lib/python3.6/site-packages/keras/legacy/interfaces.py\u001b[0m in \u001b[0;36mwrapper\u001b[0;34m(*args, **kwargs)\u001b[0m\n\u001b[1;32m     89\u001b[0m                 warnings.warn('Update your `' + object_name + '` call to the ' +\n\u001b[1;32m     90\u001b[0m                               'Keras 2 API: ' + signature, stacklevel=2)\n\u001b[0;32m---> 91\u001b[0;31m             \u001b[0;32mreturn\u001b[0m \u001b[0mfunc\u001b[0m\u001b[0;34m(\u001b[0m\u001b[0;34m*\u001b[0m\u001b[0margs\u001b[0m\u001b[0;34m,\u001b[0m \u001b[0;34m**\u001b[0m\u001b[0mkwargs\u001b[0m\u001b[0;34m)\u001b[0m\u001b[0;34m\u001b[0m\u001b[0m\n\u001b[0m\u001b[1;32m     92\u001b[0m         \u001b[0mwrapper\u001b[0m\u001b[0;34m.\u001b[0m\u001b[0m_original_function\u001b[0m \u001b[0;34m=\u001b[0m \u001b[0mfunc\u001b[0m\u001b[0;34m\u001b[0m\u001b[0m\n\u001b[1;32m     93\u001b[0m         \u001b[0;32mreturn\u001b[0m \u001b[0mwrapper\u001b[0m\u001b[0;34m\u001b[0m\u001b[0m\n",
      "\u001b[0;32m~/anaconda3/envs/hpg/lib/python3.6/site-packages/keras/engine/training.py\u001b[0m in \u001b[0;36mpredict_generator\u001b[0;34m(self, generator, steps, max_queue_size, workers, use_multiprocessing, verbose)\u001b[0m\n\u001b[1;32m   1520\u001b[0m             \u001b[0mworkers\u001b[0m\u001b[0;34m=\u001b[0m\u001b[0mworkers\u001b[0m\u001b[0;34m,\u001b[0m\u001b[0;34m\u001b[0m\u001b[0m\n\u001b[1;32m   1521\u001b[0m             \u001b[0muse_multiprocessing\u001b[0m\u001b[0;34m=\u001b[0m\u001b[0muse_multiprocessing\u001b[0m\u001b[0;34m,\u001b[0m\u001b[0;34m\u001b[0m\u001b[0m\n\u001b[0;32m-> 1522\u001b[0;31m             verbose=verbose)\n\u001b[0m",
      "\u001b[0;32m~/anaconda3/envs/hpg/lib/python3.6/site-packages/keras/engine/training_generator.py\u001b[0m in \u001b[0;36mpredict_generator\u001b[0;34m(model, generator, steps, max_queue_size, workers, use_multiprocessing, verbose)\u001b[0m\n\u001b[1;32m    451\u001b[0m                 \u001b[0mx\u001b[0m \u001b[0;34m=\u001b[0m \u001b[0mgenerator_output\u001b[0m\u001b[0;34m\u001b[0m\u001b[0m\n\u001b[1;32m    452\u001b[0m \u001b[0;34m\u001b[0m\u001b[0m\n\u001b[0;32m--> 453\u001b[0;31m             \u001b[0mouts\u001b[0m \u001b[0;34m=\u001b[0m \u001b[0mmodel\u001b[0m\u001b[0;34m.\u001b[0m\u001b[0mpredict_on_batch\u001b[0m\u001b[0;34m(\u001b[0m\u001b[0mx\u001b[0m\u001b[0;34m)\u001b[0m\u001b[0;34m\u001b[0m\u001b[0m\n\u001b[0m\u001b[1;32m    454\u001b[0m             \u001b[0mouts\u001b[0m \u001b[0;34m=\u001b[0m \u001b[0mto_list\u001b[0m\u001b[0;34m(\u001b[0m\u001b[0mouts\u001b[0m\u001b[0;34m)\u001b[0m\u001b[0;34m\u001b[0m\u001b[0m\n\u001b[1;32m    455\u001b[0m \u001b[0;34m\u001b[0m\u001b[0m\n",
      "\u001b[0;32m~/anaconda3/envs/hpg/lib/python3.6/site-packages/keras/engine/training.py\u001b[0m in \u001b[0;36mpredict_on_batch\u001b[0;34m(self, x)\u001b[0m\n\u001b[1;32m   1266\u001b[0m             \u001b[0mNumpy\u001b[0m \u001b[0marray\u001b[0m\u001b[0;34m(\u001b[0m\u001b[0ms\u001b[0m\u001b[0;34m)\u001b[0m \u001b[0mof\u001b[0m \u001b[0mpredictions\u001b[0m\u001b[0;34m.\u001b[0m\u001b[0;34m\u001b[0m\u001b[0m\n\u001b[1;32m   1267\u001b[0m         \"\"\"\n\u001b[0;32m-> 1268\u001b[0;31m         \u001b[0mx\u001b[0m\u001b[0;34m,\u001b[0m \u001b[0m_\u001b[0m\u001b[0;34m,\u001b[0m \u001b[0m_\u001b[0m \u001b[0;34m=\u001b[0m \u001b[0mself\u001b[0m\u001b[0;34m.\u001b[0m\u001b[0m_standardize_user_data\u001b[0m\u001b[0;34m(\u001b[0m\u001b[0mx\u001b[0m\u001b[0;34m)\u001b[0m\u001b[0;34m\u001b[0m\u001b[0m\n\u001b[0m\u001b[1;32m   1269\u001b[0m         \u001b[0;32mif\u001b[0m \u001b[0mself\u001b[0m\u001b[0;34m.\u001b[0m\u001b[0m_uses_dynamic_learning_phase\u001b[0m\u001b[0;34m(\u001b[0m\u001b[0;34m)\u001b[0m\u001b[0;34m:\u001b[0m\u001b[0;34m\u001b[0m\u001b[0m\n\u001b[1;32m   1270\u001b[0m             \u001b[0mins\u001b[0m \u001b[0;34m=\u001b[0m \u001b[0mx\u001b[0m \u001b[0;34m+\u001b[0m \u001b[0;34m[\u001b[0m\u001b[0;36m0.\u001b[0m\u001b[0;34m]\u001b[0m\u001b[0;34m\u001b[0m\u001b[0m\n",
      "\u001b[0;32m~/anaconda3/envs/hpg/lib/python3.6/site-packages/keras/engine/training.py\u001b[0m in \u001b[0;36m_standardize_user_data\u001b[0;34m(self, x, y, sample_weight, class_weight, check_array_lengths, batch_size)\u001b[0m\n\u001b[1;32m    749\u001b[0m             \u001b[0mfeed_input_shapes\u001b[0m\u001b[0;34m,\u001b[0m\u001b[0;34m\u001b[0m\u001b[0m\n\u001b[1;32m    750\u001b[0m             \u001b[0mcheck_batch_axis\u001b[0m\u001b[0;34m=\u001b[0m\u001b[0;32mFalse\u001b[0m\u001b[0;34m,\u001b[0m  \u001b[0;31m# Don't enforce the batch size.\u001b[0m\u001b[0;34m\u001b[0m\u001b[0m\n\u001b[0;32m--> 751\u001b[0;31m             exception_prefix='input')\n\u001b[0m\u001b[1;32m    752\u001b[0m \u001b[0;34m\u001b[0m\u001b[0m\n\u001b[1;32m    753\u001b[0m         \u001b[0;32mif\u001b[0m \u001b[0my\u001b[0m \u001b[0;32mis\u001b[0m \u001b[0;32mnot\u001b[0m \u001b[0;32mNone\u001b[0m\u001b[0;34m:\u001b[0m\u001b[0;34m\u001b[0m\u001b[0m\n",
      "\u001b[0;32m~/anaconda3/envs/hpg/lib/python3.6/site-packages/keras/engine/training_utils.py\u001b[0m in \u001b[0;36mstandardize_input_data\u001b[0;34m(data, names, shapes, check_batch_axis, exception_prefix)\u001b[0m\n\u001b[1;32m    100\u001b[0m                 \u001b[0;34m'Expected to see '\u001b[0m \u001b[0;34m+\u001b[0m \u001b[0mstr\u001b[0m\u001b[0;34m(\u001b[0m\u001b[0mlen\u001b[0m\u001b[0;34m(\u001b[0m\u001b[0mnames\u001b[0m\u001b[0;34m)\u001b[0m\u001b[0;34m)\u001b[0m \u001b[0;34m+\u001b[0m \u001b[0;34m' array(s), '\u001b[0m\u001b[0;34m\u001b[0m\u001b[0m\n\u001b[1;32m    101\u001b[0m                 \u001b[0;34m'but instead got the following list of '\u001b[0m \u001b[0;34m+\u001b[0m\u001b[0;34m\u001b[0m\u001b[0m\n\u001b[0;32m--> 102\u001b[0;31m                 str(len(data)) + ' arrays: ' + str(data)[:200] + '...')\n\u001b[0m\u001b[1;32m    103\u001b[0m         \u001b[0;32melif\u001b[0m \u001b[0mlen\u001b[0m\u001b[0;34m(\u001b[0m\u001b[0mnames\u001b[0m\u001b[0;34m)\u001b[0m \u001b[0;34m>\u001b[0m \u001b[0;36m1\u001b[0m\u001b[0;34m:\u001b[0m\u001b[0;34m\u001b[0m\u001b[0m\n\u001b[1;32m    104\u001b[0m             raise ValueError(\n",
      "\u001b[0;31mValueError\u001b[0m: Error when checking model input: the list of Numpy arrays that you are passing to your model is not the size the model expected. Expected to see 1 array(s), but instead got the following list of 2 arrays: [array([[0.02294824, 0.09359654, 0.07548255, ..., 0.09531375, 0.23029087,\n        0.0293752 ],\n       [0.01246711, 0.07710004, 0.04197296, ..., 0.07596871, 0.1932814 ,\n        0.02541753],\n       [0.0..."
     ]
    }
   ],
   "source": [
    "histories = []\n",
    "steps = 0\n",
    "\n",
    "if isfile('../data/piotte/mpiotte-standard.model'):\n",
    "    tmp = keras.models.load_model('../data/piotte/mpiotte-standard.model')\n",
    "    model.set_weights(tmp.get_weights())\n",
    "else:\n",
    "    model.load_weights('../cache/wt7-600.h5')\n",
    "    \n",
    "    # Find elements from training sets not 'new_whale'\n",
    "    tic = time.time()\n",
    "    h2ws = {}\n",
    "    for p, w in tagged.items():\n",
    "        if w != new_whale:  # Use only identified whales\n",
    "            h = p2h[p]\n",
    "            if h not in h2ws: h2ws[h] = []\n",
    "            if w not in h2ws[h]: h2ws[h].append(w)\n",
    "    known = sorted(list(h2ws.keys()))\n",
    "\n",
    "    # Dictionary of picture indices\n",
    "    h2i = {}\n",
    "    for i, h in enumerate(known): h2i[h] = i\n",
    "\n",
    "    # Evaluate the model.\n",
    "    fknown1 = branch_model.predict_generator(FeatureGen(known), max_queue_size=20, workers=10, verbose=1)\n",
    "    fsubmit1 = branch_model.predict_generator(FeatureGen(submit), max_queue_size=20, workers=10, verbose=1)\n",
    "    score1 = head_model.predict_generator(ScoreGen(fknown1, fsubmit1), max_queue_size=20, workers=10, verbose=1)\n",
    "    score1 = score_reshape(score1, fknown1, fsubmit1)\n",
    "    \n",
    "    ###########################\n",
    "    # Load bootstrap model and compute score \n",
    "    tmp = keras.models.load_model('../input/piotte/mpiotte-bootstrap.model')\n",
    "    model.set_weights(tmp.get_weights())\n",
    "    \n",
    "    # Find elements from training sets not 'new_whale'\n",
    "    tic = time.time()\n",
    "    h2ws = {}\n",
    "    for p, w in tagged.items():\n",
    "        if w != new_whale:  # Use only identified whales\n",
    "            h = p2h[p]\n",
    "            if h not in h2ws: h2ws[h] = []\n",
    "            if w not in h2ws[h]: h2ws[h].append(w)\n",
    "    known = sorted(list(h2ws.keys()))\n",
    "\n",
    "    # Dictionary of picture indices\n",
    "    h2i = {}\n",
    "    for i, h in enumerate(known): h2i[h] = i\n",
    "\n",
    "    # Evaluate the model.\n",
    "    fknown2 = branch_model.predict_generator(FeatureGen(known), max_queue_size=20, workers=10, verbose=1)\n",
    "    fsubmit2 = branch_model.predict_generator(FeatureGen(submit), max_queue_size=20, workers=10, verbose=1)\n",
    "    score2 = head_model.predict_generator(ScoreGen(fknown2, fsubmit2), max_queue_size=20, workers=10, verbose=1)\n",
    "    score2 = score_reshape(score2, fknown2, fsubmit2)\n",
    "#     tmp = keras.models.load_model('../cache/ashish.standard.model-2')\n",
    "#     model.set_weights(tmp.get_weights())\n",
    "    # epoch -> 10\n",
    "#     make_steps(10, 1000)\n",
    "#     ampl = 100.0\n",
    "#     for _ in range(2):\n",
    "#         print('noise ampl.  = ', ampl)\n",
    "#         make_steps(5, ampl)\n",
    "#         ampl = max(1.0, 100 ** -0.1 * ampl)\n",
    "#     model.save('../cache/ashish.standard.model-1')\n",
    "#     # epoch -> 110\n",
    "#     for _ in range(18): make_steps(5, 1.0)\n",
    "#     model.save('../cache/ashish.standard.model-2')\n",
    "#     # epoch -> 160\n",
    "#     set_lr(model, 16e-5)\n",
    "#     for _ in range(10): make_steps(5, 0.5)\n",
    "#     model.save('../cache/ashish.standard.model-3')\n",
    "#     # epoch -> 200\n",
    "#     set_lr(model, 4e-5)\n",
    "#     for _ in range(8): make_steps(5, 0.25)\n",
    "#     model.save('../cache/ashish.standard.model-4')\n",
    "#     # epoch -> 210\n",
    "#     set_lr(model, 1e-5)\n",
    "#     for _ in range(2): make_steps(5, 0.25)\n",
    "#     model.save('../cache/ashish.standard.model-5')\n",
    "#     # epoch -> 260\n",
    "#     weights = model.get_weights()\n",
    "#     model, branch_model, head_model = build_model(64e-5, 0.0002)\n",
    "#     model.set_weights(weights)\n",
    "#     for _ in range(10): make_steps(5, 1.0)\n",
    "#     model.save('../cache/ashish.standard.model-6')\n",
    "#     # epoch -> 310\n",
    "#     set_lr(model, 16e-5)\n",
    "#     for _ in range(10): make_steps(5, 0.5)\n",
    "#     model.save('../cache/ashish.standard.model-7')\n",
    "#     # epoch -> 350\n",
    "#     set_lr(model, 4e-5)\n",
    "#     for _ in range(8): make_steps(5, 0.25)\n",
    "#     model.save('../cache/ashish.standard.model-8')\n",
    "#     # epoch -> 500\n",
    "#     set_lr(model, 1e-5)\n",
    "#     for _ in range(30): make_steps(5, 0.25)\n",
    "#     model.save('../cache/ashish.standard.model')"
   ]
  },
  {
   "cell_type": "code",
   "execution_count": 22,
   "metadata": {},
   "outputs": [
    {
     "data": {
      "application/vnd.jupyter.widget-view+json": {
       "model_id": "7f828a4dcdca457e8c5dfe3ef5b594ab",
       "version_major": 2,
       "version_minor": 0
      },
      "text/html": [
       "<p>Failed to display Jupyter Widget of type <code>HBox</code>.</p>\n",
       "<p>\n",
       "  If you're reading this message in the Jupyter Notebook or JupyterLab Notebook, it may mean\n",
       "  that the widgets JavaScript is still loading. If this message persists, it\n",
       "  likely means that the widgets JavaScript library is either not installed or\n",
       "  not enabled. See the <a href=\"https://ipywidgets.readthedocs.io/en/stable/user_install.html\">Jupyter\n",
       "  Widgets Documentation</a> for setup instructions.\n",
       "</p>\n",
       "<p>\n",
       "  If you're reading this message in another frontend (for example, a static\n",
       "  rendering on GitHub or <a href=\"https://nbviewer.jupyter.org/\">NBViewer</a>),\n",
       "  it may mean that your frontend doesn't currently support widgets.\n",
       "</p>\n"
      ],
      "text/plain": [
       "HBox(children=(IntProgress(value=0, description='Features', max=213, style=ProgressStyle(description_width='initial')), HTML(value='')))"
      ]
     },
     "metadata": {},
     "output_type": "display_data"
    },
    {
     "name": "stdout",
     "output_type": "stream",
     "text": [
      "\n"
     ]
    },
    {
     "data": {
      "application/vnd.jupyter.widget-view+json": {
       "model_id": "b31186beff9642508405422c5c226241",
       "version_major": 2,
       "version_minor": 0
      },
      "text/html": [
       "<p>Failed to display Jupyter Widget of type <code>HBox</code>.</p>\n",
       "<p>\n",
       "  If you're reading this message in the Jupyter Notebook or JupyterLab Notebook, it may mean\n",
       "  that the widgets JavaScript is still loading. If this message persists, it\n",
       "  likely means that the widgets JavaScript library is either not installed or\n",
       "  not enabled. See the <a href=\"https://ipywidgets.readthedocs.io/en/stable/user_install.html\">Jupyter\n",
       "  Widgets Documentation</a> for setup instructions.\n",
       "</p>\n",
       "<p>\n",
       "  If you're reading this message in another frontend (for example, a static\n",
       "  rendering on GitHub or <a href=\"https://nbviewer.jupyter.org/\">NBViewer</a>),\n",
       "  it may mean that your frontend doesn't currently support widgets.\n",
       "</p>\n"
      ],
      "text/plain": [
       "HBox(children=(IntProgress(value=0, description='Scores', max=45306, style=ProgressStyle(description_width='initial')), HTML(value='')))"
      ]
     },
     "metadata": {},
     "output_type": "display_data"
    },
    {
     "name": "stdout",
     "output_type": "stream",
     "text": [
      "\n"
     ]
    },
    {
     "name": "stderr",
     "output_type": "stream",
     "text": [
      "/home/watts/anaconda3/envs/hpg/lib/python3.6/site-packages/keras/callbacks.py:1065: UserWarning: `epsilon` argument is deprecated and will be removed, use `min_delta` instead.\n",
      "  warnings.warn('`epsilon` argument is deprecated and '\n"
     ]
    },
    {
     "name": "stdout",
     "output_type": "stream",
     "text": [
      "Epoch 501/505\n",
      "852/852 [==============================] - 230s 270ms/step - loss: 0.1541 - binary_crossentropy: 0.0374 - acc: 0.9871\n",
      "\n",
      "Epoch 00501: acc improved from -inf to 0.98712, saving model to ../cache/wt7-501.h5\n",
      "Epoch 502/505\n",
      "852/852 [==============================] - 239s 280ms/step - loss: 0.1414 - binary_crossentropy: 0.0248 - acc: 0.9919\n",
      "\n",
      "Epoch 00502: acc improved from 0.98712 to 0.99189, saving model to ../cache/wt7-502.h5\n",
      "Epoch 503/505\n",
      "852/852 [==============================] - 239s 281ms/step - loss: 0.1358 - binary_crossentropy: 0.0194 - acc: 0.9931\n",
      "\n",
      "Epoch 00503: acc improved from 0.99189 to 0.99306, saving model to ../cache/wt7-503.h5\n",
      "Epoch 504/505\n",
      "852/852 [==============================] - 241s 283ms/step - loss: 0.1321 - binary_crossentropy: 0.0158 - acc: 0.9947\n",
      "\n",
      "Epoch 00504: acc improved from 0.99306 to 0.99471, saving model to ../cache/wt7-504.h5\n",
      "Epoch 505/505\n",
      "852/852 [==============================] - 240s 281ms/step - loss: 0.1298 - binary_crossentropy: 0.0138 - acc: 0.9953\n",
      "\n",
      "Epoch 00505: acc improved from 0.99471 to 0.99530, saving model to ../cache/wt7-505.h5\n",
      "505 1e-05 0.0015054211\n"
     ]
    },
    {
     "data": {
      "application/vnd.jupyter.widget-view+json": {
       "model_id": "752b34d1570e4c1c95f485007015222d",
       "version_major": 2,
       "version_minor": 0
      },
      "text/html": [
       "<p>Failed to display Jupyter Widget of type <code>HBox</code>.</p>\n",
       "<p>\n",
       "  If you're reading this message in the Jupyter Notebook or JupyterLab Notebook, it may mean\n",
       "  that the widgets JavaScript is still loading. If this message persists, it\n",
       "  likely means that the widgets JavaScript library is either not installed or\n",
       "  not enabled. See the <a href=\"https://ipywidgets.readthedocs.io/en/stable/user_install.html\">Jupyter\n",
       "  Widgets Documentation</a> for setup instructions.\n",
       "</p>\n",
       "<p>\n",
       "  If you're reading this message in another frontend (for example, a static\n",
       "  rendering on GitHub or <a href=\"https://nbviewer.jupyter.org/\">NBViewer</a>),\n",
       "  it may mean that your frontend doesn't currently support widgets.\n",
       "</p>\n"
      ],
      "text/plain": [
       "HBox(children=(IntProgress(value=0, description='Features', max=213, style=ProgressStyle(description_width='initial')), HTML(value='')))"
      ]
     },
     "metadata": {},
     "output_type": "display_data"
    },
    {
     "name": "stdout",
     "output_type": "stream",
     "text": [
      "\n"
     ]
    },
    {
     "data": {
      "application/vnd.jupyter.widget-view+json": {
       "model_id": "c9fe75560a7041e4a389c76d00d8633f",
       "version_major": 2,
       "version_minor": 0
      },
      "text/html": [
       "<p>Failed to display Jupyter Widget of type <code>HBox</code>.</p>\n",
       "<p>\n",
       "  If you're reading this message in the Jupyter Notebook or JupyterLab Notebook, it may mean\n",
       "  that the widgets JavaScript is still loading. If this message persists, it\n",
       "  likely means that the widgets JavaScript library is either not installed or\n",
       "  not enabled. See the <a href=\"https://ipywidgets.readthedocs.io/en/stable/user_install.html\">Jupyter\n",
       "  Widgets Documentation</a> for setup instructions.\n",
       "</p>\n",
       "<p>\n",
       "  If you're reading this message in another frontend (for example, a static\n",
       "  rendering on GitHub or <a href=\"https://nbviewer.jupyter.org/\">NBViewer</a>),\n",
       "  it may mean that your frontend doesn't currently support widgets.\n",
       "</p>\n"
      ],
      "text/plain": [
       "HBox(children=(IntProgress(value=0, description='Scores', max=45306, style=ProgressStyle(description_width='initial')), HTML(value='')))"
      ]
     },
     "metadata": {},
     "output_type": "display_data"
    },
    {
     "name": "stdout",
     "output_type": "stream",
     "text": [
      "\n",
      "Epoch 506/510\n",
      "852/852 [==============================] - 231s 271ms/step - loss: 0.1541 - binary_crossentropy: 0.0383 - acc: 0.9873\n",
      "\n",
      "Epoch 00506: acc improved from -inf to 0.98734, saving model to ../cache/wt7-506.h5\n",
      "Epoch 507/510\n",
      "852/852 [==============================] - 241s 283ms/step - loss: 0.1398 - binary_crossentropy: 0.0241 - acc: 0.9921\n",
      "\n",
      "Epoch 00507: acc improved from 0.98734 to 0.99207, saving model to ../cache/wt7-507.h5\n",
      "Epoch 508/510\n",
      "852/852 [==============================] - 241s 283ms/step - loss: 0.1332 - binary_crossentropy: 0.0176 - acc: 0.9939\n",
      "\n",
      "Epoch 00508: acc improved from 0.99207 to 0.99387, saving model to ../cache/wt7-508.h5\n",
      "Epoch 509/510\n",
      "852/852 [==============================] - 242s 284ms/step - loss: 0.1304 - binary_crossentropy: 0.0150 - acc: 0.9952\n",
      "\n",
      "Epoch 00509: acc improved from 0.99387 to 0.99523, saving model to ../cache/wt7-509.h5\n",
      "Epoch 510/510\n",
      "852/852 [==============================] - 241s 283ms/step - loss: 0.1276 - binary_crossentropy: 0.0125 - acc: 0.9958\n",
      "\n",
      "Epoch 00510: acc improved from 0.99523 to 0.99582, saving model to ../cache/wt7-510.h5\n",
      "510 1e-05 0.0015693357\n"
     ]
    },
    {
     "data": {
      "application/vnd.jupyter.widget-view+json": {
       "model_id": "38974c045f0b449eaaf0b6277f17bca7",
       "version_major": 2,
       "version_minor": 0
      },
      "text/html": [
       "<p>Failed to display Jupyter Widget of type <code>HBox</code>.</p>\n",
       "<p>\n",
       "  If you're reading this message in the Jupyter Notebook or JupyterLab Notebook, it may mean\n",
       "  that the widgets JavaScript is still loading. If this message persists, it\n",
       "  likely means that the widgets JavaScript library is either not installed or\n",
       "  not enabled. See the <a href=\"https://ipywidgets.readthedocs.io/en/stable/user_install.html\">Jupyter\n",
       "  Widgets Documentation</a> for setup instructions.\n",
       "</p>\n",
       "<p>\n",
       "  If you're reading this message in another frontend (for example, a static\n",
       "  rendering on GitHub or <a href=\"https://nbviewer.jupyter.org/\">NBViewer</a>),\n",
       "  it may mean that your frontend doesn't currently support widgets.\n",
       "</p>\n"
      ],
      "text/plain": [
       "HBox(children=(IntProgress(value=0, description='Features', max=213, style=ProgressStyle(description_width='initial')), HTML(value='')))"
      ]
     },
     "metadata": {},
     "output_type": "display_data"
    },
    {
     "name": "stdout",
     "output_type": "stream",
     "text": [
      "\n"
     ]
    },
    {
     "data": {
      "application/vnd.jupyter.widget-view+json": {
       "model_id": "5c0fe18080764b90b4b16f37eff66dc1",
       "version_major": 2,
       "version_minor": 0
      },
      "text/html": [
       "<p>Failed to display Jupyter Widget of type <code>HBox</code>.</p>\n",
       "<p>\n",
       "  If you're reading this message in the Jupyter Notebook or JupyterLab Notebook, it may mean\n",
       "  that the widgets JavaScript is still loading. If this message persists, it\n",
       "  likely means that the widgets JavaScript library is either not installed or\n",
       "  not enabled. See the <a href=\"https://ipywidgets.readthedocs.io/en/stable/user_install.html\">Jupyter\n",
       "  Widgets Documentation</a> for setup instructions.\n",
       "</p>\n",
       "<p>\n",
       "  If you're reading this message in another frontend (for example, a static\n",
       "  rendering on GitHub or <a href=\"https://nbviewer.jupyter.org/\">NBViewer</a>),\n",
       "  it may mean that your frontend doesn't currently support widgets.\n",
       "</p>\n"
      ],
      "text/plain": [
       "HBox(children=(IntProgress(value=0, description='Scores', max=45306, style=ProgressStyle(description_width='initial')), HTML(value='')))"
      ]
     },
     "metadata": {},
     "output_type": "display_data"
    },
    {
     "name": "stdout",
     "output_type": "stream",
     "text": [
      "\n",
      "Epoch 511/515\n",
      "852/852 [==============================] - 230s 270ms/step - loss: 0.1508 - binary_crossentropy: 0.0359 - acc: 0.9873\n",
      "\n",
      "Epoch 00511: acc improved from -inf to 0.98734, saving model to ../cache/wt7-511.h5\n",
      "Epoch 512/515\n",
      "852/852 [==============================] - 239s 281ms/step - loss: 0.1407 - binary_crossentropy: 0.0259 - acc: 0.9912\n",
      "\n",
      "Epoch 00512: acc improved from 0.98734 to 0.99119, saving model to ../cache/wt7-512.h5\n",
      "Epoch 513/515\n",
      "852/852 [==============================] - 241s 283ms/step - loss: 0.1356 - binary_crossentropy: 0.0209 - acc: 0.9925\n",
      "\n",
      "Epoch 00513: acc improved from 0.99119 to 0.99262, saving model to ../cache/wt7-513.h5\n",
      "Epoch 514/515\n",
      "852/852 [==============================] - 241s 283ms/step - loss: 0.1303 - binary_crossentropy: 0.0158 - acc: 0.9948\n",
      "\n",
      "Epoch 00514: acc improved from 0.99262 to 0.99475, saving model to ../cache/wt7-514.h5\n",
      "Epoch 515/515\n",
      "852/852 [==============================] - 242s 284ms/step - loss: 0.1288 - binary_crossentropy: 0.0145 - acc: 0.9955\n",
      "\n",
      "Epoch 00515: acc improved from 0.99475 to 0.99549, saving model to ../cache/wt7-515.h5\n",
      "515 1e-05 0.001546052\n"
     ]
    },
    {
     "data": {
      "application/vnd.jupyter.widget-view+json": {
       "model_id": "2df19b750f3f4b5ead288d7031362a6b",
       "version_major": 2,
       "version_minor": 0
      },
      "text/html": [
       "<p>Failed to display Jupyter Widget of type <code>HBox</code>.</p>\n",
       "<p>\n",
       "  If you're reading this message in the Jupyter Notebook or JupyterLab Notebook, it may mean\n",
       "  that the widgets JavaScript is still loading. If this message persists, it\n",
       "  likely means that the widgets JavaScript library is either not installed or\n",
       "  not enabled. See the <a href=\"https://ipywidgets.readthedocs.io/en/stable/user_install.html\">Jupyter\n",
       "  Widgets Documentation</a> for setup instructions.\n",
       "</p>\n",
       "<p>\n",
       "  If you're reading this message in another frontend (for example, a static\n",
       "  rendering on GitHub or <a href=\"https://nbviewer.jupyter.org/\">NBViewer</a>),\n",
       "  it may mean that your frontend doesn't currently support widgets.\n",
       "</p>\n"
      ],
      "text/plain": [
       "HBox(children=(IntProgress(value=0, description='Features', max=213, style=ProgressStyle(description_width='initial')), HTML(value='')))"
      ]
     },
     "metadata": {},
     "output_type": "display_data"
    },
    {
     "name": "stdout",
     "output_type": "stream",
     "text": [
      "\n"
     ]
    },
    {
     "data": {
      "application/vnd.jupyter.widget-view+json": {
       "model_id": "d593b7688f094de8a791f73640ff093e",
       "version_major": 2,
       "version_minor": 0
      },
      "text/html": [
       "<p>Failed to display Jupyter Widget of type <code>HBox</code>.</p>\n",
       "<p>\n",
       "  If you're reading this message in the Jupyter Notebook or JupyterLab Notebook, it may mean\n",
       "  that the widgets JavaScript is still loading. If this message persists, it\n",
       "  likely means that the widgets JavaScript library is either not installed or\n",
       "  not enabled. See the <a href=\"https://ipywidgets.readthedocs.io/en/stable/user_install.html\">Jupyter\n",
       "  Widgets Documentation</a> for setup instructions.\n",
       "</p>\n",
       "<p>\n",
       "  If you're reading this message in another frontend (for example, a static\n",
       "  rendering on GitHub or <a href=\"https://nbviewer.jupyter.org/\">NBViewer</a>),\n",
       "  it may mean that your frontend doesn't currently support widgets.\n",
       "</p>\n"
      ],
      "text/plain": [
       "HBox(children=(IntProgress(value=0, description='Scores', max=45306, style=ProgressStyle(description_width='initial')), HTML(value='')))"
      ]
     },
     "metadata": {},
     "output_type": "display_data"
    },
    {
     "name": "stdout",
     "output_type": "stream",
     "text": [
      "\n",
      "Epoch 516/520\n",
      "852/852 [==============================] - 230s 270ms/step - loss: 0.1510 - binary_crossentropy: 0.0368 - acc: 0.9886\n",
      "\n",
      "Epoch 00516: acc improved from -inf to 0.98855, saving model to ../cache/wt7-516.h5\n",
      "Epoch 517/520\n",
      "852/852 [==============================] - 239s 280ms/step - loss: 0.1390 - binary_crossentropy: 0.0250 - acc: 0.9920\n",
      "\n",
      "Epoch 00517: acc improved from 0.98855 to 0.99200, saving model to ../cache/wt7-517.h5\n",
      "Epoch 518/520\n",
      "852/852 [==============================] - 240s 282ms/step - loss: 0.1329 - binary_crossentropy: 0.0191 - acc: 0.9943\n",
      "\n",
      "Epoch 00518: acc improved from 0.99200 to 0.99431, saving model to ../cache/wt7-518.h5\n",
      "Epoch 519/520\n",
      "852/852 [==============================] - 239s 281ms/step - loss: 0.1293 - binary_crossentropy: 0.0157 - acc: 0.9951\n",
      "\n",
      "Epoch 00519: acc improved from 0.99431 to 0.99512, saving model to ../cache/wt7-519.h5\n",
      "Epoch 520/520\n",
      "852/852 [==============================] - 241s 283ms/step - loss: 0.1274 - binary_crossentropy: 0.0140 - acc: 0.9956\n",
      "\n",
      "Epoch 00520: acc improved from 0.99512 to 0.99563, saving model to ../cache/wt7-520.h5\n",
      "520 1e-05 0.0014481753\n"
     ]
    },
    {
     "data": {
      "application/vnd.jupyter.widget-view+json": {
       "model_id": "e5dbf4dc7a7344ad9060f6fc5de47b02",
       "version_major": 2,
       "version_minor": 0
      },
      "text/html": [
       "<p>Failed to display Jupyter Widget of type <code>HBox</code>.</p>\n",
       "<p>\n",
       "  If you're reading this message in the Jupyter Notebook or JupyterLab Notebook, it may mean\n",
       "  that the widgets JavaScript is still loading. If this message persists, it\n",
       "  likely means that the widgets JavaScript library is either not installed or\n",
       "  not enabled. See the <a href=\"https://ipywidgets.readthedocs.io/en/stable/user_install.html\">Jupyter\n",
       "  Widgets Documentation</a> for setup instructions.\n",
       "</p>\n",
       "<p>\n",
       "  If you're reading this message in another frontend (for example, a static\n",
       "  rendering on GitHub or <a href=\"https://nbviewer.jupyter.org/\">NBViewer</a>),\n",
       "  it may mean that your frontend doesn't currently support widgets.\n",
       "</p>\n"
      ],
      "text/plain": [
       "HBox(children=(IntProgress(value=0, description='Features', max=213, style=ProgressStyle(description_width='initial')), HTML(value='')))"
      ]
     },
     "metadata": {},
     "output_type": "display_data"
    },
    {
     "name": "stdout",
     "output_type": "stream",
     "text": [
      "\n"
     ]
    },
    {
     "data": {
      "application/vnd.jupyter.widget-view+json": {
       "model_id": "f3de8e2105214f5ca92359ffad17f486",
       "version_major": 2,
       "version_minor": 0
      },
      "text/html": [
       "<p>Failed to display Jupyter Widget of type <code>HBox</code>.</p>\n",
       "<p>\n",
       "  If you're reading this message in the Jupyter Notebook or JupyterLab Notebook, it may mean\n",
       "  that the widgets JavaScript is still loading. If this message persists, it\n",
       "  likely means that the widgets JavaScript library is either not installed or\n",
       "  not enabled. See the <a href=\"https://ipywidgets.readthedocs.io/en/stable/user_install.html\">Jupyter\n",
       "  Widgets Documentation</a> for setup instructions.\n",
       "</p>\n",
       "<p>\n",
       "  If you're reading this message in another frontend (for example, a static\n",
       "  rendering on GitHub or <a href=\"https://nbviewer.jupyter.org/\">NBViewer</a>),\n",
       "  it may mean that your frontend doesn't currently support widgets.\n",
       "</p>\n"
      ],
      "text/plain": [
       "HBox(children=(IntProgress(value=0, description='Scores', max=45306, style=ProgressStyle(description_width='initial')), HTML(value='')))"
      ]
     },
     "metadata": {},
     "output_type": "display_data"
    },
    {
     "name": "stdout",
     "output_type": "stream",
     "text": [
      "\n",
      "Epoch 521/525\n",
      "852/852 [==============================] - 230s 270ms/step - loss: 0.1532 - binary_crossentropy: 0.0399 - acc: 0.9866\n",
      "\n",
      "Epoch 00521: acc improved from -inf to 0.98664, saving model to ../cache/wt7-521.h5\n",
      "Epoch 522/525\n",
      "852/852 [==============================] - 240s 282ms/step - loss: 0.1379 - binary_crossentropy: 0.0248 - acc: 0.9919\n",
      "\n",
      "Epoch 00522: acc improved from 0.98664 to 0.99204, saving model to ../cache/wt7-522.h5\n",
      "Epoch 523/525\n",
      "852/852 [==============================] - 241s 283ms/step - loss: 0.1333 - binary_crossentropy: 0.0203 - acc: 0.9935\n",
      "\n",
      "Epoch 00523: acc improved from 0.99204 to 0.99354, saving model to ../cache/wt7-523.h5\n",
      "Epoch 524/525\n",
      "852/852 [==============================] - 241s 283ms/step - loss: 0.1260 - binary_crossentropy: 0.0133 - acc: 0.9962\n",
      "\n",
      "Epoch 00524: acc improved from 0.99354 to 0.99618, saving model to ../cache/wt7-524.h5\n",
      "Epoch 525/525\n",
      "852/852 [==============================] - 241s 282ms/step - loss: 0.1250 - binary_crossentropy: 0.0125 - acc: 0.9964\n",
      "\n",
      "Epoch 00525: acc improved from 0.99618 to 0.99640, saving model to ../cache/wt7-525.h5\n",
      "525 1e-05 0.0014976513\n"
     ]
    },
    {
     "data": {
      "application/vnd.jupyter.widget-view+json": {
       "model_id": "7bd5c0c1afab47eba029b3c8307e97a9",
       "version_major": 2,
       "version_minor": 0
      },
      "text/html": [
       "<p>Failed to display Jupyter Widget of type <code>HBox</code>.</p>\n",
       "<p>\n",
       "  If you're reading this message in the Jupyter Notebook or JupyterLab Notebook, it may mean\n",
       "  that the widgets JavaScript is still loading. If this message persists, it\n",
       "  likely means that the widgets JavaScript library is either not installed or\n",
       "  not enabled. See the <a href=\"https://ipywidgets.readthedocs.io/en/stable/user_install.html\">Jupyter\n",
       "  Widgets Documentation</a> for setup instructions.\n",
       "</p>\n",
       "<p>\n",
       "  If you're reading this message in another frontend (for example, a static\n",
       "  rendering on GitHub or <a href=\"https://nbviewer.jupyter.org/\">NBViewer</a>),\n",
       "  it may mean that your frontend doesn't currently support widgets.\n",
       "</p>\n"
      ],
      "text/plain": [
       "HBox(children=(IntProgress(value=0, description='Features', max=213, style=ProgressStyle(description_width='initial')), HTML(value='')))"
      ]
     },
     "metadata": {},
     "output_type": "display_data"
    },
    {
     "name": "stdout",
     "output_type": "stream",
     "text": [
      "\n"
     ]
    },
    {
     "data": {
      "application/vnd.jupyter.widget-view+json": {
       "model_id": "be4c9681dafe45719c06753899b5a4c4",
       "version_major": 2,
       "version_minor": 0
      },
      "text/html": [
       "<p>Failed to display Jupyter Widget of type <code>HBox</code>.</p>\n",
       "<p>\n",
       "  If you're reading this message in the Jupyter Notebook or JupyterLab Notebook, it may mean\n",
       "  that the widgets JavaScript is still loading. If this message persists, it\n",
       "  likely means that the widgets JavaScript library is either not installed or\n",
       "  not enabled. See the <a href=\"https://ipywidgets.readthedocs.io/en/stable/user_install.html\">Jupyter\n",
       "  Widgets Documentation</a> for setup instructions.\n",
       "</p>\n",
       "<p>\n",
       "  If you're reading this message in another frontend (for example, a static\n",
       "  rendering on GitHub or <a href=\"https://nbviewer.jupyter.org/\">NBViewer</a>),\n",
       "  it may mean that your frontend doesn't currently support widgets.\n",
       "</p>\n"
      ],
      "text/plain": [
       "HBox(children=(IntProgress(value=0, description='Scores', max=45306, style=ProgressStyle(description_width='initial')), HTML(value='')))"
      ]
     },
     "metadata": {},
     "output_type": "display_data"
    },
    {
     "name": "stdout",
     "output_type": "stream",
     "text": [
      "\n",
      "Epoch 526/530\n",
      "852/852 [==============================] - 230s 270ms/step - loss: 0.1482 - binary_crossentropy: 0.0359 - acc: 0.9878\n",
      "\n",
      "Epoch 00526: acc improved from -inf to 0.98778, saving model to ../cache/wt7-526.h5\n",
      "Epoch 527/530\n",
      "852/852 [==============================] - 240s 282ms/step - loss: 0.1360 - binary_crossentropy: 0.0238 - acc: 0.9921\n",
      "\n",
      "Epoch 00527: acc improved from 0.98778 to 0.99207, saving model to ../cache/wt7-527.h5\n",
      "Epoch 528/530\n",
      "852/852 [==============================] - 241s 283ms/step - loss: 0.1300 - binary_crossentropy: 0.0179 - acc: 0.9941\n",
      "\n",
      "Epoch 00528: acc improved from 0.99207 to 0.99413, saving model to ../cache/wt7-528.h5\n",
      "Epoch 529/530\n",
      "852/852 [==============================] - 241s 283ms/step - loss: 0.1274 - binary_crossentropy: 0.0156 - acc: 0.9950\n",
      "\n",
      "Epoch 00529: acc improved from 0.99413 to 0.99505, saving model to ../cache/wt7-529.h5\n",
      "Epoch 530/530\n",
      "852/852 [==============================] - 241s 283ms/step - loss: 0.1233 - binary_crossentropy: 0.0116 - acc: 0.9961\n",
      "\n",
      "Epoch 00530: acc improved from 0.99505 to 0.99611, saving model to ../cache/wt7-530.h5\n",
      "530 1e-05 0.0014422967\n"
     ]
    },
    {
     "data": {
      "application/vnd.jupyter.widget-view+json": {
       "model_id": "a06b2d85dacd4c3d8c1d524c67df7d8e",
       "version_major": 2,
       "version_minor": 0
      },
      "text/html": [
       "<p>Failed to display Jupyter Widget of type <code>HBox</code>.</p>\n",
       "<p>\n",
       "  If you're reading this message in the Jupyter Notebook or JupyterLab Notebook, it may mean\n",
       "  that the widgets JavaScript is still loading. If this message persists, it\n",
       "  likely means that the widgets JavaScript library is either not installed or\n",
       "  not enabled. See the <a href=\"https://ipywidgets.readthedocs.io/en/stable/user_install.html\">Jupyter\n",
       "  Widgets Documentation</a> for setup instructions.\n",
       "</p>\n",
       "<p>\n",
       "  If you're reading this message in another frontend (for example, a static\n",
       "  rendering on GitHub or <a href=\"https://nbviewer.jupyter.org/\">NBViewer</a>),\n",
       "  it may mean that your frontend doesn't currently support widgets.\n",
       "</p>\n"
      ],
      "text/plain": [
       "HBox(children=(IntProgress(value=0, description='Features', max=213, style=ProgressStyle(description_width='initial')), HTML(value='')))"
      ]
     },
     "metadata": {},
     "output_type": "display_data"
    },
    {
     "name": "stdout",
     "output_type": "stream",
     "text": [
      "\n"
     ]
    },
    {
     "data": {
      "application/vnd.jupyter.widget-view+json": {
       "model_id": "d3bf776222734dbca5db87c8b58a60f7",
       "version_major": 2,
       "version_minor": 0
      },
      "text/html": [
       "<p>Failed to display Jupyter Widget of type <code>HBox</code>.</p>\n",
       "<p>\n",
       "  If you're reading this message in the Jupyter Notebook or JupyterLab Notebook, it may mean\n",
       "  that the widgets JavaScript is still loading. If this message persists, it\n",
       "  likely means that the widgets JavaScript library is either not installed or\n",
       "  not enabled. See the <a href=\"https://ipywidgets.readthedocs.io/en/stable/user_install.html\">Jupyter\n",
       "  Widgets Documentation</a> for setup instructions.\n",
       "</p>\n",
       "<p>\n",
       "  If you're reading this message in another frontend (for example, a static\n",
       "  rendering on GitHub or <a href=\"https://nbviewer.jupyter.org/\">NBViewer</a>),\n",
       "  it may mean that your frontend doesn't currently support widgets.\n",
       "</p>\n"
      ],
      "text/plain": [
       "HBox(children=(IntProgress(value=0, description='Scores', max=45306, style=ProgressStyle(description_width='initial')), HTML(value='')))"
      ]
     },
     "metadata": {},
     "output_type": "display_data"
    },
    {
     "name": "stdout",
     "output_type": "stream",
     "text": [
      "\n",
      "Epoch 531/535\n",
      "852/852 [==============================] - 230s 269ms/step - loss: 0.1479 - binary_crossentropy: 0.0364 - acc: 0.9878\n",
      "\n",
      "Epoch 00531: acc improved from -inf to 0.98781, saving model to ../cache/wt7-531.h5\n",
      "Epoch 532/535\n",
      "852/852 [==============================] - 239s 281ms/step - loss: 0.1389 - binary_crossentropy: 0.0275 - acc: 0.9914\n",
      "\n",
      "Epoch 00532: acc improved from 0.98781 to 0.99148, saving model to ../cache/wt7-532.h5\n",
      "Epoch 533/535\n",
      "852/852 [==============================] - 239s 280ms/step - loss: 0.1302 - binary_crossentropy: 0.0190 - acc: 0.9937\n",
      "\n",
      "Epoch 00533: acc improved from 0.99148 to 0.99369, saving model to ../cache/wt7-533.h5\n",
      "Epoch 534/535\n",
      "852/852 [==============================] - 240s 282ms/step - loss: 0.1276 - binary_crossentropy: 0.0165 - acc: 0.9942\n",
      "\n",
      "Epoch 00534: acc improved from 0.99369 to 0.99420, saving model to ../cache/wt7-534.h5\n",
      "Epoch 535/535\n",
      "852/852 [==============================] - 239s 280ms/step - loss: 0.1237 - binary_crossentropy: 0.0128 - acc: 0.9959\n",
      "\n",
      "Epoch 00535: acc improved from 0.99420 to 0.99593, saving model to ../cache/wt7-535.h5\n",
      "535 1e-05 0.0014224339\n"
     ]
    },
    {
     "data": {
      "application/vnd.jupyter.widget-view+json": {
       "model_id": "b9ceb50a1af540ac9c55bc87871d89b1",
       "version_major": 2,
       "version_minor": 0
      },
      "text/html": [
       "<p>Failed to display Jupyter Widget of type <code>HBox</code>.</p>\n",
       "<p>\n",
       "  If you're reading this message in the Jupyter Notebook or JupyterLab Notebook, it may mean\n",
       "  that the widgets JavaScript is still loading. If this message persists, it\n",
       "  likely means that the widgets JavaScript library is either not installed or\n",
       "  not enabled. See the <a href=\"https://ipywidgets.readthedocs.io/en/stable/user_install.html\">Jupyter\n",
       "  Widgets Documentation</a> for setup instructions.\n",
       "</p>\n",
       "<p>\n",
       "  If you're reading this message in another frontend (for example, a static\n",
       "  rendering on GitHub or <a href=\"https://nbviewer.jupyter.org/\">NBViewer</a>),\n",
       "  it may mean that your frontend doesn't currently support widgets.\n",
       "</p>\n"
      ],
      "text/plain": [
       "HBox(children=(IntProgress(value=0, description='Features', max=213, style=ProgressStyle(description_width='initial')), HTML(value='')))"
      ]
     },
     "metadata": {},
     "output_type": "display_data"
    },
    {
     "name": "stdout",
     "output_type": "stream",
     "text": [
      "\n"
     ]
    },
    {
     "data": {
      "application/vnd.jupyter.widget-view+json": {
       "model_id": "a252a16c83dc456ba98b45a6b810bb5f",
       "version_major": 2,
       "version_minor": 0
      },
      "text/html": [
       "<p>Failed to display Jupyter Widget of type <code>HBox</code>.</p>\n",
       "<p>\n",
       "  If you're reading this message in the Jupyter Notebook or JupyterLab Notebook, it may mean\n",
       "  that the widgets JavaScript is still loading. If this message persists, it\n",
       "  likely means that the widgets JavaScript library is either not installed or\n",
       "  not enabled. See the <a href=\"https://ipywidgets.readthedocs.io/en/stable/user_install.html\">Jupyter\n",
       "  Widgets Documentation</a> for setup instructions.\n",
       "</p>\n",
       "<p>\n",
       "  If you're reading this message in another frontend (for example, a static\n",
       "  rendering on GitHub or <a href=\"https://nbviewer.jupyter.org/\">NBViewer</a>),\n",
       "  it may mean that your frontend doesn't currently support widgets.\n",
       "</p>\n"
      ],
      "text/plain": [
       "HBox(children=(IntProgress(value=0, description='Scores', max=45306, style=ProgressStyle(description_width='initial')), HTML(value='')))"
      ]
     },
     "metadata": {},
     "output_type": "display_data"
    },
    {
     "name": "stdout",
     "output_type": "stream",
     "text": [
      "\n",
      "Epoch 536/540\n",
      "852/852 [==============================] - 231s 271ms/step - loss: 0.1470 - binary_crossentropy: 0.0363 - acc: 0.9883\n",
      "\n",
      "Epoch 00536: acc improved from -inf to 0.98826, saving model to ../cache/wt7-536.h5\n",
      "Epoch 537/540\n",
      "852/852 [==============================] - 239s 280ms/step - loss: 0.1363 - binary_crossentropy: 0.0257 - acc: 0.9920\n",
      "\n",
      "Epoch 00537: acc improved from 0.98826 to 0.99204, saving model to ../cache/wt7-537.h5\n",
      "Epoch 538/540\n",
      "852/852 [==============================] - 240s 281ms/step - loss: 0.1303 - binary_crossentropy: 0.0199 - acc: 0.9945\n",
      "\n",
      "Epoch 00538: acc improved from 0.99204 to 0.99446, saving model to ../cache/wt7-538.h5\n",
      "Epoch 539/540\n",
      "852/852 [==============================] - 240s 282ms/step - loss: 0.1255 - binary_crossentropy: 0.0152 - acc: 0.9956\n",
      "\n",
      "Epoch 00539: acc improved from 0.99446 to 0.99556, saving model to ../cache/wt7-539.h5\n",
      "Epoch 540/540\n",
      "852/852 [==============================] - 240s 282ms/step - loss: 0.1233 - binary_crossentropy: 0.0133 - acc: 0.9960\n",
      "\n",
      "Epoch 00540: acc improved from 0.99556 to 0.99596, saving model to ../cache/wt7-540.h5\n",
      "540 1e-05 0.0013871572\n"
     ]
    },
    {
     "data": {
      "application/vnd.jupyter.widget-view+json": {
       "model_id": "c551d67c0bdd473aa14db79ccc8616ec",
       "version_major": 2,
       "version_minor": 0
      },
      "text/html": [
       "<p>Failed to display Jupyter Widget of type <code>HBox</code>.</p>\n",
       "<p>\n",
       "  If you're reading this message in the Jupyter Notebook or JupyterLab Notebook, it may mean\n",
       "  that the widgets JavaScript is still loading. If this message persists, it\n",
       "  likely means that the widgets JavaScript library is either not installed or\n",
       "  not enabled. See the <a href=\"https://ipywidgets.readthedocs.io/en/stable/user_install.html\">Jupyter\n",
       "  Widgets Documentation</a> for setup instructions.\n",
       "</p>\n",
       "<p>\n",
       "  If you're reading this message in another frontend (for example, a static\n",
       "  rendering on GitHub or <a href=\"https://nbviewer.jupyter.org/\">NBViewer</a>),\n",
       "  it may mean that your frontend doesn't currently support widgets.\n",
       "</p>\n"
      ],
      "text/plain": [
       "HBox(children=(IntProgress(value=0, description='Features', max=213, style=ProgressStyle(description_width='initial')), HTML(value='')))"
      ]
     },
     "metadata": {},
     "output_type": "display_data"
    },
    {
     "name": "stdout",
     "output_type": "stream",
     "text": [
      "\n"
     ]
    },
    {
     "data": {
      "application/vnd.jupyter.widget-view+json": {
       "model_id": "0b7b4509273840fc83d94e74fd26bada",
       "version_major": 2,
       "version_minor": 0
      },
      "text/html": [
       "<p>Failed to display Jupyter Widget of type <code>HBox</code>.</p>\n",
       "<p>\n",
       "  If you're reading this message in the Jupyter Notebook or JupyterLab Notebook, it may mean\n",
       "  that the widgets JavaScript is still loading. If this message persists, it\n",
       "  likely means that the widgets JavaScript library is either not installed or\n",
       "  not enabled. See the <a href=\"https://ipywidgets.readthedocs.io/en/stable/user_install.html\">Jupyter\n",
       "  Widgets Documentation</a> for setup instructions.\n",
       "</p>\n",
       "<p>\n",
       "  If you're reading this message in another frontend (for example, a static\n",
       "  rendering on GitHub or <a href=\"https://nbviewer.jupyter.org/\">NBViewer</a>),\n",
       "  it may mean that your frontend doesn't currently support widgets.\n",
       "</p>\n"
      ],
      "text/plain": [
       "HBox(children=(IntProgress(value=0, description='Scores', max=45306, style=ProgressStyle(description_width='initial')), HTML(value='')))"
      ]
     },
     "metadata": {},
     "output_type": "display_data"
    },
    {
     "name": "stdout",
     "output_type": "stream",
     "text": [
      "\n",
      "Epoch 541/545\n",
      "852/852 [==============================] - 229s 269ms/step - loss: 0.1443 - binary_crossentropy: 0.0343 - acc: 0.9881\n",
      "\n",
      "Epoch 00541: acc improved from -inf to 0.98818, saving model to ../cache/wt7-541.h5\n",
      "Epoch 542/545\n",
      "852/852 [==============================] - 237s 278ms/step - loss: 0.1343 - binary_crossentropy: 0.0245 - acc: 0.9920\n",
      "\n",
      "Epoch 00542: acc improved from 0.98818 to 0.99196, saving model to ../cache/wt7-542.h5\n",
      "Epoch 543/545\n",
      "852/852 [==============================] - 237s 278ms/step - loss: 0.1274 - binary_crossentropy: 0.0178 - acc: 0.9941\n",
      "\n",
      "Epoch 00543: acc improved from 0.99196 to 0.99405, saving model to ../cache/wt7-543.h5\n",
      "Epoch 544/545\n",
      "852/852 [==============================] - 237s 278ms/step - loss: 0.1227 - binary_crossentropy: 0.0132 - acc: 0.9957\n",
      "\n",
      "Epoch 00544: acc improved from 0.99405 to 0.99578, saving model to ../cache/wt7-544.h5\n",
      "Epoch 545/545\n",
      "852/852 [==============================] - 237s 278ms/step - loss: 0.1198 - binary_crossentropy: 0.0106 - acc: 0.9967\n",
      "\n",
      "Epoch 00545: acc improved from 0.99578 to 0.99677, saving model to ../cache/wt7-545.h5\n",
      "545 1e-05 0.0013081734\n"
     ]
    },
    {
     "data": {
      "application/vnd.jupyter.widget-view+json": {
       "model_id": "3dc53ac8ef964821a3a423cba284833c",
       "version_major": 2,
       "version_minor": 0
      },
      "text/html": [
       "<p>Failed to display Jupyter Widget of type <code>HBox</code>.</p>\n",
       "<p>\n",
       "  If you're reading this message in the Jupyter Notebook or JupyterLab Notebook, it may mean\n",
       "  that the widgets JavaScript is still loading. If this message persists, it\n",
       "  likely means that the widgets JavaScript library is either not installed or\n",
       "  not enabled. See the <a href=\"https://ipywidgets.readthedocs.io/en/stable/user_install.html\">Jupyter\n",
       "  Widgets Documentation</a> for setup instructions.\n",
       "</p>\n",
       "<p>\n",
       "  If you're reading this message in another frontend (for example, a static\n",
       "  rendering on GitHub or <a href=\"https://nbviewer.jupyter.org/\">NBViewer</a>),\n",
       "  it may mean that your frontend doesn't currently support widgets.\n",
       "</p>\n"
      ],
      "text/plain": [
       "HBox(children=(IntProgress(value=0, description='Features', max=213, style=ProgressStyle(description_width='initial')), HTML(value='')))"
      ]
     },
     "metadata": {},
     "output_type": "display_data"
    },
    {
     "name": "stdout",
     "output_type": "stream",
     "text": [
      "\n"
     ]
    },
    {
     "data": {
      "application/vnd.jupyter.widget-view+json": {
       "model_id": "20d9f3b80cc54f108eae03dcb7ba6ea2",
       "version_major": 2,
       "version_minor": 0
      },
      "text/html": [
       "<p>Failed to display Jupyter Widget of type <code>HBox</code>.</p>\n",
       "<p>\n",
       "  If you're reading this message in the Jupyter Notebook or JupyterLab Notebook, it may mean\n",
       "  that the widgets JavaScript is still loading. If this message persists, it\n",
       "  likely means that the widgets JavaScript library is either not installed or\n",
       "  not enabled. See the <a href=\"https://ipywidgets.readthedocs.io/en/stable/user_install.html\">Jupyter\n",
       "  Widgets Documentation</a> for setup instructions.\n",
       "</p>\n",
       "<p>\n",
       "  If you're reading this message in another frontend (for example, a static\n",
       "  rendering on GitHub or <a href=\"https://nbviewer.jupyter.org/\">NBViewer</a>),\n",
       "  it may mean that your frontend doesn't currently support widgets.\n",
       "</p>\n"
      ],
      "text/plain": [
       "HBox(children=(IntProgress(value=0, description='Scores', max=45306, style=ProgressStyle(description_width='initial')), HTML(value='')))"
      ]
     },
     "metadata": {},
     "output_type": "display_data"
    },
    {
     "name": "stdout",
     "output_type": "stream",
     "text": [
      "\n",
      "Epoch 546/550\n",
      "852/852 [==============================] - 229s 269ms/step - loss: 0.1453 - binary_crossentropy: 0.0362 - acc: 0.9883\n",
      "\n",
      "Epoch 00546: acc improved from -inf to 0.98826, saving model to ../cache/wt7-546.h5\n",
      "Epoch 547/550\n",
      "852/852 [==============================] - 236s 277ms/step - loss: 0.1367 - binary_crossentropy: 0.0278 - acc: 0.9908\n",
      "\n",
      "Epoch 00547: acc improved from 0.98826 to 0.99075, saving model to ../cache/wt7-547.h5\n",
      "Epoch 548/550\n",
      "852/852 [==============================] - 238s 279ms/step - loss: 0.1281 - binary_crossentropy: 0.0193 - acc: 0.9939\n",
      "\n",
      "Epoch 00548: acc improved from 0.99075 to 0.99391, saving model to ../cache/wt7-548.h5\n",
      "Epoch 549/550\n",
      "852/852 [==============================] - 237s 278ms/step - loss: 0.1222 - binary_crossentropy: 0.0136 - acc: 0.9963\n",
      "\n",
      "Epoch 00549: acc improved from 0.99391 to 0.99626, saving model to ../cache/wt7-549.h5\n",
      "Epoch 550/550\n",
      "852/852 [==============================] - 237s 278ms/step - loss: 0.1205 - binary_crossentropy: 0.0121 - acc: 0.9966\n",
      "\n",
      "Epoch 00550: acc improved from 0.99626 to 0.99655, saving model to ../cache/wt7-550.h5\n",
      "550 1e-05 0.001304891\n"
     ]
    },
    {
     "data": {
      "application/vnd.jupyter.widget-view+json": {
       "model_id": "20df3f0daf854c1b888cb25393b36eae",
       "version_major": 2,
       "version_minor": 0
      },
      "text/html": [
       "<p>Failed to display Jupyter Widget of type <code>HBox</code>.</p>\n",
       "<p>\n",
       "  If you're reading this message in the Jupyter Notebook or JupyterLab Notebook, it may mean\n",
       "  that the widgets JavaScript is still loading. If this message persists, it\n",
       "  likely means that the widgets JavaScript library is either not installed or\n",
       "  not enabled. See the <a href=\"https://ipywidgets.readthedocs.io/en/stable/user_install.html\">Jupyter\n",
       "  Widgets Documentation</a> for setup instructions.\n",
       "</p>\n",
       "<p>\n",
       "  If you're reading this message in another frontend (for example, a static\n",
       "  rendering on GitHub or <a href=\"https://nbviewer.jupyter.org/\">NBViewer</a>),\n",
       "  it may mean that your frontend doesn't currently support widgets.\n",
       "</p>\n"
      ],
      "text/plain": [
       "HBox(children=(IntProgress(value=0, description='Features', max=213, style=ProgressStyle(description_width='initial')), HTML(value='')))"
      ]
     },
     "metadata": {},
     "output_type": "display_data"
    },
    {
     "name": "stdout",
     "output_type": "stream",
     "text": [
      "\n"
     ]
    },
    {
     "data": {
      "application/vnd.jupyter.widget-view+json": {
       "model_id": "1a375f973ccb49a4b20b997ee7e8f6f7",
       "version_major": 2,
       "version_minor": 0
      },
      "text/html": [
       "<p>Failed to display Jupyter Widget of type <code>HBox</code>.</p>\n",
       "<p>\n",
       "  If you're reading this message in the Jupyter Notebook or JupyterLab Notebook, it may mean\n",
       "  that the widgets JavaScript is still loading. If this message persists, it\n",
       "  likely means that the widgets JavaScript library is either not installed or\n",
       "  not enabled. See the <a href=\"https://ipywidgets.readthedocs.io/en/stable/user_install.html\">Jupyter\n",
       "  Widgets Documentation</a> for setup instructions.\n",
       "</p>\n",
       "<p>\n",
       "  If you're reading this message in another frontend (for example, a static\n",
       "  rendering on GitHub or <a href=\"https://nbviewer.jupyter.org/\">NBViewer</a>),\n",
       "  it may mean that your frontend doesn't currently support widgets.\n",
       "</p>\n"
      ],
      "text/plain": [
       "HBox(children=(IntProgress(value=0, description='Scores', max=45306, style=ProgressStyle(description_width='initial')), HTML(value='')))"
      ]
     },
     "metadata": {},
     "output_type": "display_data"
    },
    {
     "name": "stdout",
     "output_type": "stream",
     "text": [
      "\n",
      "Epoch 551/555\n",
      "852/852 [==============================] - 228s 268ms/step - loss: 0.1426 - binary_crossentropy: 0.0343 - acc: 0.9888\n",
      "\n",
      "Epoch 00551: acc improved from -inf to 0.98881, saving model to ../cache/wt7-551.h5\n",
      "Epoch 552/555\n",
      "852/852 [==============================] - 236s 277ms/step - loss: 0.1327 - binary_crossentropy: 0.0246 - acc: 0.9927\n",
      "\n",
      "Epoch 00552: acc improved from 0.98881 to 0.99266, saving model to ../cache/wt7-552.h5\n",
      "Epoch 553/555\n",
      "852/852 [==============================] - 238s 280ms/step - loss: 0.1290 - binary_crossentropy: 0.0209 - acc: 0.9939\n",
      "\n",
      "Epoch 00553: acc improved from 0.99266 to 0.99391, saving model to ../cache/wt7-553.h5\n",
      "Epoch 554/555\n",
      "852/852 [==============================] - 238s 279ms/step - loss: 0.1249 - binary_crossentropy: 0.0170 - acc: 0.9946\n",
      "\n",
      "Epoch 00554: acc improved from 0.99391 to 0.99464, saving model to ../cache/wt7-554.h5\n",
      "Epoch 555/555\n",
      "852/852 [==============================] - 238s 279ms/step - loss: 0.1217 - binary_crossentropy: 0.0140 - acc: 0.9961\n",
      "\n",
      "Epoch 00555: acc improved from 0.99464 to 0.99611, saving model to ../cache/wt7-555.h5\n",
      "555 1e-05 0.0014302123\n"
     ]
    },
    {
     "data": {
      "application/vnd.jupyter.widget-view+json": {
       "model_id": "589ccfc7376b481ab874017ba85fdafe",
       "version_major": 2,
       "version_minor": 0
      },
      "text/html": [
       "<p>Failed to display Jupyter Widget of type <code>HBox</code>.</p>\n",
       "<p>\n",
       "  If you're reading this message in the Jupyter Notebook or JupyterLab Notebook, it may mean\n",
       "  that the widgets JavaScript is still loading. If this message persists, it\n",
       "  likely means that the widgets JavaScript library is either not installed or\n",
       "  not enabled. See the <a href=\"https://ipywidgets.readthedocs.io/en/stable/user_install.html\">Jupyter\n",
       "  Widgets Documentation</a> for setup instructions.\n",
       "</p>\n",
       "<p>\n",
       "  If you're reading this message in another frontend (for example, a static\n",
       "  rendering on GitHub or <a href=\"https://nbviewer.jupyter.org/\">NBViewer</a>),\n",
       "  it may mean that your frontend doesn't currently support widgets.\n",
       "</p>\n"
      ],
      "text/plain": [
       "HBox(children=(IntProgress(value=0, description='Features', max=213, style=ProgressStyle(description_width='initial')), HTML(value='')))"
      ]
     },
     "metadata": {},
     "output_type": "display_data"
    },
    {
     "name": "stdout",
     "output_type": "stream",
     "text": [
      "\n"
     ]
    },
    {
     "data": {
      "application/vnd.jupyter.widget-view+json": {
       "model_id": "c2f91fed56c3415097b1a42cb758db1f",
       "version_major": 2,
       "version_minor": 0
      },
      "text/html": [
       "<p>Failed to display Jupyter Widget of type <code>HBox</code>.</p>\n",
       "<p>\n",
       "  If you're reading this message in the Jupyter Notebook or JupyterLab Notebook, it may mean\n",
       "  that the widgets JavaScript is still loading. If this message persists, it\n",
       "  likely means that the widgets JavaScript library is either not installed or\n",
       "  not enabled. See the <a href=\"https://ipywidgets.readthedocs.io/en/stable/user_install.html\">Jupyter\n",
       "  Widgets Documentation</a> for setup instructions.\n",
       "</p>\n",
       "<p>\n",
       "  If you're reading this message in another frontend (for example, a static\n",
       "  rendering on GitHub or <a href=\"https://nbviewer.jupyter.org/\">NBViewer</a>),\n",
       "  it may mean that your frontend doesn't currently support widgets.\n",
       "</p>\n"
      ],
      "text/plain": [
       "HBox(children=(IntProgress(value=0, description='Scores', max=45306, style=ProgressStyle(description_width='initial')), HTML(value='')))"
      ]
     },
     "metadata": {},
     "output_type": "display_data"
    },
    {
     "name": "stdout",
     "output_type": "stream",
     "text": [
      "\n",
      "Epoch 556/560\n",
      "852/852 [==============================] - 229s 269ms/step - loss: 0.1429 - binary_crossentropy: 0.0353 - acc: 0.9876\n",
      "\n",
      "Epoch 00556: acc improved from -inf to 0.98759, saving model to ../cache/wt7-556.h5\n",
      "Epoch 557/560\n",
      "852/852 [==============================] - 238s 280ms/step - loss: 0.1320 - binary_crossentropy: 0.0245 - acc: 0.9920\n",
      "\n",
      "Epoch 00557: acc improved from 0.98759 to 0.99200, saving model to ../cache/wt7-557.h5\n",
      "Epoch 558/560\n",
      "852/852 [==============================] - 240s 282ms/step - loss: 0.1267 - binary_crossentropy: 0.0194 - acc: 0.9938\n",
      "\n",
      "Epoch 00558: acc improved from 0.99200 to 0.99376, saving model to ../cache/wt7-558.h5\n",
      "Epoch 559/560\n",
      "852/852 [==============================] - 240s 282ms/step - loss: 0.1205 - binary_crossentropy: 0.0134 - acc: 0.9960\n",
      "\n",
      "Epoch 00559: acc improved from 0.99376 to 0.99596, saving model to ../cache/wt7-559.h5\n",
      "Epoch 560/560\n",
      "852/852 [==============================] - 239s 281ms/step - loss: 0.1173 - binary_crossentropy: 0.0104 - acc: 0.9968\n",
      "\n",
      "Epoch 00560: acc improved from 0.99596 to 0.99677, saving model to ../cache/wt7-560.h5\n",
      "560 1e-05 0.0014245507\n"
     ]
    },
    {
     "data": {
      "application/vnd.jupyter.widget-view+json": {
       "model_id": "f06e04a1b6804cf3b312e11606401071",
       "version_major": 2,
       "version_minor": 0
      },
      "text/html": [
       "<p>Failed to display Jupyter Widget of type <code>HBox</code>.</p>\n",
       "<p>\n",
       "  If you're reading this message in the Jupyter Notebook or JupyterLab Notebook, it may mean\n",
       "  that the widgets JavaScript is still loading. If this message persists, it\n",
       "  likely means that the widgets JavaScript library is either not installed or\n",
       "  not enabled. See the <a href=\"https://ipywidgets.readthedocs.io/en/stable/user_install.html\">Jupyter\n",
       "  Widgets Documentation</a> for setup instructions.\n",
       "</p>\n",
       "<p>\n",
       "  If you're reading this message in another frontend (for example, a static\n",
       "  rendering on GitHub or <a href=\"https://nbviewer.jupyter.org/\">NBViewer</a>),\n",
       "  it may mean that your frontend doesn't currently support widgets.\n",
       "</p>\n"
      ],
      "text/plain": [
       "HBox(children=(IntProgress(value=0, description='Features', max=213, style=ProgressStyle(description_width='initial')), HTML(value='')))"
      ]
     },
     "metadata": {},
     "output_type": "display_data"
    },
    {
     "name": "stdout",
     "output_type": "stream",
     "text": [
      "\n"
     ]
    },
    {
     "data": {
      "application/vnd.jupyter.widget-view+json": {
       "model_id": "9d793b60425a41b2bb7dc145eda86856",
       "version_major": 2,
       "version_minor": 0
      },
      "text/html": [
       "<p>Failed to display Jupyter Widget of type <code>HBox</code>.</p>\n",
       "<p>\n",
       "  If you're reading this message in the Jupyter Notebook or JupyterLab Notebook, it may mean\n",
       "  that the widgets JavaScript is still loading. If this message persists, it\n",
       "  likely means that the widgets JavaScript library is either not installed or\n",
       "  not enabled. See the <a href=\"https://ipywidgets.readthedocs.io/en/stable/user_install.html\">Jupyter\n",
       "  Widgets Documentation</a> for setup instructions.\n",
       "</p>\n",
       "<p>\n",
       "  If you're reading this message in another frontend (for example, a static\n",
       "  rendering on GitHub or <a href=\"https://nbviewer.jupyter.org/\">NBViewer</a>),\n",
       "  it may mean that your frontend doesn't currently support widgets.\n",
       "</p>\n"
      ],
      "text/plain": [
       "HBox(children=(IntProgress(value=0, description='Scores', max=45306, style=ProgressStyle(description_width='initial')), HTML(value='')))"
      ]
     },
     "metadata": {},
     "output_type": "display_data"
    },
    {
     "name": "stdout",
     "output_type": "stream",
     "text": [
      "\n",
      "Epoch 561/565\n",
      "852/852 [==============================] - 229s 268ms/step - loss: 0.1422 - binary_crossentropy: 0.0354 - acc: 0.9883\n",
      "\n",
      "Epoch 00561: acc improved from -inf to 0.98826, saving model to ../cache/wt7-561.h5\n",
      "Epoch 562/565\n",
      "852/852 [==============================] - 237s 279ms/step - loss: 0.1312 - binary_crossentropy: 0.0245 - acc: 0.9926\n",
      "\n",
      "Epoch 00562: acc improved from 0.98826 to 0.99266, saving model to ../cache/wt7-562.h5\n",
      "Epoch 563/565\n",
      "852/852 [==============================] - 238s 279ms/step - loss: 0.1239 - binary_crossentropy: 0.0174 - acc: 0.9946\n",
      "\n",
      "Epoch 00563: acc improved from 0.99266 to 0.99464, saving model to ../cache/wt7-563.h5\n",
      "Epoch 564/565\n",
      "852/852 [==============================] - 238s 279ms/step - loss: 0.1197 - binary_crossentropy: 0.0133 - acc: 0.9961\n",
      "\n",
      "Epoch 00564: acc improved from 0.99464 to 0.99611, saving model to ../cache/wt7-564.h5\n",
      "Epoch 565/565\n",
      "852/852 [==============================] - 239s 280ms/step - loss: 0.1188 - binary_crossentropy: 0.0126 - acc: 0.9960\n",
      "\n",
      "Epoch 00565: acc did not improve from 0.99611\n",
      "565 1e-05 0.0014268665\n"
     ]
    },
    {
     "data": {
      "application/vnd.jupyter.widget-view+json": {
       "model_id": "7eac642630bb4a71aed7d7e625abe04d",
       "version_major": 2,
       "version_minor": 0
      },
      "text/html": [
       "<p>Failed to display Jupyter Widget of type <code>HBox</code>.</p>\n",
       "<p>\n",
       "  If you're reading this message in the Jupyter Notebook or JupyterLab Notebook, it may mean\n",
       "  that the widgets JavaScript is still loading. If this message persists, it\n",
       "  likely means that the widgets JavaScript library is either not installed or\n",
       "  not enabled. See the <a href=\"https://ipywidgets.readthedocs.io/en/stable/user_install.html\">Jupyter\n",
       "  Widgets Documentation</a> for setup instructions.\n",
       "</p>\n",
       "<p>\n",
       "  If you're reading this message in another frontend (for example, a static\n",
       "  rendering on GitHub or <a href=\"https://nbviewer.jupyter.org/\">NBViewer</a>),\n",
       "  it may mean that your frontend doesn't currently support widgets.\n",
       "</p>\n"
      ],
      "text/plain": [
       "HBox(children=(IntProgress(value=0, description='Features', max=213, style=ProgressStyle(description_width='initial')), HTML(value='')))"
      ]
     },
     "metadata": {},
     "output_type": "display_data"
    },
    {
     "name": "stdout",
     "output_type": "stream",
     "text": [
      "\n"
     ]
    },
    {
     "data": {
      "application/vnd.jupyter.widget-view+json": {
       "model_id": "6243bfbb26ef4692aa20687419b4840b",
       "version_major": 2,
       "version_minor": 0
      },
      "text/html": [
       "<p>Failed to display Jupyter Widget of type <code>HBox</code>.</p>\n",
       "<p>\n",
       "  If you're reading this message in the Jupyter Notebook or JupyterLab Notebook, it may mean\n",
       "  that the widgets JavaScript is still loading. If this message persists, it\n",
       "  likely means that the widgets JavaScript library is either not installed or\n",
       "  not enabled. See the <a href=\"https://ipywidgets.readthedocs.io/en/stable/user_install.html\">Jupyter\n",
       "  Widgets Documentation</a> for setup instructions.\n",
       "</p>\n",
       "<p>\n",
       "  If you're reading this message in another frontend (for example, a static\n",
       "  rendering on GitHub or <a href=\"https://nbviewer.jupyter.org/\">NBViewer</a>),\n",
       "  it may mean that your frontend doesn't currently support widgets.\n",
       "</p>\n"
      ],
      "text/plain": [
       "HBox(children=(IntProgress(value=0, description='Scores', max=45306, style=ProgressStyle(description_width='initial')), HTML(value='')))"
      ]
     },
     "metadata": {},
     "output_type": "display_data"
    },
    {
     "name": "stdout",
     "output_type": "stream",
     "text": [
      "\n",
      "Epoch 566/570\n",
      "852/852 [==============================] - 230s 270ms/step - loss: 0.1412 - binary_crossentropy: 0.0352 - acc: 0.9884\n",
      "\n",
      "Epoch 00566: acc improved from -inf to 0.98837, saving model to ../cache/wt7-566.h5\n",
      "Epoch 567/570\n",
      "852/852 [==============================] - 239s 281ms/step - loss: 0.1300 - binary_crossentropy: 0.0241 - acc: 0.9926\n",
      "\n",
      "Epoch 00567: acc improved from 0.98837 to 0.99262, saving model to ../cache/wt7-567.h5\n",
      "Epoch 568/570\n",
      "852/852 [==============================] - 239s 280ms/step - loss: 0.1228 - binary_crossentropy: 0.0171 - acc: 0.9949\n",
      "\n",
      "Epoch 00568: acc improved from 0.99262 to 0.99486, saving model to ../cache/wt7-568.h5\n",
      "Epoch 569/570\n",
      "852/852 [==============================] - 240s 282ms/step - loss: 0.1191 - binary_crossentropy: 0.0135 - acc: 0.9961\n",
      "\n",
      "Epoch 00569: acc improved from 0.99486 to 0.99611, saving model to ../cache/wt7-569.h5\n",
      "Epoch 570/570\n",
      "852/852 [==============================] - 241s 283ms/step - loss: 0.1167 - binary_crossentropy: 0.0113 - acc: 0.9966\n",
      "\n",
      "Epoch 00570: acc improved from 0.99611 to 0.99655, saving model to ../cache/wt7-570.h5\n",
      "570 1e-05 0.0014173845\n"
     ]
    },
    {
     "data": {
      "application/vnd.jupyter.widget-view+json": {
       "model_id": "044627e4d11c489f9f851740495f7c50",
       "version_major": 2,
       "version_minor": 0
      },
      "text/html": [
       "<p>Failed to display Jupyter Widget of type <code>HBox</code>.</p>\n",
       "<p>\n",
       "  If you're reading this message in the Jupyter Notebook or JupyterLab Notebook, it may mean\n",
       "  that the widgets JavaScript is still loading. If this message persists, it\n",
       "  likely means that the widgets JavaScript library is either not installed or\n",
       "  not enabled. See the <a href=\"https://ipywidgets.readthedocs.io/en/stable/user_install.html\">Jupyter\n",
       "  Widgets Documentation</a> for setup instructions.\n",
       "</p>\n",
       "<p>\n",
       "  If you're reading this message in another frontend (for example, a static\n",
       "  rendering on GitHub or <a href=\"https://nbviewer.jupyter.org/\">NBViewer</a>),\n",
       "  it may mean that your frontend doesn't currently support widgets.\n",
       "</p>\n"
      ],
      "text/plain": [
       "HBox(children=(IntProgress(value=0, description='Features', max=213, style=ProgressStyle(description_width='initial')), HTML(value='')))"
      ]
     },
     "metadata": {},
     "output_type": "display_data"
    },
    {
     "name": "stdout",
     "output_type": "stream",
     "text": [
      "\n"
     ]
    },
    {
     "data": {
      "application/vnd.jupyter.widget-view+json": {
       "model_id": "afe4d551cb9c472fa9d122ce399d0b6e",
       "version_major": 2,
       "version_minor": 0
      },
      "text/html": [
       "<p>Failed to display Jupyter Widget of type <code>HBox</code>.</p>\n",
       "<p>\n",
       "  If you're reading this message in the Jupyter Notebook or JupyterLab Notebook, it may mean\n",
       "  that the widgets JavaScript is still loading. If this message persists, it\n",
       "  likely means that the widgets JavaScript library is either not installed or\n",
       "  not enabled. See the <a href=\"https://ipywidgets.readthedocs.io/en/stable/user_install.html\">Jupyter\n",
       "  Widgets Documentation</a> for setup instructions.\n",
       "</p>\n",
       "<p>\n",
       "  If you're reading this message in another frontend (for example, a static\n",
       "  rendering on GitHub or <a href=\"https://nbviewer.jupyter.org/\">NBViewer</a>),\n",
       "  it may mean that your frontend doesn't currently support widgets.\n",
       "</p>\n"
      ],
      "text/plain": [
       "HBox(children=(IntProgress(value=0, description='Scores', max=45306, style=ProgressStyle(description_width='initial')), HTML(value='')))"
      ]
     },
     "metadata": {},
     "output_type": "display_data"
    },
    {
     "name": "stdout",
     "output_type": "stream",
     "text": [
      "\n",
      "Epoch 571/575\n",
      "852/852 [==============================] - 230s 269ms/step - loss: 0.1382 - binary_crossentropy: 0.0329 - acc: 0.9887\n",
      "\n",
      "Epoch 00571: acc improved from -inf to 0.98870, saving model to ../cache/wt7-571.h5\n",
      "Epoch 572/575\n",
      "852/852 [==============================] - 239s 281ms/step - loss: 0.1279 - binary_crossentropy: 0.0228 - acc: 0.9924\n",
      "\n",
      "Epoch 00572: acc improved from 0.98870 to 0.99237, saving model to ../cache/wt7-572.h5\n",
      "Epoch 573/575\n",
      "852/852 [==============================] - 239s 281ms/step - loss: 0.1216 - binary_crossentropy: 0.0166 - acc: 0.9946\n",
      "\n",
      "Epoch 00573: acc improved from 0.99237 to 0.99457, saving model to ../cache/wt7-573.h5\n",
      "Epoch 574/575\n",
      "852/852 [==============================] - 237s 279ms/step - loss: 0.1181 - binary_crossentropy: 0.0132 - acc: 0.9957\n",
      "\n",
      "Epoch 00574: acc improved from 0.99457 to 0.99567, saving model to ../cache/wt7-574.h5\n",
      "Epoch 575/575\n",
      "852/852 [==============================] - 237s 278ms/step - loss: 0.1166 - binary_crossentropy: 0.0119 - acc: 0.9963\n",
      "\n",
      "Epoch 00575: acc improved from 0.99567 to 0.99626, saving model to ../cache/wt7-575.h5\n",
      "575 1e-05 0.0012735593\n"
     ]
    },
    {
     "data": {
      "application/vnd.jupyter.widget-view+json": {
       "model_id": "ef3cce4398874ff3b9910e65728be092",
       "version_major": 2,
       "version_minor": 0
      },
      "text/html": [
       "<p>Failed to display Jupyter Widget of type <code>HBox</code>.</p>\n",
       "<p>\n",
       "  If you're reading this message in the Jupyter Notebook or JupyterLab Notebook, it may mean\n",
       "  that the widgets JavaScript is still loading. If this message persists, it\n",
       "  likely means that the widgets JavaScript library is either not installed or\n",
       "  not enabled. See the <a href=\"https://ipywidgets.readthedocs.io/en/stable/user_install.html\">Jupyter\n",
       "  Widgets Documentation</a> for setup instructions.\n",
       "</p>\n",
       "<p>\n",
       "  If you're reading this message in another frontend (for example, a static\n",
       "  rendering on GitHub or <a href=\"https://nbviewer.jupyter.org/\">NBViewer</a>),\n",
       "  it may mean that your frontend doesn't currently support widgets.\n",
       "</p>\n"
      ],
      "text/plain": [
       "HBox(children=(IntProgress(value=0, description='Features', max=213, style=ProgressStyle(description_width='initial')), HTML(value='')))"
      ]
     },
     "metadata": {},
     "output_type": "display_data"
    },
    {
     "name": "stdout",
     "output_type": "stream",
     "text": [
      "\n"
     ]
    },
    {
     "data": {
      "application/vnd.jupyter.widget-view+json": {
       "model_id": "f02d1dbe3f7f429b9f8964bccad372ea",
       "version_major": 2,
       "version_minor": 0
      },
      "text/html": [
       "<p>Failed to display Jupyter Widget of type <code>HBox</code>.</p>\n",
       "<p>\n",
       "  If you're reading this message in the Jupyter Notebook or JupyterLab Notebook, it may mean\n",
       "  that the widgets JavaScript is still loading. If this message persists, it\n",
       "  likely means that the widgets JavaScript library is either not installed or\n",
       "  not enabled. See the <a href=\"https://ipywidgets.readthedocs.io/en/stable/user_install.html\">Jupyter\n",
       "  Widgets Documentation</a> for setup instructions.\n",
       "</p>\n",
       "<p>\n",
       "  If you're reading this message in another frontend (for example, a static\n",
       "  rendering on GitHub or <a href=\"https://nbviewer.jupyter.org/\">NBViewer</a>),\n",
       "  it may mean that your frontend doesn't currently support widgets.\n",
       "</p>\n"
      ],
      "text/plain": [
       "HBox(children=(IntProgress(value=0, description='Scores', max=45306, style=ProgressStyle(description_width='initial')), HTML(value='')))"
      ]
     },
     "metadata": {},
     "output_type": "display_data"
    },
    {
     "name": "stdout",
     "output_type": "stream",
     "text": [
      "\n",
      "Epoch 576/580\n",
      "852/852 [==============================] - 230s 269ms/step - loss: 0.1385 - binary_crossentropy: 0.0340 - acc: 0.9886\n",
      "\n",
      "Epoch 00576: acc improved from -inf to 0.98866, saving model to ../cache/wt7-576.h5\n",
      "Epoch 577/580\n",
      "852/852 [==============================] - 239s 281ms/step - loss: 0.1292 - binary_crossentropy: 0.0247 - acc: 0.9921\n",
      "\n",
      "Epoch 00577: acc improved from 0.98866 to 0.99207, saving model to ../cache/wt7-577.h5\n",
      "Epoch 578/580\n",
      "852/852 [==============================] - 239s 280ms/step - loss: 0.1228 - binary_crossentropy: 0.0185 - acc: 0.9944\n",
      "\n",
      "Epoch 00578: acc improved from 0.99207 to 0.99442, saving model to ../cache/wt7-578.h5\n",
      "Epoch 579/580\n",
      "852/852 [==============================] - 240s 281ms/step - loss: 0.1181 - binary_crossentropy: 0.0139 - acc: 0.9957\n",
      "\n",
      "Epoch 00579: acc improved from 0.99442 to 0.99574, saving model to ../cache/wt7-579.h5\n",
      "Epoch 580/580\n",
      "852/852 [==============================] - 240s 281ms/step - loss: 0.1149 - binary_crossentropy: 0.0110 - acc: 0.9967\n",
      "\n",
      "Epoch 00580: acc improved from 0.99574 to 0.99666, saving model to ../cache/wt7-580.h5\n",
      "580 1e-05 0.0013323601\n"
     ]
    },
    {
     "data": {
      "application/vnd.jupyter.widget-view+json": {
       "model_id": "1a857e5b2d304c0bac06bd6f6fac7f97",
       "version_major": 2,
       "version_minor": 0
      },
      "text/html": [
       "<p>Failed to display Jupyter Widget of type <code>HBox</code>.</p>\n",
       "<p>\n",
       "  If you're reading this message in the Jupyter Notebook or JupyterLab Notebook, it may mean\n",
       "  that the widgets JavaScript is still loading. If this message persists, it\n",
       "  likely means that the widgets JavaScript library is either not installed or\n",
       "  not enabled. See the <a href=\"https://ipywidgets.readthedocs.io/en/stable/user_install.html\">Jupyter\n",
       "  Widgets Documentation</a> for setup instructions.\n",
       "</p>\n",
       "<p>\n",
       "  If you're reading this message in another frontend (for example, a static\n",
       "  rendering on GitHub or <a href=\"https://nbviewer.jupyter.org/\">NBViewer</a>),\n",
       "  it may mean that your frontend doesn't currently support widgets.\n",
       "</p>\n"
      ],
      "text/plain": [
       "HBox(children=(IntProgress(value=0, description='Features', max=213, style=ProgressStyle(description_width='initial')), HTML(value='')))"
      ]
     },
     "metadata": {},
     "output_type": "display_data"
    },
    {
     "name": "stdout",
     "output_type": "stream",
     "text": [
      "\n"
     ]
    },
    {
     "data": {
      "application/vnd.jupyter.widget-view+json": {
       "model_id": "d8c3b7c207cd4279b094684f104edac5",
       "version_major": 2,
       "version_minor": 0
      },
      "text/html": [
       "<p>Failed to display Jupyter Widget of type <code>HBox</code>.</p>\n",
       "<p>\n",
       "  If you're reading this message in the Jupyter Notebook or JupyterLab Notebook, it may mean\n",
       "  that the widgets JavaScript is still loading. If this message persists, it\n",
       "  likely means that the widgets JavaScript library is either not installed or\n",
       "  not enabled. See the <a href=\"https://ipywidgets.readthedocs.io/en/stable/user_install.html\">Jupyter\n",
       "  Widgets Documentation</a> for setup instructions.\n",
       "</p>\n",
       "<p>\n",
       "  If you're reading this message in another frontend (for example, a static\n",
       "  rendering on GitHub or <a href=\"https://nbviewer.jupyter.org/\">NBViewer</a>),\n",
       "  it may mean that your frontend doesn't currently support widgets.\n",
       "</p>\n"
      ],
      "text/plain": [
       "HBox(children=(IntProgress(value=0, description='Scores', max=45306, style=ProgressStyle(description_width='initial')), HTML(value='')))"
      ]
     },
     "metadata": {},
     "output_type": "display_data"
    },
    {
     "name": "stdout",
     "output_type": "stream",
     "text": [
      "\n",
      "Epoch 581/585\n",
      "852/852 [==============================] - 230s 270ms/step - loss: 0.1361 - binary_crossentropy: 0.0323 - acc: 0.9896\n",
      "\n",
      "Epoch 00581: acc improved from -inf to 0.98961, saving model to ../cache/wt7-581.h5\n",
      "Epoch 582/585\n",
      "852/852 [==============================] - 239s 280ms/step - loss: 0.1268 - binary_crossentropy: 0.0231 - acc: 0.9926\n",
      "\n",
      "Epoch 00582: acc improved from 0.98961 to 0.99255, saving model to ../cache/wt7-582.h5\n",
      "Epoch 583/585\n",
      "852/852 [==============================] - 238s 279ms/step - loss: 0.1198 - binary_crossentropy: 0.0163 - acc: 0.9953\n",
      "\n",
      "Epoch 00583: acc improved from 0.99255 to 0.99530, saving model to ../cache/wt7-583.h5\n",
      "Epoch 584/585\n",
      "852/852 [==============================] - 239s 281ms/step - loss: 0.1180 - binary_crossentropy: 0.0146 - acc: 0.9957\n",
      "\n",
      "Epoch 00584: acc improved from 0.99530 to 0.99571, saving model to ../cache/wt7-584.h5\n",
      "Epoch 585/585\n",
      "852/852 [==============================] - 238s 280ms/step - loss: 0.1144 - binary_crossentropy: 0.0111 - acc: 0.9969\n",
      "\n",
      "Epoch 00585: acc improved from 0.99571 to 0.99688, saving model to ../cache/wt7-585.h5\n",
      "585 1e-05 0.0012761076\n"
     ]
    },
    {
     "data": {
      "application/vnd.jupyter.widget-view+json": {
       "model_id": "251f8ddce1c049c89582a53e1cb68cbb",
       "version_major": 2,
       "version_minor": 0
      },
      "text/html": [
       "<p>Failed to display Jupyter Widget of type <code>HBox</code>.</p>\n",
       "<p>\n",
       "  If you're reading this message in the Jupyter Notebook or JupyterLab Notebook, it may mean\n",
       "  that the widgets JavaScript is still loading. If this message persists, it\n",
       "  likely means that the widgets JavaScript library is either not installed or\n",
       "  not enabled. See the <a href=\"https://ipywidgets.readthedocs.io/en/stable/user_install.html\">Jupyter\n",
       "  Widgets Documentation</a> for setup instructions.\n",
       "</p>\n",
       "<p>\n",
       "  If you're reading this message in another frontend (for example, a static\n",
       "  rendering on GitHub or <a href=\"https://nbviewer.jupyter.org/\">NBViewer</a>),\n",
       "  it may mean that your frontend doesn't currently support widgets.\n",
       "</p>\n"
      ],
      "text/plain": [
       "HBox(children=(IntProgress(value=0, description='Features', max=213, style=ProgressStyle(description_width='initial')), HTML(value='')))"
      ]
     },
     "metadata": {},
     "output_type": "display_data"
    },
    {
     "name": "stdout",
     "output_type": "stream",
     "text": [
      "\n"
     ]
    },
    {
     "data": {
      "application/vnd.jupyter.widget-view+json": {
       "model_id": "f357b79e653c49c19983e8c8787b8e6c",
       "version_major": 2,
       "version_minor": 0
      },
      "text/html": [
       "<p>Failed to display Jupyter Widget of type <code>HBox</code>.</p>\n",
       "<p>\n",
       "  If you're reading this message in the Jupyter Notebook or JupyterLab Notebook, it may mean\n",
       "  that the widgets JavaScript is still loading. If this message persists, it\n",
       "  likely means that the widgets JavaScript library is either not installed or\n",
       "  not enabled. See the <a href=\"https://ipywidgets.readthedocs.io/en/stable/user_install.html\">Jupyter\n",
       "  Widgets Documentation</a> for setup instructions.\n",
       "</p>\n",
       "<p>\n",
       "  If you're reading this message in another frontend (for example, a static\n",
       "  rendering on GitHub or <a href=\"https://nbviewer.jupyter.org/\">NBViewer</a>),\n",
       "  it may mean that your frontend doesn't currently support widgets.\n",
       "</p>\n"
      ],
      "text/plain": [
       "HBox(children=(IntProgress(value=0, description='Scores', max=45306, style=ProgressStyle(description_width='initial')), HTML(value='')))"
      ]
     },
     "metadata": {},
     "output_type": "display_data"
    },
    {
     "name": "stdout",
     "output_type": "stream",
     "text": [
      "\n",
      "Epoch 586/590\n",
      "852/852 [==============================] - 229s 269ms/step - loss: 0.1392 - binary_crossentropy: 0.0361 - acc: 0.9888\n",
      "\n",
      "Epoch 00586: acc improved from -inf to 0.98884, saving model to ../cache/wt7-586.h5\n",
      "Epoch 587/590\n",
      "852/852 [==============================] - 238s 280ms/step - loss: 0.1280 - binary_crossentropy: 0.0250 - acc: 0.9922\n",
      "\n",
      "Epoch 00587: acc improved from 0.98884 to 0.99215, saving model to ../cache/wt7-587.h5\n",
      "Epoch 588/590\n",
      "852/852 [==============================] - 241s 283ms/step - loss: 0.1208 - binary_crossentropy: 0.0180 - acc: 0.9955\n",
      "\n",
      "Epoch 00588: acc improved from 0.99215 to 0.99545, saving model to ../cache/wt7-588.h5\n",
      "Epoch 589/590\n",
      "852/852 [==============================] - 245s 287ms/step - loss: 0.1181 - binary_crossentropy: 0.0154 - acc: 0.9955\n",
      "\n",
      "Epoch 00589: acc improved from 0.99545 to 0.99549, saving model to ../cache/wt7-589.h5\n",
      "Epoch 590/590\n",
      "852/852 [==============================] - 243s 285ms/step - loss: 0.1156 - binary_crossentropy: 0.0131 - acc: 0.9965\n",
      "\n",
      "Epoch 00590: acc improved from 0.99549 to 0.99648, saving model to ../cache/wt7-590.h5\n",
      "590 1e-05 0.0013456779\n"
     ]
    },
    {
     "data": {
      "application/vnd.jupyter.widget-view+json": {
       "model_id": "d5fddb25f5e941f28e9800753730fec8",
       "version_major": 2,
       "version_minor": 0
      },
      "text/html": [
       "<p>Failed to display Jupyter Widget of type <code>HBox</code>.</p>\n",
       "<p>\n",
       "  If you're reading this message in the Jupyter Notebook or JupyterLab Notebook, it may mean\n",
       "  that the widgets JavaScript is still loading. If this message persists, it\n",
       "  likely means that the widgets JavaScript library is either not installed or\n",
       "  not enabled. See the <a href=\"https://ipywidgets.readthedocs.io/en/stable/user_install.html\">Jupyter\n",
       "  Widgets Documentation</a> for setup instructions.\n",
       "</p>\n",
       "<p>\n",
       "  If you're reading this message in another frontend (for example, a static\n",
       "  rendering on GitHub or <a href=\"https://nbviewer.jupyter.org/\">NBViewer</a>),\n",
       "  it may mean that your frontend doesn't currently support widgets.\n",
       "</p>\n"
      ],
      "text/plain": [
       "HBox(children=(IntProgress(value=0, description='Features', max=213, style=ProgressStyle(description_width='initial')), HTML(value='')))"
      ]
     },
     "metadata": {},
     "output_type": "display_data"
    },
    {
     "name": "stdout",
     "output_type": "stream",
     "text": [
      "\n"
     ]
    },
    {
     "data": {
      "application/vnd.jupyter.widget-view+json": {
       "model_id": "5f575b3cc9ca4eaebd4149cca4d4e3ea",
       "version_major": 2,
       "version_minor": 0
      },
      "text/html": [
       "<p>Failed to display Jupyter Widget of type <code>HBox</code>.</p>\n",
       "<p>\n",
       "  If you're reading this message in the Jupyter Notebook or JupyterLab Notebook, it may mean\n",
       "  that the widgets JavaScript is still loading. If this message persists, it\n",
       "  likely means that the widgets JavaScript library is either not installed or\n",
       "  not enabled. See the <a href=\"https://ipywidgets.readthedocs.io/en/stable/user_install.html\">Jupyter\n",
       "  Widgets Documentation</a> for setup instructions.\n",
       "</p>\n",
       "<p>\n",
       "  If you're reading this message in another frontend (for example, a static\n",
       "  rendering on GitHub or <a href=\"https://nbviewer.jupyter.org/\">NBViewer</a>),\n",
       "  it may mean that your frontend doesn't currently support widgets.\n",
       "</p>\n"
      ],
      "text/plain": [
       "HBox(children=(IntProgress(value=0, description='Scores', max=45306, style=ProgressStyle(description_width='initial')), HTML(value='')))"
      ]
     },
     "metadata": {},
     "output_type": "display_data"
    },
    {
     "name": "stdout",
     "output_type": "stream",
     "text": [
      "\n",
      "Epoch 591/595\n",
      "852/852 [==============================] - 231s 271ms/step - loss: 0.1381 - binary_crossentropy: 0.0357 - acc: 0.9886\n",
      "\n",
      "Epoch 00591: acc improved from -inf to 0.98862, saving model to ../cache/wt7-591.h5\n",
      "Epoch 592/595\n",
      "852/852 [==============================] - 240s 282ms/step - loss: 0.1274 - binary_crossentropy: 0.0252 - acc: 0.9925\n",
      "\n",
      "Epoch 00592: acc improved from 0.98862 to 0.99248, saving model to ../cache/wt7-592.h5\n",
      "Epoch 593/595\n",
      "852/852 [==============================] - 241s 283ms/step - loss: 0.1228 - binary_crossentropy: 0.0206 - acc: 0.9938\n",
      "\n",
      "Epoch 00593: acc improved from 0.99248 to 0.99376, saving model to ../cache/wt7-593.h5\n",
      "Epoch 594/595\n",
      "852/852 [==============================] - 241s 282ms/step - loss: 0.1175 - binary_crossentropy: 0.0154 - acc: 0.9953\n",
      "\n",
      "Epoch 00594: acc improved from 0.99376 to 0.99530, saving model to ../cache/wt7-594.h5\n",
      "Epoch 595/595\n",
      "852/852 [==============================] - 241s 283ms/step - loss: 0.1167 - binary_crossentropy: 0.0149 - acc: 0.9957\n",
      "\n",
      "Epoch 00595: acc improved from 0.99530 to 0.99571, saving model to ../cache/wt7-595.h5\n",
      "595 1e-05 0.0014349512\n"
     ]
    },
    {
     "data": {
      "application/vnd.jupyter.widget-view+json": {
       "model_id": "a853204b72a74fb7ae24e494488920d9",
       "version_major": 2,
       "version_minor": 0
      },
      "text/html": [
       "<p>Failed to display Jupyter Widget of type <code>HBox</code>.</p>\n",
       "<p>\n",
       "  If you're reading this message in the Jupyter Notebook or JupyterLab Notebook, it may mean\n",
       "  that the widgets JavaScript is still loading. If this message persists, it\n",
       "  likely means that the widgets JavaScript library is either not installed or\n",
       "  not enabled. See the <a href=\"https://ipywidgets.readthedocs.io/en/stable/user_install.html\">Jupyter\n",
       "  Widgets Documentation</a> for setup instructions.\n",
       "</p>\n",
       "<p>\n",
       "  If you're reading this message in another frontend (for example, a static\n",
       "  rendering on GitHub or <a href=\"https://nbviewer.jupyter.org/\">NBViewer</a>),\n",
       "  it may mean that your frontend doesn't currently support widgets.\n",
       "</p>\n"
      ],
      "text/plain": [
       "HBox(children=(IntProgress(value=0, description='Features', max=213, style=ProgressStyle(description_width='initial')), HTML(value='')))"
      ]
     },
     "metadata": {},
     "output_type": "display_data"
    },
    {
     "name": "stdout",
     "output_type": "stream",
     "text": [
      "\n"
     ]
    },
    {
     "data": {
      "application/vnd.jupyter.widget-view+json": {
       "model_id": "47420f3e7aa145259b6d5adc70eb9579",
       "version_major": 2,
       "version_minor": 0
      },
      "text/html": [
       "<p>Failed to display Jupyter Widget of type <code>HBox</code>.</p>\n",
       "<p>\n",
       "  If you're reading this message in the Jupyter Notebook or JupyterLab Notebook, it may mean\n",
       "  that the widgets JavaScript is still loading. If this message persists, it\n",
       "  likely means that the widgets JavaScript library is either not installed or\n",
       "  not enabled. See the <a href=\"https://ipywidgets.readthedocs.io/en/stable/user_install.html\">Jupyter\n",
       "  Widgets Documentation</a> for setup instructions.\n",
       "</p>\n",
       "<p>\n",
       "  If you're reading this message in another frontend (for example, a static\n",
       "  rendering on GitHub or <a href=\"https://nbviewer.jupyter.org/\">NBViewer</a>),\n",
       "  it may mean that your frontend doesn't currently support widgets.\n",
       "</p>\n"
      ],
      "text/plain": [
       "HBox(children=(IntProgress(value=0, description='Scores', max=45306, style=ProgressStyle(description_width='initial')), HTML(value='')))"
      ]
     },
     "metadata": {},
     "output_type": "display_data"
    },
    {
     "name": "stdout",
     "output_type": "stream",
     "text": [
      "\n",
      "Epoch 596/600\n",
      "852/852 [==============================] - 232s 272ms/step - loss: 0.1311 - binary_crossentropy: 0.0294 - acc: 0.9905\n",
      "\n",
      "Epoch 00596: acc improved from -inf to 0.99046, saving model to ../cache/wt7-596.h5\n",
      "Epoch 597/600\n",
      "852/852 [==============================] - 238s 280ms/step - loss: 0.1233 - binary_crossentropy: 0.0217 - acc: 0.9928\n",
      "\n",
      "Epoch 00597: acc improved from 0.99046 to 0.99281, saving model to ../cache/wt7-597.h5\n",
      "Epoch 598/600\n",
      "852/852 [==============================] - 239s 281ms/step - loss: 0.1175 - binary_crossentropy: 0.0160 - acc: 0.9952\n",
      "\n",
      "Epoch 00598: acc improved from 0.99281 to 0.99519, saving model to ../cache/wt7-598.h5\n",
      "Epoch 599/600\n",
      "852/852 [==============================] - 240s 281ms/step - loss: 0.1161 - binary_crossentropy: 0.0148 - acc: 0.9952\n",
      "\n",
      "Epoch 00599: acc did not improve from 0.99519\n",
      "Epoch 600/600\n",
      "852/852 [==============================] - 239s 280ms/step - loss: 0.1117 - binary_crossentropy: 0.0106 - acc: 0.9967\n",
      "\n",
      "Epoch 00600: acc improved from 0.99519 to 0.99666, saving model to ../cache/wt7-600.h5\n",
      "600 1e-05 0.0012155435\n"
     ]
    }
   ],
   "source": [
    "# epoch -> 600\n",
    "model.load_weights('../cache/wt7-500.h5')\n",
    "set_lr(model, 1e-5)\n",
    "for _ in range(20): make_steps(5, 0.25)\n",
    "model.save('../cache/ashish.standard.model-9')"
   ]
  },
  {
   "cell_type": "code",
   "execution_count": 23,
   "metadata": {},
   "outputs": [
    {
     "data": {
      "application/vnd.jupyter.widget-view+json": {
       "model_id": "18a4c107619c4cf8a2bb656b45467c8c",
       "version_major": 2,
       "version_minor": 0
      },
      "text/html": [
       "<p>Failed to display Jupyter Widget of type <code>HBox</code>.</p>\n",
       "<p>\n",
       "  If you're reading this message in the Jupyter Notebook or JupyterLab Notebook, it may mean\n",
       "  that the widgets JavaScript is still loading. If this message persists, it\n",
       "  likely means that the widgets JavaScript library is either not installed or\n",
       "  not enabled. See the <a href=\"https://ipywidgets.readthedocs.io/en/stable/user_install.html\">Jupyter\n",
       "  Widgets Documentation</a> for setup instructions.\n",
       "</p>\n",
       "<p>\n",
       "  If you're reading this message in another frontend (for example, a static\n",
       "  rendering on GitHub or <a href=\"https://nbviewer.jupyter.org/\">NBViewer</a>),\n",
       "  it may mean that your frontend doesn't currently support widgets.\n",
       "</p>\n"
      ],
      "text/plain": [
       "HBox(children=(IntProgress(value=0, description='Features', max=213, style=ProgressStyle(description_width='initial')), HTML(value='')))"
      ]
     },
     "metadata": {},
     "output_type": "display_data"
    },
    {
     "name": "stdout",
     "output_type": "stream",
     "text": [
      "\n"
     ]
    },
    {
     "data": {
      "application/vnd.jupyter.widget-view+json": {
       "model_id": "0541f0473e0840d8a1bedb7f709c32da",
       "version_major": 2,
       "version_minor": 0
      },
      "text/html": [
       "<p>Failed to display Jupyter Widget of type <code>HBox</code>.</p>\n",
       "<p>\n",
       "  If you're reading this message in the Jupyter Notebook or JupyterLab Notebook, it may mean\n",
       "  that the widgets JavaScript is still loading. If this message persists, it\n",
       "  likely means that the widgets JavaScript library is either not installed or\n",
       "  not enabled. See the <a href=\"https://ipywidgets.readthedocs.io/en/stable/user_install.html\">Jupyter\n",
       "  Widgets Documentation</a> for setup instructions.\n",
       "</p>\n",
       "<p>\n",
       "  If you're reading this message in another frontend (for example, a static\n",
       "  rendering on GitHub or <a href=\"https://nbviewer.jupyter.org/\">NBViewer</a>),\n",
       "  it may mean that your frontend doesn't currently support widgets.\n",
       "</p>\n"
      ],
      "text/plain": [
       "HBox(children=(IntProgress(value=0, description='Scores', max=45306, style=ProgressStyle(description_width='initial')), HTML(value='')))"
      ]
     },
     "metadata": {},
     "output_type": "display_data"
    },
    {
     "name": "stdout",
     "output_type": "stream",
     "text": [
      "\n"
     ]
    },
    {
     "name": "stderr",
     "output_type": "stream",
     "text": [
      "/home/watts/anaconda3/envs/hpg/lib/python3.6/site-packages/keras/callbacks.py:1065: UserWarning: `epsilon` argument is deprecated and will be removed, use `min_delta` instead.\n",
      "  warnings.warn('`epsilon` argument is deprecated and '\n"
     ]
    },
    {
     "name": "stdout",
     "output_type": "stream",
     "text": [
      "Epoch 601/605\n",
      "852/852 [==============================] - 231s 271ms/step - loss: 0.1369 - binary_crossentropy: 0.0359 - acc: 0.9888\n",
      "\n",
      "Epoch 00601: acc improved from -inf to 0.98877, saving model to ../cache/wt7-601.h5\n",
      "Epoch 602/605\n",
      "852/852 [==============================] - 238s 280ms/step - loss: 0.1255 - binary_crossentropy: 0.0246 - acc: 0.9920\n",
      "\n",
      "Epoch 00602: acc improved from 0.98877 to 0.99196, saving model to ../cache/wt7-602.h5\n",
      "Epoch 603/605\n",
      "852/852 [==============================] - 240s 281ms/step - loss: 0.1179 - binary_crossentropy: 0.0171 - acc: 0.9952\n",
      "\n",
      "Epoch 00603: acc improved from 0.99196 to 0.99523, saving model to ../cache/wt7-603.h5\n",
      "Epoch 604/605\n",
      "852/852 [==============================] - 241s 283ms/step - loss: 0.1155 - binary_crossentropy: 0.0149 - acc: 0.9954\n",
      "\n",
      "Epoch 00604: acc improved from 0.99523 to 0.99541, saving model to ../cache/wt7-604.h5\n",
      "Epoch 605/605\n",
      "852/852 [==============================] - 240s 282ms/step - loss: 0.1117 - binary_crossentropy: 0.0112 - acc: 0.9969\n",
      "\n",
      "Epoch 00605: acc improved from 0.99541 to 0.99692, saving model to ../cache/wt7-605.h5\n",
      "605 1e-05 0.0013216109\n"
     ]
    },
    {
     "data": {
      "application/vnd.jupyter.widget-view+json": {
       "model_id": "b8a52a091317458f8d131865edb8beec",
       "version_major": 2,
       "version_minor": 0
      },
      "text/html": [
       "<p>Failed to display Jupyter Widget of type <code>HBox</code>.</p>\n",
       "<p>\n",
       "  If you're reading this message in the Jupyter Notebook or JupyterLab Notebook, it may mean\n",
       "  that the widgets JavaScript is still loading. If this message persists, it\n",
       "  likely means that the widgets JavaScript library is either not installed or\n",
       "  not enabled. See the <a href=\"https://ipywidgets.readthedocs.io/en/stable/user_install.html\">Jupyter\n",
       "  Widgets Documentation</a> for setup instructions.\n",
       "</p>\n",
       "<p>\n",
       "  If you're reading this message in another frontend (for example, a static\n",
       "  rendering on GitHub or <a href=\"https://nbviewer.jupyter.org/\">NBViewer</a>),\n",
       "  it may mean that your frontend doesn't currently support widgets.\n",
       "</p>\n"
      ],
      "text/plain": [
       "HBox(children=(IntProgress(value=0, description='Features', max=213, style=ProgressStyle(description_width='initial')), HTML(value='')))"
      ]
     },
     "metadata": {},
     "output_type": "display_data"
    },
    {
     "name": "stdout",
     "output_type": "stream",
     "text": [
      "\n"
     ]
    },
    {
     "data": {
      "application/vnd.jupyter.widget-view+json": {
       "model_id": "0f48d83ae8954dcea53d6e73f73ab900",
       "version_major": 2,
       "version_minor": 0
      },
      "text/html": [
       "<p>Failed to display Jupyter Widget of type <code>HBox</code>.</p>\n",
       "<p>\n",
       "  If you're reading this message in the Jupyter Notebook or JupyterLab Notebook, it may mean\n",
       "  that the widgets JavaScript is still loading. If this message persists, it\n",
       "  likely means that the widgets JavaScript library is either not installed or\n",
       "  not enabled. See the <a href=\"https://ipywidgets.readthedocs.io/en/stable/user_install.html\">Jupyter\n",
       "  Widgets Documentation</a> for setup instructions.\n",
       "</p>\n",
       "<p>\n",
       "  If you're reading this message in another frontend (for example, a static\n",
       "  rendering on GitHub or <a href=\"https://nbviewer.jupyter.org/\">NBViewer</a>),\n",
       "  it may mean that your frontend doesn't currently support widgets.\n",
       "</p>\n"
      ],
      "text/plain": [
       "HBox(children=(IntProgress(value=0, description='Scores', max=45306, style=ProgressStyle(description_width='initial')), HTML(value='')))"
      ]
     },
     "metadata": {},
     "output_type": "display_data"
    },
    {
     "name": "stdout",
     "output_type": "stream",
     "text": [
      "\n",
      "Epoch 606/610\n",
      "852/852 [==============================] - 230s 270ms/step - loss: 0.1352 - binary_crossentropy: 0.0349 - acc: 0.9890\n",
      "\n",
      "Epoch 00606: acc improved from -inf to 0.98903, saving model to ../cache/wt7-606.h5\n",
      "Epoch 607/610\n",
      "852/852 [==============================] - 240s 281ms/step - loss: 0.1218 - binary_crossentropy: 0.0215 - acc: 0.9936\n",
      "\n",
      "Epoch 00607: acc improved from 0.98903 to 0.99361, saving model to ../cache/wt7-607.h5\n",
      "Epoch 608/610\n",
      "852/852 [==============================] - 239s 281ms/step - loss: 0.1179 - binary_crossentropy: 0.0177 - acc: 0.9948\n",
      "\n",
      "Epoch 00608: acc improved from 0.99361 to 0.99475, saving model to ../cache/wt7-608.h5\n",
      "Epoch 609/610\n",
      "852/852 [==============================] - 240s 281ms/step - loss: 0.1149 - binary_crossentropy: 0.0149 - acc: 0.9956\n",
      "\n",
      "Epoch 00609: acc improved from 0.99475 to 0.99563, saving model to ../cache/wt7-609.h5\n",
      "Epoch 610/610\n",
      "852/852 [==============================] - 239s 281ms/step - loss: 0.1108 - binary_crossentropy: 0.0110 - acc: 0.9970\n",
      "\n",
      "Epoch 00610: acc improved from 0.99563 to 0.99699, saving model to ../cache/wt7-610.h5\n",
      "610 1e-05 0.0013451418\n"
     ]
    },
    {
     "data": {
      "application/vnd.jupyter.widget-view+json": {
       "model_id": "abe6f95e1db9451da8559e18f788984e",
       "version_major": 2,
       "version_minor": 0
      },
      "text/html": [
       "<p>Failed to display Jupyter Widget of type <code>HBox</code>.</p>\n",
       "<p>\n",
       "  If you're reading this message in the Jupyter Notebook or JupyterLab Notebook, it may mean\n",
       "  that the widgets JavaScript is still loading. If this message persists, it\n",
       "  likely means that the widgets JavaScript library is either not installed or\n",
       "  not enabled. See the <a href=\"https://ipywidgets.readthedocs.io/en/stable/user_install.html\">Jupyter\n",
       "  Widgets Documentation</a> for setup instructions.\n",
       "</p>\n",
       "<p>\n",
       "  If you're reading this message in another frontend (for example, a static\n",
       "  rendering on GitHub or <a href=\"https://nbviewer.jupyter.org/\">NBViewer</a>),\n",
       "  it may mean that your frontend doesn't currently support widgets.\n",
       "</p>\n"
      ],
      "text/plain": [
       "HBox(children=(IntProgress(value=0, description='Features', max=213, style=ProgressStyle(description_width='initial')), HTML(value='')))"
      ]
     },
     "metadata": {},
     "output_type": "display_data"
    },
    {
     "name": "stdout",
     "output_type": "stream",
     "text": [
      "\n"
     ]
    },
    {
     "data": {
      "application/vnd.jupyter.widget-view+json": {
       "model_id": "ba012961adce4a0681de953cdd3d7019",
       "version_major": 2,
       "version_minor": 0
      },
      "text/html": [
       "<p>Failed to display Jupyter Widget of type <code>HBox</code>.</p>\n",
       "<p>\n",
       "  If you're reading this message in the Jupyter Notebook or JupyterLab Notebook, it may mean\n",
       "  that the widgets JavaScript is still loading. If this message persists, it\n",
       "  likely means that the widgets JavaScript library is either not installed or\n",
       "  not enabled. See the <a href=\"https://ipywidgets.readthedocs.io/en/stable/user_install.html\">Jupyter\n",
       "  Widgets Documentation</a> for setup instructions.\n",
       "</p>\n",
       "<p>\n",
       "  If you're reading this message in another frontend (for example, a static\n",
       "  rendering on GitHub or <a href=\"https://nbviewer.jupyter.org/\">NBViewer</a>),\n",
       "  it may mean that your frontend doesn't currently support widgets.\n",
       "</p>\n"
      ],
      "text/plain": [
       "HBox(children=(IntProgress(value=0, description='Scores', max=45306, style=ProgressStyle(description_width='initial')), HTML(value='')))"
      ]
     },
     "metadata": {},
     "output_type": "display_data"
    },
    {
     "name": "stdout",
     "output_type": "stream",
     "text": [
      "\n",
      "Epoch 611/615\n",
      "852/852 [==============================] - 231s 271ms/step - loss: 0.1317 - binary_crossentropy: 0.0321 - acc: 0.9892\n",
      "\n",
      "Epoch 00611: acc improved from -inf to 0.98928, saving model to ../cache/wt7-611.h5\n",
      "Epoch 612/615\n",
      "852/852 [==============================] - 241s 283ms/step - loss: 0.1215 - binary_crossentropy: 0.0219 - acc: 0.9931\n",
      "\n",
      "Epoch 00612: acc improved from 0.98928 to 0.99310, saving model to ../cache/wt7-612.h5\n",
      "Epoch 613/615\n",
      "852/852 [==============================] - 243s 285ms/step - loss: 0.1169 - binary_crossentropy: 0.0174 - acc: 0.9943\n",
      "\n",
      "Epoch 00613: acc improved from 0.99310 to 0.99427, saving model to ../cache/wt7-613.h5\n",
      "Epoch 614/615\n",
      "852/852 [==============================] - 242s 284ms/step - loss: 0.1128 - binary_crossentropy: 0.0135 - acc: 0.9959\n",
      "\n",
      "Epoch 00614: acc improved from 0.99427 to 0.99593, saving model to ../cache/wt7-614.h5\n",
      "Epoch 615/615\n",
      "852/852 [==============================] - 241s 283ms/step - loss: 0.1102 - binary_crossentropy: 0.0110 - acc: 0.9968\n",
      "\n",
      "Epoch 00615: acc improved from 0.99593 to 0.99681, saving model to ../cache/wt7-615.h5\n",
      "615 1e-05 0.0013728894\n"
     ]
    },
    {
     "data": {
      "application/vnd.jupyter.widget-view+json": {
       "model_id": "79213e91aa574a44a0bfb8a81ca00bb3",
       "version_major": 2,
       "version_minor": 0
      },
      "text/html": [
       "<p>Failed to display Jupyter Widget of type <code>HBox</code>.</p>\n",
       "<p>\n",
       "  If you're reading this message in the Jupyter Notebook or JupyterLab Notebook, it may mean\n",
       "  that the widgets JavaScript is still loading. If this message persists, it\n",
       "  likely means that the widgets JavaScript library is either not installed or\n",
       "  not enabled. See the <a href=\"https://ipywidgets.readthedocs.io/en/stable/user_install.html\">Jupyter\n",
       "  Widgets Documentation</a> for setup instructions.\n",
       "</p>\n",
       "<p>\n",
       "  If you're reading this message in another frontend (for example, a static\n",
       "  rendering on GitHub or <a href=\"https://nbviewer.jupyter.org/\">NBViewer</a>),\n",
       "  it may mean that your frontend doesn't currently support widgets.\n",
       "</p>\n"
      ],
      "text/plain": [
       "HBox(children=(IntProgress(value=0, description='Features', max=213, style=ProgressStyle(description_width='initial')), HTML(value='')))"
      ]
     },
     "metadata": {},
     "output_type": "display_data"
    },
    {
     "name": "stdout",
     "output_type": "stream",
     "text": [
      "\n"
     ]
    },
    {
     "data": {
      "application/vnd.jupyter.widget-view+json": {
       "model_id": "58917e9ab5554ba88babfa4d5e49bb0c",
       "version_major": 2,
       "version_minor": 0
      },
      "text/html": [
       "<p>Failed to display Jupyter Widget of type <code>HBox</code>.</p>\n",
       "<p>\n",
       "  If you're reading this message in the Jupyter Notebook or JupyterLab Notebook, it may mean\n",
       "  that the widgets JavaScript is still loading. If this message persists, it\n",
       "  likely means that the widgets JavaScript library is either not installed or\n",
       "  not enabled. See the <a href=\"https://ipywidgets.readthedocs.io/en/stable/user_install.html\">Jupyter\n",
       "  Widgets Documentation</a> for setup instructions.\n",
       "</p>\n",
       "<p>\n",
       "  If you're reading this message in another frontend (for example, a static\n",
       "  rendering on GitHub or <a href=\"https://nbviewer.jupyter.org/\">NBViewer</a>),\n",
       "  it may mean that your frontend doesn't currently support widgets.\n",
       "</p>\n"
      ],
      "text/plain": [
       "HBox(children=(IntProgress(value=0, description='Scores', max=45306, style=ProgressStyle(description_width='initial')), HTML(value='')))"
      ]
     },
     "metadata": {},
     "output_type": "display_data"
    },
    {
     "name": "stdout",
     "output_type": "stream",
     "text": [
      "\n",
      "Epoch 616/620\n",
      "852/852 [==============================] - 231s 271ms/step - loss: 0.1327 - binary_crossentropy: 0.0337 - acc: 0.9895\n",
      "\n",
      "Epoch 00616: acc improved from -inf to 0.98950, saving model to ../cache/wt7-616.h5\n",
      "Epoch 617/620\n",
      "852/852 [==============================] - 238s 280ms/step - loss: 0.1245 - binary_crossentropy: 0.0256 - acc: 0.9922\n",
      "\n",
      "Epoch 00617: acc improved from 0.98950 to 0.99218, saving model to ../cache/wt7-617.h5\n",
      "Epoch 618/620\n",
      "852/852 [==============================] - 239s 280ms/step - loss: 0.1170 - binary_crossentropy: 0.0182 - acc: 0.9946\n",
      "\n",
      "Epoch 00618: acc improved from 0.99218 to 0.99464, saving model to ../cache/wt7-618.h5\n",
      "Epoch 619/620\n",
      "852/852 [==============================] - 238s 280ms/step - loss: 0.1126 - binary_crossentropy: 0.0139 - acc: 0.9962\n",
      "\n",
      "Epoch 00619: acc improved from 0.99464 to 0.99622, saving model to ../cache/wt7-619.h5\n",
      "Epoch 620/620\n",
      "852/852 [==============================] - 239s 280ms/step - loss: 0.1112 - binary_crossentropy: 0.0127 - acc: 0.9962\n",
      "\n",
      "Epoch 00620: acc did not improve from 0.99622\n",
      "620 1e-05 0.0012640101\n"
     ]
    },
    {
     "data": {
      "application/vnd.jupyter.widget-view+json": {
       "model_id": "346b2e88268d451baf8bb561b6df36a5",
       "version_major": 2,
       "version_minor": 0
      },
      "text/html": [
       "<p>Failed to display Jupyter Widget of type <code>HBox</code>.</p>\n",
       "<p>\n",
       "  If you're reading this message in the Jupyter Notebook or JupyterLab Notebook, it may mean\n",
       "  that the widgets JavaScript is still loading. If this message persists, it\n",
       "  likely means that the widgets JavaScript library is either not installed or\n",
       "  not enabled. See the <a href=\"https://ipywidgets.readthedocs.io/en/stable/user_install.html\">Jupyter\n",
       "  Widgets Documentation</a> for setup instructions.\n",
       "</p>\n",
       "<p>\n",
       "  If you're reading this message in another frontend (for example, a static\n",
       "  rendering on GitHub or <a href=\"https://nbviewer.jupyter.org/\">NBViewer</a>),\n",
       "  it may mean that your frontend doesn't currently support widgets.\n",
       "</p>\n"
      ],
      "text/plain": [
       "HBox(children=(IntProgress(value=0, description='Features', max=213, style=ProgressStyle(description_width='initial')), HTML(value='')))"
      ]
     },
     "metadata": {},
     "output_type": "display_data"
    },
    {
     "name": "stdout",
     "output_type": "stream",
     "text": [
      "\n"
     ]
    },
    {
     "data": {
      "application/vnd.jupyter.widget-view+json": {
       "model_id": "72bb8a3b68ee4adfa3ae2811c4233dca",
       "version_major": 2,
       "version_minor": 0
      },
      "text/html": [
       "<p>Failed to display Jupyter Widget of type <code>HBox</code>.</p>\n",
       "<p>\n",
       "  If you're reading this message in the Jupyter Notebook or JupyterLab Notebook, it may mean\n",
       "  that the widgets JavaScript is still loading. If this message persists, it\n",
       "  likely means that the widgets JavaScript library is either not installed or\n",
       "  not enabled. See the <a href=\"https://ipywidgets.readthedocs.io/en/stable/user_install.html\">Jupyter\n",
       "  Widgets Documentation</a> for setup instructions.\n",
       "</p>\n",
       "<p>\n",
       "  If you're reading this message in another frontend (for example, a static\n",
       "  rendering on GitHub or <a href=\"https://nbviewer.jupyter.org/\">NBViewer</a>),\n",
       "  it may mean that your frontend doesn't currently support widgets.\n",
       "</p>\n"
      ],
      "text/plain": [
       "HBox(children=(IntProgress(value=0, description='Scores', max=45306, style=ProgressStyle(description_width='initial')), HTML(value='')))"
      ]
     },
     "metadata": {},
     "output_type": "display_data"
    },
    {
     "name": "stdout",
     "output_type": "stream",
     "text": [
      "\n",
      "Epoch 621/625\n",
      "852/852 [==============================] - 231s 272ms/step - loss: 0.1300 - binary_crossentropy: 0.0317 - acc: 0.9897\n",
      "\n",
      "Epoch 00621: acc improved from -inf to 0.98972, saving model to ../cache/wt7-621.h5\n",
      "Epoch 622/625\n",
      "852/852 [==============================] - 239s 281ms/step - loss: 0.1216 - binary_crossentropy: 0.0233 - acc: 0.9928\n",
      "\n",
      "Epoch 00622: acc improved from 0.98972 to 0.99277, saving model to ../cache/wt7-622.h5\n",
      "Epoch 623/625\n",
      "852/852 [==============================] - 240s 282ms/step - loss: 0.1161 - binary_crossentropy: 0.0180 - acc: 0.9947\n",
      "\n",
      "Epoch 00623: acc improved from 0.99277 to 0.99468, saving model to ../cache/wt7-623.h5\n",
      "Epoch 624/625\n",
      "852/852 [==============================] - 242s 283ms/step - loss: 0.1115 - binary_crossentropy: 0.0135 - acc: 0.9960\n",
      "\n",
      "Epoch 00624: acc improved from 0.99468 to 0.99600, saving model to ../cache/wt7-624.h5\n",
      "Epoch 625/625\n",
      "852/852 [==============================] - 240s 281ms/step - loss: 0.1094 - binary_crossentropy: 0.0116 - acc: 0.9964\n",
      "\n",
      "Epoch 00625: acc improved from 0.99600 to 0.99648, saving model to ../cache/wt7-625.h5\n",
      "625 1e-05 0.0013702768\n"
     ]
    },
    {
     "data": {
      "application/vnd.jupyter.widget-view+json": {
       "model_id": "879a7e92da1d4273a5f3a331aae38680",
       "version_major": 2,
       "version_minor": 0
      },
      "text/html": [
       "<p>Failed to display Jupyter Widget of type <code>HBox</code>.</p>\n",
       "<p>\n",
       "  If you're reading this message in the Jupyter Notebook or JupyterLab Notebook, it may mean\n",
       "  that the widgets JavaScript is still loading. If this message persists, it\n",
       "  likely means that the widgets JavaScript library is either not installed or\n",
       "  not enabled. See the <a href=\"https://ipywidgets.readthedocs.io/en/stable/user_install.html\">Jupyter\n",
       "  Widgets Documentation</a> for setup instructions.\n",
       "</p>\n",
       "<p>\n",
       "  If you're reading this message in another frontend (for example, a static\n",
       "  rendering on GitHub or <a href=\"https://nbviewer.jupyter.org/\">NBViewer</a>),\n",
       "  it may mean that your frontend doesn't currently support widgets.\n",
       "</p>\n"
      ],
      "text/plain": [
       "HBox(children=(IntProgress(value=0, description='Features', max=213, style=ProgressStyle(description_width='initial')), HTML(value='')))"
      ]
     },
     "metadata": {},
     "output_type": "display_data"
    },
    {
     "name": "stdout",
     "output_type": "stream",
     "text": [
      "\n"
     ]
    },
    {
     "data": {
      "application/vnd.jupyter.widget-view+json": {
       "model_id": "94ec97102fb64c41b682daa8f76faefa",
       "version_major": 2,
       "version_minor": 0
      },
      "text/html": [
       "<p>Failed to display Jupyter Widget of type <code>HBox</code>.</p>\n",
       "<p>\n",
       "  If you're reading this message in the Jupyter Notebook or JupyterLab Notebook, it may mean\n",
       "  that the widgets JavaScript is still loading. If this message persists, it\n",
       "  likely means that the widgets JavaScript library is either not installed or\n",
       "  not enabled. See the <a href=\"https://ipywidgets.readthedocs.io/en/stable/user_install.html\">Jupyter\n",
       "  Widgets Documentation</a> for setup instructions.\n",
       "</p>\n",
       "<p>\n",
       "  If you're reading this message in another frontend (for example, a static\n",
       "  rendering on GitHub or <a href=\"https://nbviewer.jupyter.org/\">NBViewer</a>),\n",
       "  it may mean that your frontend doesn't currently support widgets.\n",
       "</p>\n"
      ],
      "text/plain": [
       "HBox(children=(IntProgress(value=0, description='Scores', max=45306, style=ProgressStyle(description_width='initial')), HTML(value='')))"
      ]
     },
     "metadata": {},
     "output_type": "display_data"
    },
    {
     "name": "stdout",
     "output_type": "stream",
     "text": [
      "\n",
      "Epoch 626/630\n",
      "852/852 [==============================] - 232s 272ms/step - loss: 0.1290 - binary_crossentropy: 0.0313 - acc: 0.9897\n",
      "\n",
      "Epoch 00626: acc improved from -inf to 0.98976, saving model to ../cache/wt7-626.h5\n",
      "Epoch 627/630\n",
      "852/852 [==============================] - 240s 281ms/step - loss: 0.1181 - binary_crossentropy: 0.0204 - acc: 0.9941\n",
      "\n",
      "Epoch 00627: acc improved from 0.98976 to 0.99409, saving model to ../cache/wt7-627.h5\n",
      "Epoch 628/630\n",
      "852/852 [==============================] - 239s 281ms/step - loss: 0.1136 - binary_crossentropy: 0.0161 - acc: 0.9952\n",
      "\n",
      "Epoch 00628: acc improved from 0.99409 to 0.99523, saving model to ../cache/wt7-628.h5\n",
      "Epoch 629/630\n",
      "852/852 [==============================] - 240s 282ms/step - loss: 0.1090 - binary_crossentropy: 0.0117 - acc: 0.9967\n",
      "\n",
      "Epoch 00629: acc improved from 0.99523 to 0.99666, saving model to ../cache/wt7-629.h5\n",
      "Epoch 630/630\n",
      "852/852 [==============================] - 240s 281ms/step - loss: 0.1069 - binary_crossentropy: 0.0098 - acc: 0.9973\n",
      "\n",
      "Epoch 00630: acc improved from 0.99666 to 0.99732, saving model to ../cache/wt7-630.h5\n",
      "630 1e-05 0.0012739544\n"
     ]
    },
    {
     "data": {
      "application/vnd.jupyter.widget-view+json": {
       "model_id": "bc70deca428c4f038423ea20d8259c48",
       "version_major": 2,
       "version_minor": 0
      },
      "text/html": [
       "<p>Failed to display Jupyter Widget of type <code>HBox</code>.</p>\n",
       "<p>\n",
       "  If you're reading this message in the Jupyter Notebook or JupyterLab Notebook, it may mean\n",
       "  that the widgets JavaScript is still loading. If this message persists, it\n",
       "  likely means that the widgets JavaScript library is either not installed or\n",
       "  not enabled. See the <a href=\"https://ipywidgets.readthedocs.io/en/stable/user_install.html\">Jupyter\n",
       "  Widgets Documentation</a> for setup instructions.\n",
       "</p>\n",
       "<p>\n",
       "  If you're reading this message in another frontend (for example, a static\n",
       "  rendering on GitHub or <a href=\"https://nbviewer.jupyter.org/\">NBViewer</a>),\n",
       "  it may mean that your frontend doesn't currently support widgets.\n",
       "</p>\n"
      ],
      "text/plain": [
       "HBox(children=(IntProgress(value=0, description='Features', max=213, style=ProgressStyle(description_width='initial')), HTML(value='')))"
      ]
     },
     "metadata": {},
     "output_type": "display_data"
    },
    {
     "name": "stdout",
     "output_type": "stream",
     "text": [
      "\n"
     ]
    },
    {
     "data": {
      "application/vnd.jupyter.widget-view+json": {
       "model_id": "0206367955fd4dca82d773eefbd55faf",
       "version_major": 2,
       "version_minor": 0
      },
      "text/html": [
       "<p>Failed to display Jupyter Widget of type <code>HBox</code>.</p>\n",
       "<p>\n",
       "  If you're reading this message in the Jupyter Notebook or JupyterLab Notebook, it may mean\n",
       "  that the widgets JavaScript is still loading. If this message persists, it\n",
       "  likely means that the widgets JavaScript library is either not installed or\n",
       "  not enabled. See the <a href=\"https://ipywidgets.readthedocs.io/en/stable/user_install.html\">Jupyter\n",
       "  Widgets Documentation</a> for setup instructions.\n",
       "</p>\n",
       "<p>\n",
       "  If you're reading this message in another frontend (for example, a static\n",
       "  rendering on GitHub or <a href=\"https://nbviewer.jupyter.org/\">NBViewer</a>),\n",
       "  it may mean that your frontend doesn't currently support widgets.\n",
       "</p>\n"
      ],
      "text/plain": [
       "HBox(children=(IntProgress(value=0, description='Scores', max=45306, style=ProgressStyle(description_width='initial')), HTML(value='')))"
      ]
     },
     "metadata": {},
     "output_type": "display_data"
    },
    {
     "name": "stdout",
     "output_type": "stream",
     "text": [
      "\n",
      "Epoch 631/635\n",
      "852/852 [==============================] - 232s 272ms/step - loss: 0.1289 - binary_crossentropy: 0.0319 - acc: 0.9894\n",
      "\n",
      "Epoch 00631: acc improved from -inf to 0.98939, saving model to ../cache/wt7-631.h5\n",
      "Epoch 632/635\n",
      "852/852 [==============================] - 239s 281ms/step - loss: 0.1185 - binary_crossentropy: 0.0215 - acc: 0.9931\n",
      "\n",
      "Epoch 00632: acc improved from 0.98939 to 0.99306, saving model to ../cache/wt7-632.h5\n",
      "Epoch 633/635\n",
      "852/852 [==============================] - 239s 281ms/step - loss: 0.1119 - binary_crossentropy: 0.0151 - acc: 0.9956\n",
      "\n",
      "Epoch 00633: acc improved from 0.99306 to 0.99556, saving model to ../cache/wt7-633.h5\n",
      "Epoch 634/635\n",
      "852/852 [==============================] - 240s 281ms/step - loss: 0.1089 - binary_crossentropy: 0.0122 - acc: 0.9961\n",
      "\n",
      "Epoch 00634: acc improved from 0.99556 to 0.99615, saving model to ../cache/wt7-634.h5\n",
      "Epoch 635/635\n",
      "852/852 [==============================] - 239s 280ms/step - loss: 0.1082 - binary_crossentropy: 0.0117 - acc: 0.9966\n",
      "\n",
      "Epoch 00635: acc improved from 0.99615 to 0.99662, saving model to ../cache/wt7-635.h5\n",
      "635 1e-05 0.0012982158\n"
     ]
    },
    {
     "data": {
      "application/vnd.jupyter.widget-view+json": {
       "model_id": "7ac2106909a44b87af6f46d188da2b1d",
       "version_major": 2,
       "version_minor": 0
      },
      "text/html": [
       "<p>Failed to display Jupyter Widget of type <code>HBox</code>.</p>\n",
       "<p>\n",
       "  If you're reading this message in the Jupyter Notebook or JupyterLab Notebook, it may mean\n",
       "  that the widgets JavaScript is still loading. If this message persists, it\n",
       "  likely means that the widgets JavaScript library is either not installed or\n",
       "  not enabled. See the <a href=\"https://ipywidgets.readthedocs.io/en/stable/user_install.html\">Jupyter\n",
       "  Widgets Documentation</a> for setup instructions.\n",
       "</p>\n",
       "<p>\n",
       "  If you're reading this message in another frontend (for example, a static\n",
       "  rendering on GitHub or <a href=\"https://nbviewer.jupyter.org/\">NBViewer</a>),\n",
       "  it may mean that your frontend doesn't currently support widgets.\n",
       "</p>\n"
      ],
      "text/plain": [
       "HBox(children=(IntProgress(value=0, description='Features', max=213, style=ProgressStyle(description_width='initial')), HTML(value='')))"
      ]
     },
     "metadata": {},
     "output_type": "display_data"
    },
    {
     "name": "stdout",
     "output_type": "stream",
     "text": [
      "\n"
     ]
    },
    {
     "data": {
      "application/vnd.jupyter.widget-view+json": {
       "model_id": "9d2d102695f749af89a5509f2251e87a",
       "version_major": 2,
       "version_minor": 0
      },
      "text/html": [
       "<p>Failed to display Jupyter Widget of type <code>HBox</code>.</p>\n",
       "<p>\n",
       "  If you're reading this message in the Jupyter Notebook or JupyterLab Notebook, it may mean\n",
       "  that the widgets JavaScript is still loading. If this message persists, it\n",
       "  likely means that the widgets JavaScript library is either not installed or\n",
       "  not enabled. See the <a href=\"https://ipywidgets.readthedocs.io/en/stable/user_install.html\">Jupyter\n",
       "  Widgets Documentation</a> for setup instructions.\n",
       "</p>\n",
       "<p>\n",
       "  If you're reading this message in another frontend (for example, a static\n",
       "  rendering on GitHub or <a href=\"https://nbviewer.jupyter.org/\">NBViewer</a>),\n",
       "  it may mean that your frontend doesn't currently support widgets.\n",
       "</p>\n"
      ],
      "text/plain": [
       "HBox(children=(IntProgress(value=0, description='Scores', max=45306, style=ProgressStyle(description_width='initial')), HTML(value='')))"
      ]
     },
     "metadata": {},
     "output_type": "display_data"
    },
    {
     "name": "stdout",
     "output_type": "stream",
     "text": [
      "\n",
      "Epoch 636/640\n",
      "852/852 [==============================] - 232s 272ms/step - loss: 0.1248 - binary_crossentropy: 0.0285 - acc: 0.9910\n",
      "\n",
      "Epoch 00636: acc improved from -inf to 0.99097, saving model to ../cache/wt7-636.h5\n",
      "Epoch 637/640\n",
      "852/852 [==============================] - 240s 281ms/step - loss: 0.1161 - binary_crossentropy: 0.0198 - acc: 0.9938\n",
      "\n",
      "Epoch 00637: acc improved from 0.99097 to 0.99383, saving model to ../cache/wt7-637.h5\n",
      "Epoch 638/640\n",
      "852/852 [==============================] - 240s 282ms/step - loss: 0.1105 - binary_crossentropy: 0.0144 - acc: 0.9957\n",
      "\n",
      "Epoch 00638: acc improved from 0.99383 to 0.99567, saving model to ../cache/wt7-638.h5\n",
      "Epoch 639/640\n",
      "852/852 [==============================] - 241s 282ms/step - loss: 0.1094 - binary_crossentropy: 0.0134 - acc: 0.9960\n",
      "\n",
      "Epoch 00639: acc improved from 0.99567 to 0.99604, saving model to ../cache/wt7-639.h5\n",
      "Epoch 640/640\n",
      "852/852 [==============================] - 239s 281ms/step - loss: 0.1060 - binary_crossentropy: 0.0101 - acc: 0.9968\n",
      "\n",
      "Epoch 00640: acc improved from 0.99604 to 0.99677, saving model to ../cache/wt7-640.h5\n",
      "640 1e-05 0.0013185728\n"
     ]
    },
    {
     "data": {
      "application/vnd.jupyter.widget-view+json": {
       "model_id": "3865eccb1ec545fd8b0a592569934c97",
       "version_major": 2,
       "version_minor": 0
      },
      "text/html": [
       "<p>Failed to display Jupyter Widget of type <code>HBox</code>.</p>\n",
       "<p>\n",
       "  If you're reading this message in the Jupyter Notebook or JupyterLab Notebook, it may mean\n",
       "  that the widgets JavaScript is still loading. If this message persists, it\n",
       "  likely means that the widgets JavaScript library is either not installed or\n",
       "  not enabled. See the <a href=\"https://ipywidgets.readthedocs.io/en/stable/user_install.html\">Jupyter\n",
       "  Widgets Documentation</a> for setup instructions.\n",
       "</p>\n",
       "<p>\n",
       "  If you're reading this message in another frontend (for example, a static\n",
       "  rendering on GitHub or <a href=\"https://nbviewer.jupyter.org/\">NBViewer</a>),\n",
       "  it may mean that your frontend doesn't currently support widgets.\n",
       "</p>\n"
      ],
      "text/plain": [
       "HBox(children=(IntProgress(value=0, description='Features', max=213, style=ProgressStyle(description_width='initial')), HTML(value='')))"
      ]
     },
     "metadata": {},
     "output_type": "display_data"
    },
    {
     "name": "stdout",
     "output_type": "stream",
     "text": [
      "\n"
     ]
    },
    {
     "data": {
      "application/vnd.jupyter.widget-view+json": {
       "model_id": "a0bed786254843ff9cf9b9dbf9e434e2",
       "version_major": 2,
       "version_minor": 0
      },
      "text/html": [
       "<p>Failed to display Jupyter Widget of type <code>HBox</code>.</p>\n",
       "<p>\n",
       "  If you're reading this message in the Jupyter Notebook or JupyterLab Notebook, it may mean\n",
       "  that the widgets JavaScript is still loading. If this message persists, it\n",
       "  likely means that the widgets JavaScript library is either not installed or\n",
       "  not enabled. See the <a href=\"https://ipywidgets.readthedocs.io/en/stable/user_install.html\">Jupyter\n",
       "  Widgets Documentation</a> for setup instructions.\n",
       "</p>\n",
       "<p>\n",
       "  If you're reading this message in another frontend (for example, a static\n",
       "  rendering on GitHub or <a href=\"https://nbviewer.jupyter.org/\">NBViewer</a>),\n",
       "  it may mean that your frontend doesn't currently support widgets.\n",
       "</p>\n"
      ],
      "text/plain": [
       "HBox(children=(IntProgress(value=0, description='Scores', max=45306, style=ProgressStyle(description_width='initial')), HTML(value='')))"
      ]
     },
     "metadata": {},
     "output_type": "display_data"
    },
    {
     "name": "stdout",
     "output_type": "stream",
     "text": [
      "\n",
      "Epoch 641/645\n",
      "852/852 [==============================] - 231s 271ms/step - loss: 0.1257 - binary_crossentropy: 0.0300 - acc: 0.9900\n",
      "\n",
      "Epoch 00641: acc improved from -inf to 0.98998, saving model to ../cache/wt7-641.h5\n",
      "Epoch 642/645\n",
      "852/852 [==============================] - 240s 281ms/step - loss: 0.1147 - binary_crossentropy: 0.0191 - acc: 0.9940\n",
      "\n",
      "Epoch 00642: acc improved from 0.98998 to 0.99402, saving model to ../cache/wt7-642.h5\n",
      "Epoch 643/645\n",
      "852/852 [==============================] - 239s 281ms/step - loss: 0.1097 - binary_crossentropy: 0.0142 - acc: 0.9955\n",
      "\n",
      "Epoch 00643: acc improved from 0.99402 to 0.99549, saving model to ../cache/wt7-643.h5\n",
      "Epoch 644/645\n",
      "852/852 [==============================] - 240s 282ms/step - loss: 0.1071 - binary_crossentropy: 0.0117 - acc: 0.9963\n",
      "\n",
      "Epoch 00644: acc improved from 0.99549 to 0.99633, saving model to ../cache/wt7-644.h5\n",
      "Epoch 645/645\n",
      "852/852 [==============================] - 240s 281ms/step - loss: 0.1053 - binary_crossentropy: 0.0101 - acc: 0.9969\n",
      "\n",
      "Epoch 00645: acc improved from 0.99633 to 0.99688, saving model to ../cache/wt7-645.h5\n",
      "645 1e-05 0.0012805957\n"
     ]
    },
    {
     "data": {
      "application/vnd.jupyter.widget-view+json": {
       "model_id": "09f37c8054c5483f88c0a113c434c790",
       "version_major": 2,
       "version_minor": 0
      },
      "text/html": [
       "<p>Failed to display Jupyter Widget of type <code>HBox</code>.</p>\n",
       "<p>\n",
       "  If you're reading this message in the Jupyter Notebook or JupyterLab Notebook, it may mean\n",
       "  that the widgets JavaScript is still loading. If this message persists, it\n",
       "  likely means that the widgets JavaScript library is either not installed or\n",
       "  not enabled. See the <a href=\"https://ipywidgets.readthedocs.io/en/stable/user_install.html\">Jupyter\n",
       "  Widgets Documentation</a> for setup instructions.\n",
       "</p>\n",
       "<p>\n",
       "  If you're reading this message in another frontend (for example, a static\n",
       "  rendering on GitHub or <a href=\"https://nbviewer.jupyter.org/\">NBViewer</a>),\n",
       "  it may mean that your frontend doesn't currently support widgets.\n",
       "</p>\n"
      ],
      "text/plain": [
       "HBox(children=(IntProgress(value=0, description='Features', max=213, style=ProgressStyle(description_width='initial')), HTML(value='')))"
      ]
     },
     "metadata": {},
     "output_type": "display_data"
    },
    {
     "name": "stdout",
     "output_type": "stream",
     "text": [
      "\n"
     ]
    },
    {
     "data": {
      "application/vnd.jupyter.widget-view+json": {
       "model_id": "0ba9ce4f5e434737b17af791e7d614a2",
       "version_major": 2,
       "version_minor": 0
      },
      "text/html": [
       "<p>Failed to display Jupyter Widget of type <code>HBox</code>.</p>\n",
       "<p>\n",
       "  If you're reading this message in the Jupyter Notebook or JupyterLab Notebook, it may mean\n",
       "  that the widgets JavaScript is still loading. If this message persists, it\n",
       "  likely means that the widgets JavaScript library is either not installed or\n",
       "  not enabled. See the <a href=\"https://ipywidgets.readthedocs.io/en/stable/user_install.html\">Jupyter\n",
       "  Widgets Documentation</a> for setup instructions.\n",
       "</p>\n",
       "<p>\n",
       "  If you're reading this message in another frontend (for example, a static\n",
       "  rendering on GitHub or <a href=\"https://nbviewer.jupyter.org/\">NBViewer</a>),\n",
       "  it may mean that your frontend doesn't currently support widgets.\n",
       "</p>\n"
      ],
      "text/plain": [
       "HBox(children=(IntProgress(value=0, description='Scores', max=45306, style=ProgressStyle(description_width='initial')), HTML(value='')))"
      ]
     },
     "metadata": {},
     "output_type": "display_data"
    },
    {
     "name": "stdout",
     "output_type": "stream",
     "text": [
      "\n",
      "Epoch 646/650\n",
      "852/852 [==============================] - 232s 272ms/step - loss: 0.1265 - binary_crossentropy: 0.0314 - acc: 0.9895\n",
      "\n",
      "Epoch 00646: acc improved from -inf to 0.98954, saving model to ../cache/wt7-646.h5\n",
      "Epoch 647/650\n",
      "852/852 [==============================] - 239s 281ms/step - loss: 0.1178 - binary_crossentropy: 0.0228 - acc: 0.9933\n",
      "\n",
      "Epoch 00647: acc improved from 0.98954 to 0.99332, saving model to ../cache/wt7-647.h5\n",
      "Epoch 648/650\n",
      "852/852 [==============================] - 239s 281ms/step - loss: 0.1095 - binary_crossentropy: 0.0146 - acc: 0.9957\n",
      "\n",
      "Epoch 00648: acc improved from 0.99332 to 0.99574, saving model to ../cache/wt7-648.h5\n",
      "Epoch 649/650\n",
      "852/852 [==============================] - 240s 282ms/step - loss: 0.1064 - binary_crossentropy: 0.0117 - acc: 0.9963\n",
      "\n",
      "Epoch 00649: acc improved from 0.99574 to 0.99629, saving model to ../cache/wt7-649.h5\n",
      "Epoch 650/650\n",
      "852/852 [==============================] - 239s 281ms/step - loss: 0.1047 - binary_crossentropy: 0.0100 - acc: 0.9969\n",
      "\n",
      "Epoch 00650: acc improved from 0.99629 to 0.99688, saving model to ../cache/wt7-650.h5\n",
      "650 1e-05 0.0012248885\n"
     ]
    },
    {
     "data": {
      "application/vnd.jupyter.widget-view+json": {
       "model_id": "91a5728c099244ffb45375c5c93753a9",
       "version_major": 2,
       "version_minor": 0
      },
      "text/html": [
       "<p>Failed to display Jupyter Widget of type <code>HBox</code>.</p>\n",
       "<p>\n",
       "  If you're reading this message in the Jupyter Notebook or JupyterLab Notebook, it may mean\n",
       "  that the widgets JavaScript is still loading. If this message persists, it\n",
       "  likely means that the widgets JavaScript library is either not installed or\n",
       "  not enabled. See the <a href=\"https://ipywidgets.readthedocs.io/en/stable/user_install.html\">Jupyter\n",
       "  Widgets Documentation</a> for setup instructions.\n",
       "</p>\n",
       "<p>\n",
       "  If you're reading this message in another frontend (for example, a static\n",
       "  rendering on GitHub or <a href=\"https://nbviewer.jupyter.org/\">NBViewer</a>),\n",
       "  it may mean that your frontend doesn't currently support widgets.\n",
       "</p>\n"
      ],
      "text/plain": [
       "HBox(children=(IntProgress(value=0, description='Features', max=213, style=ProgressStyle(description_width='initial')), HTML(value='')))"
      ]
     },
     "metadata": {},
     "output_type": "display_data"
    },
    {
     "name": "stdout",
     "output_type": "stream",
     "text": [
      "\n"
     ]
    },
    {
     "data": {
      "application/vnd.jupyter.widget-view+json": {
       "model_id": "0a45f05122534819bfdebb2c20dfd22e",
       "version_major": 2,
       "version_minor": 0
      },
      "text/html": [
       "<p>Failed to display Jupyter Widget of type <code>HBox</code>.</p>\n",
       "<p>\n",
       "  If you're reading this message in the Jupyter Notebook or JupyterLab Notebook, it may mean\n",
       "  that the widgets JavaScript is still loading. If this message persists, it\n",
       "  likely means that the widgets JavaScript library is either not installed or\n",
       "  not enabled. See the <a href=\"https://ipywidgets.readthedocs.io/en/stable/user_install.html\">Jupyter\n",
       "  Widgets Documentation</a> for setup instructions.\n",
       "</p>\n",
       "<p>\n",
       "  If you're reading this message in another frontend (for example, a static\n",
       "  rendering on GitHub or <a href=\"https://nbviewer.jupyter.org/\">NBViewer</a>),\n",
       "  it may mean that your frontend doesn't currently support widgets.\n",
       "</p>\n"
      ],
      "text/plain": [
       "HBox(children=(IntProgress(value=0, description='Scores', max=45306, style=ProgressStyle(description_width='initial')), HTML(value='')))"
      ]
     },
     "metadata": {},
     "output_type": "display_data"
    },
    {
     "name": "stdout",
     "output_type": "stream",
     "text": [
      "\n",
      "Epoch 651/655\n",
      "852/852 [==============================] - 231s 271ms/step - loss: 0.1243 - binary_crossentropy: 0.0298 - acc: 0.9904\n",
      "\n",
      "Epoch 00651: acc improved from -inf to 0.99046, saving model to ../cache/wt7-651.h5\n",
      "Epoch 652/655\n",
      "852/852 [==============================] - 240s 282ms/step - loss: 0.1140 - binary_crossentropy: 0.0196 - acc: 0.9932\n",
      "\n",
      "Epoch 00652: acc improved from 0.99046 to 0.99321, saving model to ../cache/wt7-652.h5\n",
      "Epoch 653/655\n",
      "852/852 [==============================] - 240s 281ms/step - loss: 0.1080 - binary_crossentropy: 0.0137 - acc: 0.9955\n",
      "\n",
      "Epoch 00653: acc improved from 0.99321 to 0.99545, saving model to ../cache/wt7-653.h5\n",
      "Epoch 654/655\n",
      "852/852 [==============================] - 241s 282ms/step - loss: 0.1055 - binary_crossentropy: 0.0113 - acc: 0.9968\n",
      "\n",
      "Epoch 00654: acc improved from 0.99545 to 0.99677, saving model to ../cache/wt7-654.h5\n",
      "Epoch 655/655\n",
      "852/852 [==============================] - 241s 282ms/step - loss: 0.1039 - binary_crossentropy: 0.0099 - acc: 0.9970\n",
      "\n",
      "Epoch 00655: acc improved from 0.99677 to 0.99703, saving model to ../cache/wt7-655.h5\n",
      "655 1e-05 0.0012927693\n"
     ]
    },
    {
     "data": {
      "application/vnd.jupyter.widget-view+json": {
       "model_id": "6c4daf11f9ee43209f26cfa382779c0b",
       "version_major": 2,
       "version_minor": 0
      },
      "text/html": [
       "<p>Failed to display Jupyter Widget of type <code>HBox</code>.</p>\n",
       "<p>\n",
       "  If you're reading this message in the Jupyter Notebook or JupyterLab Notebook, it may mean\n",
       "  that the widgets JavaScript is still loading. If this message persists, it\n",
       "  likely means that the widgets JavaScript library is either not installed or\n",
       "  not enabled. See the <a href=\"https://ipywidgets.readthedocs.io/en/stable/user_install.html\">Jupyter\n",
       "  Widgets Documentation</a> for setup instructions.\n",
       "</p>\n",
       "<p>\n",
       "  If you're reading this message in another frontend (for example, a static\n",
       "  rendering on GitHub or <a href=\"https://nbviewer.jupyter.org/\">NBViewer</a>),\n",
       "  it may mean that your frontend doesn't currently support widgets.\n",
       "</p>\n"
      ],
      "text/plain": [
       "HBox(children=(IntProgress(value=0, description='Features', max=213, style=ProgressStyle(description_width='initial')), HTML(value='')))"
      ]
     },
     "metadata": {},
     "output_type": "display_data"
    },
    {
     "name": "stdout",
     "output_type": "stream",
     "text": [
      "\n"
     ]
    },
    {
     "data": {
      "application/vnd.jupyter.widget-view+json": {
       "model_id": "8cd3ad9c053e44ee90208ef7d9ff5dde",
       "version_major": 2,
       "version_minor": 0
      },
      "text/html": [
       "<p>Failed to display Jupyter Widget of type <code>HBox</code>.</p>\n",
       "<p>\n",
       "  If you're reading this message in the Jupyter Notebook or JupyterLab Notebook, it may mean\n",
       "  that the widgets JavaScript is still loading. If this message persists, it\n",
       "  likely means that the widgets JavaScript library is either not installed or\n",
       "  not enabled. See the <a href=\"https://ipywidgets.readthedocs.io/en/stable/user_install.html\">Jupyter\n",
       "  Widgets Documentation</a> for setup instructions.\n",
       "</p>\n",
       "<p>\n",
       "  If you're reading this message in another frontend (for example, a static\n",
       "  rendering on GitHub or <a href=\"https://nbviewer.jupyter.org/\">NBViewer</a>),\n",
       "  it may mean that your frontend doesn't currently support widgets.\n",
       "</p>\n"
      ],
      "text/plain": [
       "HBox(children=(IntProgress(value=0, description='Scores', max=45306, style=ProgressStyle(description_width='initial')), HTML(value='')))"
      ]
     },
     "metadata": {},
     "output_type": "display_data"
    },
    {
     "name": "stdout",
     "output_type": "stream",
     "text": [
      "\n",
      "Epoch 656/660\n",
      "852/852 [==============================] - 233s 273ms/step - loss: 0.1249 - binary_crossentropy: 0.0310 - acc: 0.9905\n",
      "\n",
      "Epoch 00656: acc improved from -inf to 0.99053, saving model to ../cache/wt7-656.h5\n",
      "Epoch 657/660\n",
      "852/852 [==============================] - 240s 281ms/step - loss: 0.1149 - binary_crossentropy: 0.0211 - acc: 0.9942\n",
      "\n",
      "Epoch 00657: acc improved from 0.99053 to 0.99416, saving model to ../cache/wt7-657.h5\n",
      "Epoch 658/660\n",
      "852/852 [==============================] - 238s 280ms/step - loss: 0.1091 - binary_crossentropy: 0.0154 - acc: 0.9955\n",
      "\n",
      "Epoch 00658: acc improved from 0.99416 to 0.99549, saving model to ../cache/wt7-658.h5\n",
      "Epoch 659/660\n",
      "852/852 [==============================] - 240s 282ms/step - loss: 0.1046 - binary_crossentropy: 0.0111 - acc: 0.9970\n",
      "\n",
      "Epoch 00659: acc improved from 0.99549 to 0.99695, saving model to ../cache/wt7-659.h5\n",
      "Epoch 660/660\n",
      "852/852 [==============================] - 240s 281ms/step - loss: 0.1027 - binary_crossentropy: 0.0093 - acc: 0.9971\n",
      "\n",
      "Epoch 00660: acc improved from 0.99695 to 0.99714, saving model to ../cache/wt7-660.h5\n",
      "660 1e-05 0.0012191604\n"
     ]
    },
    {
     "data": {
      "application/vnd.jupyter.widget-view+json": {
       "model_id": "215f3b5a54194c849960a28581b31139",
       "version_major": 2,
       "version_minor": 0
      },
      "text/html": [
       "<p>Failed to display Jupyter Widget of type <code>HBox</code>.</p>\n",
       "<p>\n",
       "  If you're reading this message in the Jupyter Notebook or JupyterLab Notebook, it may mean\n",
       "  that the widgets JavaScript is still loading. If this message persists, it\n",
       "  likely means that the widgets JavaScript library is either not installed or\n",
       "  not enabled. See the <a href=\"https://ipywidgets.readthedocs.io/en/stable/user_install.html\">Jupyter\n",
       "  Widgets Documentation</a> for setup instructions.\n",
       "</p>\n",
       "<p>\n",
       "  If you're reading this message in another frontend (for example, a static\n",
       "  rendering on GitHub or <a href=\"https://nbviewer.jupyter.org/\">NBViewer</a>),\n",
       "  it may mean that your frontend doesn't currently support widgets.\n",
       "</p>\n"
      ],
      "text/plain": [
       "HBox(children=(IntProgress(value=0, description='Features', max=213, style=ProgressStyle(description_width='initial')), HTML(value='')))"
      ]
     },
     "metadata": {},
     "output_type": "display_data"
    },
    {
     "name": "stdout",
     "output_type": "stream",
     "text": [
      "\n"
     ]
    },
    {
     "data": {
      "application/vnd.jupyter.widget-view+json": {
       "model_id": "f800626db4904ad28d4609e02b0c176c",
       "version_major": 2,
       "version_minor": 0
      },
      "text/html": [
       "<p>Failed to display Jupyter Widget of type <code>HBox</code>.</p>\n",
       "<p>\n",
       "  If you're reading this message in the Jupyter Notebook or JupyterLab Notebook, it may mean\n",
       "  that the widgets JavaScript is still loading. If this message persists, it\n",
       "  likely means that the widgets JavaScript library is either not installed or\n",
       "  not enabled. See the <a href=\"https://ipywidgets.readthedocs.io/en/stable/user_install.html\">Jupyter\n",
       "  Widgets Documentation</a> for setup instructions.\n",
       "</p>\n",
       "<p>\n",
       "  If you're reading this message in another frontend (for example, a static\n",
       "  rendering on GitHub or <a href=\"https://nbviewer.jupyter.org/\">NBViewer</a>),\n",
       "  it may mean that your frontend doesn't currently support widgets.\n",
       "</p>\n"
      ],
      "text/plain": [
       "HBox(children=(IntProgress(value=0, description='Scores', max=45306, style=ProgressStyle(description_width='initial')), HTML(value='')))"
      ]
     },
     "metadata": {},
     "output_type": "display_data"
    },
    {
     "name": "stdout",
     "output_type": "stream",
     "text": [
      "\n",
      "Epoch 661/665\n",
      "852/852 [==============================] - 232s 272ms/step - loss: 0.1275 - binary_crossentropy: 0.0343 - acc: 0.9896\n",
      "\n",
      "Epoch 00661: acc improved from -inf to 0.98958, saving model to ../cache/wt7-661.h5\n",
      "Epoch 662/665\n",
      "852/852 [==============================] - 240s 281ms/step - loss: 0.1156 - binary_crossentropy: 0.0224 - acc: 0.9933\n",
      "\n",
      "Epoch 00662: acc improved from 0.98958 to 0.99325, saving model to ../cache/wt7-662.h5\n",
      "Epoch 663/665\n",
      "852/852 [==============================] - 241s 282ms/step - loss: 0.1103 - binary_crossentropy: 0.0173 - acc: 0.9953\n",
      "\n",
      "Epoch 00663: acc improved from 0.99325 to 0.99530, saving model to ../cache/wt7-663.h5\n",
      "Epoch 664/665\n",
      "852/852 [==============================] - 240s 282ms/step - loss: 0.1075 - binary_crossentropy: 0.0146 - acc: 0.9957\n",
      "\n",
      "Epoch 00664: acc improved from 0.99530 to 0.99574, saving model to ../cache/wt7-664.h5\n",
      "Epoch 665/665\n",
      "852/852 [==============================] - 240s 282ms/step - loss: 0.1058 - binary_crossentropy: 0.0130 - acc: 0.9964\n",
      "\n",
      "Epoch 00665: acc improved from 0.99574 to 0.99640, saving model to ../cache/wt7-665.h5\n",
      "665 1e-05 0.0013980459\n"
     ]
    },
    {
     "data": {
      "application/vnd.jupyter.widget-view+json": {
       "model_id": "8cdb25c536694786a98323ac43c8ecd9",
       "version_major": 2,
       "version_minor": 0
      },
      "text/html": [
       "<p>Failed to display Jupyter Widget of type <code>HBox</code>.</p>\n",
       "<p>\n",
       "  If you're reading this message in the Jupyter Notebook or JupyterLab Notebook, it may mean\n",
       "  that the widgets JavaScript is still loading. If this message persists, it\n",
       "  likely means that the widgets JavaScript library is either not installed or\n",
       "  not enabled. See the <a href=\"https://ipywidgets.readthedocs.io/en/stable/user_install.html\">Jupyter\n",
       "  Widgets Documentation</a> for setup instructions.\n",
       "</p>\n",
       "<p>\n",
       "  If you're reading this message in another frontend (for example, a static\n",
       "  rendering on GitHub or <a href=\"https://nbviewer.jupyter.org/\">NBViewer</a>),\n",
       "  it may mean that your frontend doesn't currently support widgets.\n",
       "</p>\n"
      ],
      "text/plain": [
       "HBox(children=(IntProgress(value=0, description='Features', max=213, style=ProgressStyle(description_width='initial')), HTML(value='')))"
      ]
     },
     "metadata": {},
     "output_type": "display_data"
    },
    {
     "name": "stdout",
     "output_type": "stream",
     "text": [
      "\n"
     ]
    },
    {
     "data": {
      "application/vnd.jupyter.widget-view+json": {
       "model_id": "7011d0dde2404d8b87b0cc0a1fafd88e",
       "version_major": 2,
       "version_minor": 0
      },
      "text/html": [
       "<p>Failed to display Jupyter Widget of type <code>HBox</code>.</p>\n",
       "<p>\n",
       "  If you're reading this message in the Jupyter Notebook or JupyterLab Notebook, it may mean\n",
       "  that the widgets JavaScript is still loading. If this message persists, it\n",
       "  likely means that the widgets JavaScript library is either not installed or\n",
       "  not enabled. See the <a href=\"https://ipywidgets.readthedocs.io/en/stable/user_install.html\">Jupyter\n",
       "  Widgets Documentation</a> for setup instructions.\n",
       "</p>\n",
       "<p>\n",
       "  If you're reading this message in another frontend (for example, a static\n",
       "  rendering on GitHub or <a href=\"https://nbviewer.jupyter.org/\">NBViewer</a>),\n",
       "  it may mean that your frontend doesn't currently support widgets.\n",
       "</p>\n"
      ],
      "text/plain": [
       "HBox(children=(IntProgress(value=0, description='Scores', max=45306, style=ProgressStyle(description_width='initial')), HTML(value='')))"
      ]
     },
     "metadata": {},
     "output_type": "display_data"
    },
    {
     "name": "stdout",
     "output_type": "stream",
     "text": [
      "\n",
      "Epoch 666/670\n",
      "852/852 [==============================] - 232s 272ms/step - loss: 0.1243 - binary_crossentropy: 0.0316 - acc: 0.9898\n",
      "\n",
      "Epoch 00666: acc improved from -inf to 0.98980, saving model to ../cache/wt7-666.h5\n",
      "Epoch 667/670\n",
      "852/852 [==============================] - 241s 282ms/step - loss: 0.1117 - binary_crossentropy: 0.0191 - acc: 0.9938\n",
      "\n",
      "Epoch 00667: acc improved from 0.98980 to 0.99383, saving model to ../cache/wt7-667.h5\n",
      "Epoch 668/670\n",
      "852/852 [==============================] - 241s 283ms/step - loss: 0.1064 - binary_crossentropy: 0.0139 - acc: 0.9958\n",
      "\n",
      "Epoch 00668: acc improved from 0.99383 to 0.99578, saving model to ../cache/wt7-668.h5\n",
      "Epoch 669/670\n",
      "852/852 [==============================] - 240s 282ms/step - loss: 0.1024 - binary_crossentropy: 0.0100 - acc: 0.9968\n",
      "\n",
      "Epoch 00669: acc improved from 0.99578 to 0.99677, saving model to ../cache/wt7-669.h5\n",
      "Epoch 670/670\n",
      "852/852 [==============================] - 240s 282ms/step - loss: 0.1013 - binary_crossentropy: 0.0091 - acc: 0.9970\n",
      "\n",
      "Epoch 00670: acc improved from 0.99677 to 0.99695, saving model to ../cache/wt7-670.h5\n",
      "670 1e-05 0.0013091285\n"
     ]
    },
    {
     "data": {
      "application/vnd.jupyter.widget-view+json": {
       "model_id": "0d798f01423742528b2175e403c12b5a",
       "version_major": 2,
       "version_minor": 0
      },
      "text/html": [
       "<p>Failed to display Jupyter Widget of type <code>HBox</code>.</p>\n",
       "<p>\n",
       "  If you're reading this message in the Jupyter Notebook or JupyterLab Notebook, it may mean\n",
       "  that the widgets JavaScript is still loading. If this message persists, it\n",
       "  likely means that the widgets JavaScript library is either not installed or\n",
       "  not enabled. See the <a href=\"https://ipywidgets.readthedocs.io/en/stable/user_install.html\">Jupyter\n",
       "  Widgets Documentation</a> for setup instructions.\n",
       "</p>\n",
       "<p>\n",
       "  If you're reading this message in another frontend (for example, a static\n",
       "  rendering on GitHub or <a href=\"https://nbviewer.jupyter.org/\">NBViewer</a>),\n",
       "  it may mean that your frontend doesn't currently support widgets.\n",
       "</p>\n"
      ],
      "text/plain": [
       "HBox(children=(IntProgress(value=0, description='Features', max=213, style=ProgressStyle(description_width='initial')), HTML(value='')))"
      ]
     },
     "metadata": {},
     "output_type": "display_data"
    },
    {
     "name": "stdout",
     "output_type": "stream",
     "text": [
      "\n"
     ]
    },
    {
     "data": {
      "application/vnd.jupyter.widget-view+json": {
       "model_id": "cb719c2b3798415a8a435b27ddd484e7",
       "version_major": 2,
       "version_minor": 0
      },
      "text/html": [
       "<p>Failed to display Jupyter Widget of type <code>HBox</code>.</p>\n",
       "<p>\n",
       "  If you're reading this message in the Jupyter Notebook or JupyterLab Notebook, it may mean\n",
       "  that the widgets JavaScript is still loading. If this message persists, it\n",
       "  likely means that the widgets JavaScript library is either not installed or\n",
       "  not enabled. See the <a href=\"https://ipywidgets.readthedocs.io/en/stable/user_install.html\">Jupyter\n",
       "  Widgets Documentation</a> for setup instructions.\n",
       "</p>\n",
       "<p>\n",
       "  If you're reading this message in another frontend (for example, a static\n",
       "  rendering on GitHub or <a href=\"https://nbviewer.jupyter.org/\">NBViewer</a>),\n",
       "  it may mean that your frontend doesn't currently support widgets.\n",
       "</p>\n"
      ],
      "text/plain": [
       "HBox(children=(IntProgress(value=0, description='Scores', max=45306, style=ProgressStyle(description_width='initial')), HTML(value='')))"
      ]
     },
     "metadata": {},
     "output_type": "display_data"
    },
    {
     "name": "stdout",
     "output_type": "stream",
     "text": [
      "\n",
      "Epoch 671/675\n",
      "852/852 [==============================] - 232s 272ms/step - loss: 0.1228 - binary_crossentropy: 0.0307 - acc: 0.9893\n",
      "\n",
      "Epoch 00671: acc improved from -inf to 0.98925, saving model to ../cache/wt7-671.h5\n",
      "Epoch 672/675\n",
      "852/852 [==============================] - 240s 282ms/step - loss: 0.1110 - binary_crossentropy: 0.0190 - acc: 0.9941\n",
      "\n",
      "Epoch 00672: acc improved from 0.98925 to 0.99405, saving model to ../cache/wt7-672.h5\n",
      "Epoch 673/675\n",
      "852/852 [==============================] - 240s 282ms/step - loss: 0.1047 - binary_crossentropy: 0.0128 - acc: 0.9959\n",
      "\n",
      "Epoch 00673: acc improved from 0.99405 to 0.99593, saving model to ../cache/wt7-673.h5\n",
      "Epoch 674/675\n",
      "852/852 [==============================] - 240s 282ms/step - loss: 0.1025 - binary_crossentropy: 0.0108 - acc: 0.9961\n",
      "\n",
      "Epoch 00674: acc improved from 0.99593 to 0.99611, saving model to ../cache/wt7-674.h5\n",
      "Epoch 675/675\n",
      "852/852 [==============================] - 240s 281ms/step - loss: 0.1001 - binary_crossentropy: 0.0084 - acc: 0.9975\n",
      "\n",
      "Epoch 00675: acc improved from 0.99611 to 0.99750, saving model to ../cache/wt7-675.h5\n",
      "675 1e-05 0.0013474037\n"
     ]
    },
    {
     "data": {
      "application/vnd.jupyter.widget-view+json": {
       "model_id": "b31d9070dcc846fbbdd3bda427900a80",
       "version_major": 2,
       "version_minor": 0
      },
      "text/html": [
       "<p>Failed to display Jupyter Widget of type <code>HBox</code>.</p>\n",
       "<p>\n",
       "  If you're reading this message in the Jupyter Notebook or JupyterLab Notebook, it may mean\n",
       "  that the widgets JavaScript is still loading. If this message persists, it\n",
       "  likely means that the widgets JavaScript library is either not installed or\n",
       "  not enabled. See the <a href=\"https://ipywidgets.readthedocs.io/en/stable/user_install.html\">Jupyter\n",
       "  Widgets Documentation</a> for setup instructions.\n",
       "</p>\n",
       "<p>\n",
       "  If you're reading this message in another frontend (for example, a static\n",
       "  rendering on GitHub or <a href=\"https://nbviewer.jupyter.org/\">NBViewer</a>),\n",
       "  it may mean that your frontend doesn't currently support widgets.\n",
       "</p>\n"
      ],
      "text/plain": [
       "HBox(children=(IntProgress(value=0, description='Features', max=213, style=ProgressStyle(description_width='initial')), HTML(value='')))"
      ]
     },
     "metadata": {},
     "output_type": "display_data"
    },
    {
     "name": "stdout",
     "output_type": "stream",
     "text": [
      "\n"
     ]
    },
    {
     "data": {
      "application/vnd.jupyter.widget-view+json": {
       "model_id": "79e9cda2a95c459c97fd856bb2e23116",
       "version_major": 2,
       "version_minor": 0
      },
      "text/html": [
       "<p>Failed to display Jupyter Widget of type <code>HBox</code>.</p>\n",
       "<p>\n",
       "  If you're reading this message in the Jupyter Notebook or JupyterLab Notebook, it may mean\n",
       "  that the widgets JavaScript is still loading. If this message persists, it\n",
       "  likely means that the widgets JavaScript library is either not installed or\n",
       "  not enabled. See the <a href=\"https://ipywidgets.readthedocs.io/en/stable/user_install.html\">Jupyter\n",
       "  Widgets Documentation</a> for setup instructions.\n",
       "</p>\n",
       "<p>\n",
       "  If you're reading this message in another frontend (for example, a static\n",
       "  rendering on GitHub or <a href=\"https://nbviewer.jupyter.org/\">NBViewer</a>),\n",
       "  it may mean that your frontend doesn't currently support widgets.\n",
       "</p>\n"
      ],
      "text/plain": [
       "HBox(children=(IntProgress(value=0, description='Scores', max=45306, style=ProgressStyle(description_width='initial')), HTML(value='')))"
      ]
     },
     "metadata": {},
     "output_type": "display_data"
    },
    {
     "name": "stdout",
     "output_type": "stream",
     "text": [
      "\n",
      "Epoch 676/680\n",
      "852/852 [==============================] - 232s 272ms/step - loss: 0.1231 - binary_crossentropy: 0.0316 - acc: 0.9895\n",
      "\n",
      "Epoch 00676: acc improved from -inf to 0.98947, saving model to ../cache/wt7-676.h5\n",
      "Epoch 677/680\n",
      "852/852 [==============================] - 239s 281ms/step - loss: 0.1098 - binary_crossentropy: 0.0183 - acc: 0.9944\n",
      "\n",
      "Epoch 00677: acc improved from 0.98947 to 0.99435, saving model to ../cache/wt7-677.h5\n",
      "Epoch 678/680\n",
      "852/852 [==============================] - 240s 281ms/step - loss: 0.1067 - binary_crossentropy: 0.0154 - acc: 0.9946\n",
      "\n",
      "Epoch 00678: acc improved from 0.99435 to 0.99460, saving model to ../cache/wt7-678.h5\n",
      "Epoch 679/680\n",
      "852/852 [==============================] - 245s 287ms/step - loss: 0.1017 - binary_crossentropy: 0.0104 - acc: 0.9966\n",
      "\n",
      "Epoch 00679: acc improved from 0.99460 to 0.99662, saving model to ../cache/wt7-679.h5\n",
      "Epoch 680/680\n",
      "852/852 [==============================] - 245s 288ms/step - loss: 0.1011 - binary_crossentropy: 0.0101 - acc: 0.9968\n",
      "\n",
      "Epoch 00680: acc improved from 0.99662 to 0.99681, saving model to ../cache/wt7-680.h5\n",
      "680 1e-05 0.0012688481\n"
     ]
    },
    {
     "data": {
      "application/vnd.jupyter.widget-view+json": {
       "model_id": "13d894a1698a4d2ea585e26caa694faa",
       "version_major": 2,
       "version_minor": 0
      },
      "text/html": [
       "<p>Failed to display Jupyter Widget of type <code>HBox</code>.</p>\n",
       "<p>\n",
       "  If you're reading this message in the Jupyter Notebook or JupyterLab Notebook, it may mean\n",
       "  that the widgets JavaScript is still loading. If this message persists, it\n",
       "  likely means that the widgets JavaScript library is either not installed or\n",
       "  not enabled. See the <a href=\"https://ipywidgets.readthedocs.io/en/stable/user_install.html\">Jupyter\n",
       "  Widgets Documentation</a> for setup instructions.\n",
       "</p>\n",
       "<p>\n",
       "  If you're reading this message in another frontend (for example, a static\n",
       "  rendering on GitHub or <a href=\"https://nbviewer.jupyter.org/\">NBViewer</a>),\n",
       "  it may mean that your frontend doesn't currently support widgets.\n",
       "</p>\n"
      ],
      "text/plain": [
       "HBox(children=(IntProgress(value=0, description='Features', max=213, style=ProgressStyle(description_width='initial')), HTML(value='')))"
      ]
     },
     "metadata": {},
     "output_type": "display_data"
    },
    {
     "name": "stdout",
     "output_type": "stream",
     "text": [
      "\n"
     ]
    },
    {
     "data": {
      "application/vnd.jupyter.widget-view+json": {
       "model_id": "327a34cc891d4e5285d0062f6f4cc3cc",
       "version_major": 2,
       "version_minor": 0
      },
      "text/html": [
       "<p>Failed to display Jupyter Widget of type <code>HBox</code>.</p>\n",
       "<p>\n",
       "  If you're reading this message in the Jupyter Notebook or JupyterLab Notebook, it may mean\n",
       "  that the widgets JavaScript is still loading. If this message persists, it\n",
       "  likely means that the widgets JavaScript library is either not installed or\n",
       "  not enabled. See the <a href=\"https://ipywidgets.readthedocs.io/en/stable/user_install.html\">Jupyter\n",
       "  Widgets Documentation</a> for setup instructions.\n",
       "</p>\n",
       "<p>\n",
       "  If you're reading this message in another frontend (for example, a static\n",
       "  rendering on GitHub or <a href=\"https://nbviewer.jupyter.org/\">NBViewer</a>),\n",
       "  it may mean that your frontend doesn't currently support widgets.\n",
       "</p>\n"
      ],
      "text/plain": [
       "HBox(children=(IntProgress(value=0, description='Scores', max=45306, style=ProgressStyle(description_width='initial')), HTML(value='')))"
      ]
     },
     "metadata": {},
     "output_type": "display_data"
    },
    {
     "name": "stdout",
     "output_type": "stream",
     "text": [
      "\n",
      "Epoch 681/685\n",
      "852/852 [==============================] - 229s 269ms/step - loss: 0.1207 - binary_crossentropy: 0.0297 - acc: 0.9901\n",
      "\n",
      "Epoch 00681: acc improved from -inf to 0.99005, saving model to ../cache/wt7-681.h5\n",
      "Epoch 682/685\n",
      "852/852 [==============================] - 237s 278ms/step - loss: 0.1103 - binary_crossentropy: 0.0194 - acc: 0.9935\n",
      "\n",
      "Epoch 00682: acc improved from 0.99005 to 0.99354, saving model to ../cache/wt7-682.h5\n",
      "Epoch 683/685\n",
      "852/852 [==============================] - 237s 279ms/step - loss: 0.1047 - binary_crossentropy: 0.0139 - acc: 0.9962\n",
      "\n",
      "Epoch 00683: acc improved from 0.99354 to 0.99618, saving model to ../cache/wt7-683.h5\n",
      "Epoch 684/685\n",
      "852/852 [==============================] - 237s 278ms/step - loss: 0.1029 - binary_crossentropy: 0.0122 - acc: 0.9964\n",
      "\n",
      "Epoch 00684: acc improved from 0.99618 to 0.99644, saving model to ../cache/wt7-684.h5\n",
      "Epoch 685/685\n",
      "852/852 [==============================] - 237s 278ms/step - loss: 0.0992 - binary_crossentropy: 0.0087 - acc: 0.9977\n",
      "\n",
      "Epoch 00685: acc improved from 0.99644 to 0.99772, saving model to ../cache/wt7-685.h5\n",
      "685 1e-05 0.0012481244\n"
     ]
    },
    {
     "data": {
      "application/vnd.jupyter.widget-view+json": {
       "model_id": "fd20763c15524b8e94779ff67571806c",
       "version_major": 2,
       "version_minor": 0
      },
      "text/html": [
       "<p>Failed to display Jupyter Widget of type <code>HBox</code>.</p>\n",
       "<p>\n",
       "  If you're reading this message in the Jupyter Notebook or JupyterLab Notebook, it may mean\n",
       "  that the widgets JavaScript is still loading. If this message persists, it\n",
       "  likely means that the widgets JavaScript library is either not installed or\n",
       "  not enabled. See the <a href=\"https://ipywidgets.readthedocs.io/en/stable/user_install.html\">Jupyter\n",
       "  Widgets Documentation</a> for setup instructions.\n",
       "</p>\n",
       "<p>\n",
       "  If you're reading this message in another frontend (for example, a static\n",
       "  rendering on GitHub or <a href=\"https://nbviewer.jupyter.org/\">NBViewer</a>),\n",
       "  it may mean that your frontend doesn't currently support widgets.\n",
       "</p>\n"
      ],
      "text/plain": [
       "HBox(children=(IntProgress(value=0, description='Features', max=213, style=ProgressStyle(description_width='initial')), HTML(value='')))"
      ]
     },
     "metadata": {},
     "output_type": "display_data"
    },
    {
     "name": "stdout",
     "output_type": "stream",
     "text": [
      "\n"
     ]
    },
    {
     "data": {
      "application/vnd.jupyter.widget-view+json": {
       "model_id": "9385c3ce1bb04f9894f6ac2405baa836",
       "version_major": 2,
       "version_minor": 0
      },
      "text/html": [
       "<p>Failed to display Jupyter Widget of type <code>HBox</code>.</p>\n",
       "<p>\n",
       "  If you're reading this message in the Jupyter Notebook or JupyterLab Notebook, it may mean\n",
       "  that the widgets JavaScript is still loading. If this message persists, it\n",
       "  likely means that the widgets JavaScript library is either not installed or\n",
       "  not enabled. See the <a href=\"https://ipywidgets.readthedocs.io/en/stable/user_install.html\">Jupyter\n",
       "  Widgets Documentation</a> for setup instructions.\n",
       "</p>\n",
       "<p>\n",
       "  If you're reading this message in another frontend (for example, a static\n",
       "  rendering on GitHub or <a href=\"https://nbviewer.jupyter.org/\">NBViewer</a>),\n",
       "  it may mean that your frontend doesn't currently support widgets.\n",
       "</p>\n"
      ],
      "text/plain": [
       "HBox(children=(IntProgress(value=0, description='Scores', max=45306, style=ProgressStyle(description_width='initial')), HTML(value='')))"
      ]
     },
     "metadata": {},
     "output_type": "display_data"
    },
    {
     "name": "stdout",
     "output_type": "stream",
     "text": [
      "\n",
      "Epoch 686/690\n",
      "852/852 [==============================] - 230s 270ms/step - loss: 0.1233 - binary_crossentropy: 0.0329 - acc: 0.9893\n",
      "\n",
      "Epoch 00686: acc improved from -inf to 0.98932, saving model to ../cache/wt7-686.h5\n",
      "Epoch 687/690\n",
      "852/852 [==============================] - 238s 280ms/step - loss: 0.1083 - binary_crossentropy: 0.0180 - acc: 0.9944\n",
      "\n",
      "Epoch 00687: acc improved from 0.98932 to 0.99442, saving model to ../cache/wt7-687.h5\n",
      "Epoch 688/690\n",
      "852/852 [==============================] - 240s 282ms/step - loss: 0.1063 - binary_crossentropy: 0.0161 - acc: 0.9948\n",
      "\n",
      "Epoch 00688: acc improved from 0.99442 to 0.99479, saving model to ../cache/wt7-688.h5\n",
      "Epoch 689/690\n",
      "852/852 [==============================] - 239s 280ms/step - loss: 0.1034 - binary_crossentropy: 0.0133 - acc: 0.9960\n",
      "\n",
      "Epoch 00689: acc improved from 0.99479 to 0.99604, saving model to ../cache/wt7-689.h5\n",
      "Epoch 690/690\n",
      "852/852 [==============================] - 239s 280ms/step - loss: 0.1000 - binary_crossentropy: 0.0100 - acc: 0.9968\n",
      "\n",
      "Epoch 00690: acc improved from 0.99604 to 0.99681, saving model to ../cache/wt7-690.h5\n",
      "690 1e-05 0.00124481\n"
     ]
    },
    {
     "data": {
      "application/vnd.jupyter.widget-view+json": {
       "model_id": "3d25f5288ef841afb27722b0a651ea51",
       "version_major": 2,
       "version_minor": 0
      },
      "text/html": [
       "<p>Failed to display Jupyter Widget of type <code>HBox</code>.</p>\n",
       "<p>\n",
       "  If you're reading this message in the Jupyter Notebook or JupyterLab Notebook, it may mean\n",
       "  that the widgets JavaScript is still loading. If this message persists, it\n",
       "  likely means that the widgets JavaScript library is either not installed or\n",
       "  not enabled. See the <a href=\"https://ipywidgets.readthedocs.io/en/stable/user_install.html\">Jupyter\n",
       "  Widgets Documentation</a> for setup instructions.\n",
       "</p>\n",
       "<p>\n",
       "  If you're reading this message in another frontend (for example, a static\n",
       "  rendering on GitHub or <a href=\"https://nbviewer.jupyter.org/\">NBViewer</a>),\n",
       "  it may mean that your frontend doesn't currently support widgets.\n",
       "</p>\n"
      ],
      "text/plain": [
       "HBox(children=(IntProgress(value=0, description='Features', max=213, style=ProgressStyle(description_width='initial')), HTML(value='')))"
      ]
     },
     "metadata": {},
     "output_type": "display_data"
    },
    {
     "name": "stdout",
     "output_type": "stream",
     "text": [
      "\n"
     ]
    },
    {
     "data": {
      "application/vnd.jupyter.widget-view+json": {
       "model_id": "e87350255f774637aaa8fcb56965fa6b",
       "version_major": 2,
       "version_minor": 0
      },
      "text/html": [
       "<p>Failed to display Jupyter Widget of type <code>HBox</code>.</p>\n",
       "<p>\n",
       "  If you're reading this message in the Jupyter Notebook or JupyterLab Notebook, it may mean\n",
       "  that the widgets JavaScript is still loading. If this message persists, it\n",
       "  likely means that the widgets JavaScript library is either not installed or\n",
       "  not enabled. See the <a href=\"https://ipywidgets.readthedocs.io/en/stable/user_install.html\">Jupyter\n",
       "  Widgets Documentation</a> for setup instructions.\n",
       "</p>\n",
       "<p>\n",
       "  If you're reading this message in another frontend (for example, a static\n",
       "  rendering on GitHub or <a href=\"https://nbviewer.jupyter.org/\">NBViewer</a>),\n",
       "  it may mean that your frontend doesn't currently support widgets.\n",
       "</p>\n"
      ],
      "text/plain": [
       "HBox(children=(IntProgress(value=0, description='Scores', max=45306, style=ProgressStyle(description_width='initial')), HTML(value='')))"
      ]
     },
     "metadata": {},
     "output_type": "display_data"
    },
    {
     "name": "stdout",
     "output_type": "stream",
     "text": [
      "\n",
      "Epoch 691/695\n",
      "852/852 [==============================] - 229s 269ms/step - loss: 0.1193 - binary_crossentropy: 0.0295 - acc: 0.9911\n",
      "\n",
      "Epoch 00691: acc improved from -inf to 0.99112, saving model to ../cache/wt7-691.h5\n",
      "Epoch 692/695\n",
      "852/852 [==============================] - 238s 279ms/step - loss: 0.1120 - binary_crossentropy: 0.0222 - acc: 0.9931\n",
      "\n",
      "Epoch 00692: acc improved from 0.99112 to 0.99306, saving model to ../cache/wt7-692.h5\n",
      "Epoch 693/695\n",
      "852/852 [==============================] - 238s 279ms/step - loss: 0.1037 - binary_crossentropy: 0.0140 - acc: 0.9955\n",
      "\n",
      "Epoch 00693: acc improved from 0.99306 to 0.99552, saving model to ../cache/wt7-693.h5\n",
      "Epoch 694/695\n",
      "852/852 [==============================] - 237s 278ms/step - loss: 0.0989 - binary_crossentropy: 0.0093 - acc: 0.9972\n",
      "\n",
      "Epoch 00694: acc improved from 0.99552 to 0.99717, saving model to ../cache/wt7-694.h5\n",
      "Epoch 695/695\n",
      "852/852 [==============================] - 237s 278ms/step - loss: 0.0986 - binary_crossentropy: 0.0092 - acc: 0.9974\n",
      "\n",
      "Epoch 00695: acc improved from 0.99717 to 0.99739, saving model to ../cache/wt7-695.h5\n",
      "695 1e-05 0.0012357591\n"
     ]
    },
    {
     "data": {
      "application/vnd.jupyter.widget-view+json": {
       "model_id": "6e8edfc381ca40c2bfb0aaa3c4e4e1f4",
       "version_major": 2,
       "version_minor": 0
      },
      "text/html": [
       "<p>Failed to display Jupyter Widget of type <code>HBox</code>.</p>\n",
       "<p>\n",
       "  If you're reading this message in the Jupyter Notebook or JupyterLab Notebook, it may mean\n",
       "  that the widgets JavaScript is still loading. If this message persists, it\n",
       "  likely means that the widgets JavaScript library is either not installed or\n",
       "  not enabled. See the <a href=\"https://ipywidgets.readthedocs.io/en/stable/user_install.html\">Jupyter\n",
       "  Widgets Documentation</a> for setup instructions.\n",
       "</p>\n",
       "<p>\n",
       "  If you're reading this message in another frontend (for example, a static\n",
       "  rendering on GitHub or <a href=\"https://nbviewer.jupyter.org/\">NBViewer</a>),\n",
       "  it may mean that your frontend doesn't currently support widgets.\n",
       "</p>\n"
      ],
      "text/plain": [
       "HBox(children=(IntProgress(value=0, description='Features', max=213, style=ProgressStyle(description_width='initial')), HTML(value='')))"
      ]
     },
     "metadata": {},
     "output_type": "display_data"
    },
    {
     "name": "stdout",
     "output_type": "stream",
     "text": [
      "\n"
     ]
    },
    {
     "data": {
      "application/vnd.jupyter.widget-view+json": {
       "model_id": "60585e000b324aec890e000f5c14ceb5",
       "version_major": 2,
       "version_minor": 0
      },
      "text/html": [
       "<p>Failed to display Jupyter Widget of type <code>HBox</code>.</p>\n",
       "<p>\n",
       "  If you're reading this message in the Jupyter Notebook or JupyterLab Notebook, it may mean\n",
       "  that the widgets JavaScript is still loading. If this message persists, it\n",
       "  likely means that the widgets JavaScript library is either not installed or\n",
       "  not enabled. See the <a href=\"https://ipywidgets.readthedocs.io/en/stable/user_install.html\">Jupyter\n",
       "  Widgets Documentation</a> for setup instructions.\n",
       "</p>\n",
       "<p>\n",
       "  If you're reading this message in another frontend (for example, a static\n",
       "  rendering on GitHub or <a href=\"https://nbviewer.jupyter.org/\">NBViewer</a>),\n",
       "  it may mean that your frontend doesn't currently support widgets.\n",
       "</p>\n"
      ],
      "text/plain": [
       "HBox(children=(IntProgress(value=0, description='Scores', max=45306, style=ProgressStyle(description_width='initial')), HTML(value='')))"
      ]
     },
     "metadata": {},
     "output_type": "display_data"
    },
    {
     "name": "stdout",
     "output_type": "stream",
     "text": [
      "\n",
      "Epoch 696/700\n",
      "852/852 [==============================] - 230s 269ms/step - loss: 0.1151 - binary_crossentropy: 0.0258 - acc: 0.9913\n",
      "\n",
      "Epoch 00696: acc improved from -inf to 0.99126, saving model to ../cache/wt7-696.h5\n",
      "Epoch 697/700\n",
      "852/852 [==============================] - 238s 279ms/step - loss: 0.1095 - binary_crossentropy: 0.0203 - acc: 0.9929\n",
      "\n",
      "Epoch 00697: acc improved from 0.99126 to 0.99288, saving model to ../cache/wt7-697.h5\n",
      "Epoch 698/700\n",
      "852/852 [==============================] - 238s 280ms/step - loss: 0.1038 - binary_crossentropy: 0.0146 - acc: 0.9953\n",
      "\n",
      "Epoch 00698: acc improved from 0.99288 to 0.99534, saving model to ../cache/wt7-698.h5\n",
      "Epoch 699/700\n",
      "852/852 [==============================] - 239s 280ms/step - loss: 0.1038 - binary_crossentropy: 0.0148 - acc: 0.9954\n",
      "\n",
      "Epoch 00699: acc improved from 0.99534 to 0.99538, saving model to ../cache/wt7-699.h5\n",
      "Epoch 700/700\n",
      "852/852 [==============================] - 238s 280ms/step - loss: 0.0984 - binary_crossentropy: 0.0094 - acc: 0.9971\n",
      "\n",
      "Epoch 00700: acc improved from 0.99538 to 0.99706, saving model to ../cache/wt7-700.h5\n",
      "700 1e-05 0.0013125734\n"
     ]
    },
    {
     "data": {
      "application/vnd.jupyter.widget-view+json": {
       "model_id": "605f5a2077a64b7694ec0a02cbec8f24",
       "version_major": 2,
       "version_minor": 0
      },
      "text/html": [
       "<p>Failed to display Jupyter Widget of type <code>HBox</code>.</p>\n",
       "<p>\n",
       "  If you're reading this message in the Jupyter Notebook or JupyterLab Notebook, it may mean\n",
       "  that the widgets JavaScript is still loading. If this message persists, it\n",
       "  likely means that the widgets JavaScript library is either not installed or\n",
       "  not enabled. See the <a href=\"https://ipywidgets.readthedocs.io/en/stable/user_install.html\">Jupyter\n",
       "  Widgets Documentation</a> for setup instructions.\n",
       "</p>\n",
       "<p>\n",
       "  If you're reading this message in another frontend (for example, a static\n",
       "  rendering on GitHub or <a href=\"https://nbviewer.jupyter.org/\">NBViewer</a>),\n",
       "  it may mean that your frontend doesn't currently support widgets.\n",
       "</p>\n"
      ],
      "text/plain": [
       "HBox(children=(IntProgress(value=0, description='Features', max=213, style=ProgressStyle(description_width='initial')), HTML(value='')))"
      ]
     },
     "metadata": {},
     "output_type": "display_data"
    },
    {
     "name": "stdout",
     "output_type": "stream",
     "text": [
      "\n"
     ]
    },
    {
     "data": {
      "application/vnd.jupyter.widget-view+json": {
       "model_id": "8270f48b0dcc4753aef1d1a5041ab68a",
       "version_major": 2,
       "version_minor": 0
      },
      "text/html": [
       "<p>Failed to display Jupyter Widget of type <code>HBox</code>.</p>\n",
       "<p>\n",
       "  If you're reading this message in the Jupyter Notebook or JupyterLab Notebook, it may mean\n",
       "  that the widgets JavaScript is still loading. If this message persists, it\n",
       "  likely means that the widgets JavaScript library is either not installed or\n",
       "  not enabled. See the <a href=\"https://ipywidgets.readthedocs.io/en/stable/user_install.html\">Jupyter\n",
       "  Widgets Documentation</a> for setup instructions.\n",
       "</p>\n",
       "<p>\n",
       "  If you're reading this message in another frontend (for example, a static\n",
       "  rendering on GitHub or <a href=\"https://nbviewer.jupyter.org/\">NBViewer</a>),\n",
       "  it may mean that your frontend doesn't currently support widgets.\n",
       "</p>\n"
      ],
      "text/plain": [
       "HBox(children=(IntProgress(value=0, description='Scores', max=45306, style=ProgressStyle(description_width='initial')), HTML(value='')))"
      ]
     },
     "metadata": {},
     "output_type": "display_data"
    },
    {
     "name": "stdout",
     "output_type": "stream",
     "text": [
      "\n",
      "Epoch 701/705\n",
      "852/852 [==============================] - 230s 270ms/step - loss: 0.1195 - binary_crossentropy: 0.0306 - acc: 0.9900\n",
      "\n",
      "Epoch 00701: acc improved from -inf to 0.98994, saving model to ../cache/wt7-701.h5\n",
      "Epoch 702/705\n",
      "852/852 [==============================] - 237s 278ms/step - loss: 0.1084 - binary_crossentropy: 0.0196 - acc: 0.9945\n",
      "\n",
      "Epoch 00702: acc improved from 0.98994 to 0.99453, saving model to ../cache/wt7-702.h5\n",
      "Epoch 703/705\n",
      "852/852 [==============================] - 238s 279ms/step - loss: 0.1033 - binary_crossentropy: 0.0147 - acc: 0.9960\n",
      "\n",
      "Epoch 00703: acc improved from 0.99453 to 0.99600, saving model to ../cache/wt7-703.h5\n",
      "Epoch 704/705\n",
      "852/852 [==============================] - 237s 278ms/step - loss: 0.0997 - binary_crossentropy: 0.0112 - acc: 0.9970\n",
      "\n",
      "Epoch 00704: acc improved from 0.99600 to 0.99706, saving model to ../cache/wt7-704.h5\n",
      "Epoch 705/705\n",
      "852/852 [==============================] - 236s 277ms/step - loss: 0.0978 - binary_crossentropy: 0.0094 - acc: 0.9972\n",
      "\n",
      "Epoch 00705: acc improved from 0.99706 to 0.99717, saving model to ../cache/wt7-705.h5\n",
      "705 1e-05 0.001163295\n"
     ]
    },
    {
     "data": {
      "application/vnd.jupyter.widget-view+json": {
       "model_id": "d76c27cfc67349a6b2f92e8af4891249",
       "version_major": 2,
       "version_minor": 0
      },
      "text/html": [
       "<p>Failed to display Jupyter Widget of type <code>HBox</code>.</p>\n",
       "<p>\n",
       "  If you're reading this message in the Jupyter Notebook or JupyterLab Notebook, it may mean\n",
       "  that the widgets JavaScript is still loading. If this message persists, it\n",
       "  likely means that the widgets JavaScript library is either not installed or\n",
       "  not enabled. See the <a href=\"https://ipywidgets.readthedocs.io/en/stable/user_install.html\">Jupyter\n",
       "  Widgets Documentation</a> for setup instructions.\n",
       "</p>\n",
       "<p>\n",
       "  If you're reading this message in another frontend (for example, a static\n",
       "  rendering on GitHub or <a href=\"https://nbviewer.jupyter.org/\">NBViewer</a>),\n",
       "  it may mean that your frontend doesn't currently support widgets.\n",
       "</p>\n"
      ],
      "text/plain": [
       "HBox(children=(IntProgress(value=0, description='Features', max=213, style=ProgressStyle(description_width='initial')), HTML(value='')))"
      ]
     },
     "metadata": {},
     "output_type": "display_data"
    },
    {
     "name": "stdout",
     "output_type": "stream",
     "text": [
      "\n"
     ]
    },
    {
     "data": {
      "application/vnd.jupyter.widget-view+json": {
       "model_id": "92f5af617d3043f1936e4befee27ed62",
       "version_major": 2,
       "version_minor": 0
      },
      "text/html": [
       "<p>Failed to display Jupyter Widget of type <code>HBox</code>.</p>\n",
       "<p>\n",
       "  If you're reading this message in the Jupyter Notebook or JupyterLab Notebook, it may mean\n",
       "  that the widgets JavaScript is still loading. If this message persists, it\n",
       "  likely means that the widgets JavaScript library is either not installed or\n",
       "  not enabled. See the <a href=\"https://ipywidgets.readthedocs.io/en/stable/user_install.html\">Jupyter\n",
       "  Widgets Documentation</a> for setup instructions.\n",
       "</p>\n",
       "<p>\n",
       "  If you're reading this message in another frontend (for example, a static\n",
       "  rendering on GitHub or <a href=\"https://nbviewer.jupyter.org/\">NBViewer</a>),\n",
       "  it may mean that your frontend doesn't currently support widgets.\n",
       "</p>\n"
      ],
      "text/plain": [
       "HBox(children=(IntProgress(value=0, description='Scores', max=45306, style=ProgressStyle(description_width='initial')), HTML(value='')))"
      ]
     },
     "metadata": {},
     "output_type": "display_data"
    },
    {
     "name": "stdout",
     "output_type": "stream",
     "text": [
      "\n",
      "Epoch 706/710\n",
      "852/852 [==============================] - 229s 269ms/step - loss: 0.1182 - binary_crossentropy: 0.0299 - acc: 0.9902\n",
      "\n",
      "Epoch 00706: acc improved from -inf to 0.99016, saving model to ../cache/wt7-706.h5\n",
      "Epoch 707/710\n",
      "852/852 [==============================] - 239s 280ms/step - loss: 0.1084 - binary_crossentropy: 0.0202 - acc: 0.9938\n",
      "\n",
      "Epoch 00707: acc improved from 0.99016 to 0.99376, saving model to ../cache/wt7-707.h5\n",
      "Epoch 708/710\n",
      "852/852 [==============================] - 239s 280ms/step - loss: 0.1041 - binary_crossentropy: 0.0160 - acc: 0.9948\n",
      "\n",
      "Epoch 00708: acc improved from 0.99376 to 0.99479, saving model to ../cache/wt7-708.h5\n",
      "Epoch 709/710\n",
      "852/852 [==============================] - 239s 281ms/step - loss: 0.1004 - binary_crossentropy: 0.0124 - acc: 0.9959\n",
      "\n",
      "Epoch 00709: acc improved from 0.99479 to 0.99585, saving model to ../cache/wt7-709.h5\n",
      "Epoch 710/710\n",
      "852/852 [==============================] - 239s 280ms/step - loss: 0.0992 - binary_crossentropy: 0.0113 - acc: 0.9965\n",
      "\n",
      "Epoch 00710: acc improved from 0.99585 to 0.99651, saving model to ../cache/wt7-710.h5\n",
      "710 1e-05 0.0013537729\n"
     ]
    },
    {
     "data": {
      "application/vnd.jupyter.widget-view+json": {
       "model_id": "7ddd26ebf152462688918e6056c6e91e",
       "version_major": 2,
       "version_minor": 0
      },
      "text/html": [
       "<p>Failed to display Jupyter Widget of type <code>HBox</code>.</p>\n",
       "<p>\n",
       "  If you're reading this message in the Jupyter Notebook or JupyterLab Notebook, it may mean\n",
       "  that the widgets JavaScript is still loading. If this message persists, it\n",
       "  likely means that the widgets JavaScript library is either not installed or\n",
       "  not enabled. See the <a href=\"https://ipywidgets.readthedocs.io/en/stable/user_install.html\">Jupyter\n",
       "  Widgets Documentation</a> for setup instructions.\n",
       "</p>\n",
       "<p>\n",
       "  If you're reading this message in another frontend (for example, a static\n",
       "  rendering on GitHub or <a href=\"https://nbviewer.jupyter.org/\">NBViewer</a>),\n",
       "  it may mean that your frontend doesn't currently support widgets.\n",
       "</p>\n"
      ],
      "text/plain": [
       "HBox(children=(IntProgress(value=0, description='Features', max=213, style=ProgressStyle(description_width='initial')), HTML(value='')))"
      ]
     },
     "metadata": {},
     "output_type": "display_data"
    },
    {
     "name": "stdout",
     "output_type": "stream",
     "text": [
      "\n"
     ]
    },
    {
     "data": {
      "application/vnd.jupyter.widget-view+json": {
       "model_id": "fd788b311aa646598901c1220369d0fd",
       "version_major": 2,
       "version_minor": 0
      },
      "text/html": [
       "<p>Failed to display Jupyter Widget of type <code>HBox</code>.</p>\n",
       "<p>\n",
       "  If you're reading this message in the Jupyter Notebook or JupyterLab Notebook, it may mean\n",
       "  that the widgets JavaScript is still loading. If this message persists, it\n",
       "  likely means that the widgets JavaScript library is either not installed or\n",
       "  not enabled. See the <a href=\"https://ipywidgets.readthedocs.io/en/stable/user_install.html\">Jupyter\n",
       "  Widgets Documentation</a> for setup instructions.\n",
       "</p>\n",
       "<p>\n",
       "  If you're reading this message in another frontend (for example, a static\n",
       "  rendering on GitHub or <a href=\"https://nbviewer.jupyter.org/\">NBViewer</a>),\n",
       "  it may mean that your frontend doesn't currently support widgets.\n",
       "</p>\n"
      ],
      "text/plain": [
       "HBox(children=(IntProgress(value=0, description='Scores', max=45306, style=ProgressStyle(description_width='initial')), HTML(value='')))"
      ]
     },
     "metadata": {},
     "output_type": "display_data"
    },
    {
     "name": "stdout",
     "output_type": "stream",
     "text": [
      "\n",
      "Epoch 711/715\n",
      "852/852 [==============================] - 229s 269ms/step - loss: 0.1197 - binary_crossentropy: 0.0319 - acc: 0.9900\n",
      "\n",
      "Epoch 00711: acc improved from -inf to 0.98998, saving model to ../cache/wt7-711.h5\n",
      "Epoch 712/715\n",
      "852/852 [==============================] - 238s 280ms/step - loss: 0.1112 - binary_crossentropy: 0.0235 - acc: 0.9935\n",
      "\n",
      "Epoch 00712: acc improved from 0.98998 to 0.99350, saving model to ../cache/wt7-712.h5\n",
      "Epoch 713/715\n",
      "852/852 [==============================] - 238s 279ms/step - loss: 0.1032 - binary_crossentropy: 0.0155 - acc: 0.9953\n",
      "\n",
      "Epoch 00713: acc improved from 0.99350 to 0.99534, saving model to ../cache/wt7-713.h5\n",
      "Epoch 714/715\n",
      "852/852 [==============================] - 238s 280ms/step - loss: 0.0989 - binary_crossentropy: 0.0114 - acc: 0.9969\n",
      "\n",
      "Epoch 00714: acc improved from 0.99534 to 0.99692, saving model to ../cache/wt7-714.h5\n",
      "Epoch 715/715\n",
      "852/852 [==============================] - 238s 280ms/step - loss: 0.0979 - binary_crossentropy: 0.0105 - acc: 0.9971\n",
      "\n",
      "Epoch 00715: acc improved from 0.99692 to 0.99717, saving model to ../cache/wt7-715.h5\n",
      "715 1e-05 0.0011974926\n"
     ]
    },
    {
     "data": {
      "application/vnd.jupyter.widget-view+json": {
       "model_id": "3e7771eca7e94e6991fb7f6c3963157a",
       "version_major": 2,
       "version_minor": 0
      },
      "text/html": [
       "<p>Failed to display Jupyter Widget of type <code>HBox</code>.</p>\n",
       "<p>\n",
       "  If you're reading this message in the Jupyter Notebook or JupyterLab Notebook, it may mean\n",
       "  that the widgets JavaScript is still loading. If this message persists, it\n",
       "  likely means that the widgets JavaScript library is either not installed or\n",
       "  not enabled. See the <a href=\"https://ipywidgets.readthedocs.io/en/stable/user_install.html\">Jupyter\n",
       "  Widgets Documentation</a> for setup instructions.\n",
       "</p>\n",
       "<p>\n",
       "  If you're reading this message in another frontend (for example, a static\n",
       "  rendering on GitHub or <a href=\"https://nbviewer.jupyter.org/\">NBViewer</a>),\n",
       "  it may mean that your frontend doesn't currently support widgets.\n",
       "</p>\n"
      ],
      "text/plain": [
       "HBox(children=(IntProgress(value=0, description='Features', max=213, style=ProgressStyle(description_width='initial')), HTML(value='')))"
      ]
     },
     "metadata": {},
     "output_type": "display_data"
    },
    {
     "name": "stdout",
     "output_type": "stream",
     "text": [
      "\n"
     ]
    },
    {
     "data": {
      "application/vnd.jupyter.widget-view+json": {
       "model_id": "011340d407484bb39eff08e22cc74731",
       "version_major": 2,
       "version_minor": 0
      },
      "text/html": [
       "<p>Failed to display Jupyter Widget of type <code>HBox</code>.</p>\n",
       "<p>\n",
       "  If you're reading this message in the Jupyter Notebook or JupyterLab Notebook, it may mean\n",
       "  that the widgets JavaScript is still loading. If this message persists, it\n",
       "  likely means that the widgets JavaScript library is either not installed or\n",
       "  not enabled. See the <a href=\"https://ipywidgets.readthedocs.io/en/stable/user_install.html\">Jupyter\n",
       "  Widgets Documentation</a> for setup instructions.\n",
       "</p>\n",
       "<p>\n",
       "  If you're reading this message in another frontend (for example, a static\n",
       "  rendering on GitHub or <a href=\"https://nbviewer.jupyter.org/\">NBViewer</a>),\n",
       "  it may mean that your frontend doesn't currently support widgets.\n",
       "</p>\n"
      ],
      "text/plain": [
       "HBox(children=(IntProgress(value=0, description='Scores', max=45306, style=ProgressStyle(description_width='initial')), HTML(value='')))"
      ]
     },
     "metadata": {},
     "output_type": "display_data"
    },
    {
     "name": "stdout",
     "output_type": "stream",
     "text": [
      "\n",
      "Epoch 716/720\n",
      "852/852 [==============================] - 229s 269ms/step - loss: 0.1157 - binary_crossentropy: 0.0284 - acc: 0.9895\n",
      "\n",
      "Epoch 00716: acc improved from -inf to 0.98950, saving model to ../cache/wt7-716.h5\n",
      "Epoch 717/720\n",
      "852/852 [==============================] - 237s 278ms/step - loss: 0.1048 - binary_crossentropy: 0.0176 - acc: 0.9943\n",
      "\n",
      "Epoch 00717: acc improved from 0.98950 to 0.99427, saving model to ../cache/wt7-717.h5\n",
      "Epoch 718/720\n",
      "852/852 [==============================] - 237s 278ms/step - loss: 0.0989 - binary_crossentropy: 0.0117 - acc: 0.9964\n",
      "\n",
      "Epoch 00718: acc improved from 0.99427 to 0.99637, saving model to ../cache/wt7-718.h5\n",
      "Epoch 719/720\n",
      "852/852 [==============================] - 237s 278ms/step - loss: 0.0968 - binary_crossentropy: 0.0098 - acc: 0.9969\n",
      "\n",
      "Epoch 00719: acc improved from 0.99637 to 0.99688, saving model to ../cache/wt7-719.h5\n",
      "Epoch 720/720\n",
      "852/852 [==============================] - 236s 277ms/step - loss: 0.0942 - binary_crossentropy: 0.0073 - acc: 0.9977\n",
      "\n",
      "Epoch 00720: acc improved from 0.99688 to 0.99765, saving model to ../cache/wt7-720.h5\n",
      "720 1e-05 0.0012388029\n"
     ]
    },
    {
     "data": {
      "application/vnd.jupyter.widget-view+json": {
       "model_id": "ea7417c3215540309464fd7a5196f4c9",
       "version_major": 2,
       "version_minor": 0
      },
      "text/html": [
       "<p>Failed to display Jupyter Widget of type <code>HBox</code>.</p>\n",
       "<p>\n",
       "  If you're reading this message in the Jupyter Notebook or JupyterLab Notebook, it may mean\n",
       "  that the widgets JavaScript is still loading. If this message persists, it\n",
       "  likely means that the widgets JavaScript library is either not installed or\n",
       "  not enabled. See the <a href=\"https://ipywidgets.readthedocs.io/en/stable/user_install.html\">Jupyter\n",
       "  Widgets Documentation</a> for setup instructions.\n",
       "</p>\n",
       "<p>\n",
       "  If you're reading this message in another frontend (for example, a static\n",
       "  rendering on GitHub or <a href=\"https://nbviewer.jupyter.org/\">NBViewer</a>),\n",
       "  it may mean that your frontend doesn't currently support widgets.\n",
       "</p>\n"
      ],
      "text/plain": [
       "HBox(children=(IntProgress(value=0, description='Features', max=213, style=ProgressStyle(description_width='initial')), HTML(value='')))"
      ]
     },
     "metadata": {},
     "output_type": "display_data"
    },
    {
     "name": "stdout",
     "output_type": "stream",
     "text": [
      "\n"
     ]
    },
    {
     "data": {
      "application/vnd.jupyter.widget-view+json": {
       "model_id": "2534c37e1b4442e4b7277864189f36ba",
       "version_major": 2,
       "version_minor": 0
      },
      "text/html": [
       "<p>Failed to display Jupyter Widget of type <code>HBox</code>.</p>\n",
       "<p>\n",
       "  If you're reading this message in the Jupyter Notebook or JupyterLab Notebook, it may mean\n",
       "  that the widgets JavaScript is still loading. If this message persists, it\n",
       "  likely means that the widgets JavaScript library is either not installed or\n",
       "  not enabled. See the <a href=\"https://ipywidgets.readthedocs.io/en/stable/user_install.html\">Jupyter\n",
       "  Widgets Documentation</a> for setup instructions.\n",
       "</p>\n",
       "<p>\n",
       "  If you're reading this message in another frontend (for example, a static\n",
       "  rendering on GitHub or <a href=\"https://nbviewer.jupyter.org/\">NBViewer</a>),\n",
       "  it may mean that your frontend doesn't currently support widgets.\n",
       "</p>\n"
      ],
      "text/plain": [
       "HBox(children=(IntProgress(value=0, description='Scores', max=45306, style=ProgressStyle(description_width='initial')), HTML(value='')))"
      ]
     },
     "metadata": {},
     "output_type": "display_data"
    },
    {
     "name": "stdout",
     "output_type": "stream",
     "text": [
      "\n",
      "Epoch 721/725\n",
      "852/852 [==============================] - 229s 269ms/step - loss: 0.1158 - binary_crossentropy: 0.0290 - acc: 0.9902\n",
      "\n",
      "Epoch 00721: acc improved from -inf to 0.99024, saving model to ../cache/wt7-721.h5\n",
      "Epoch 722/725\n",
      "852/852 [==============================] - 238s 280ms/step - loss: 0.1064 - binary_crossentropy: 0.0197 - acc: 0.9934\n",
      "\n",
      "Epoch 00722: acc improved from 0.99024 to 0.99343, saving model to ../cache/wt7-722.h5\n",
      "Epoch 723/725\n",
      "852/852 [==============================] - 238s 280ms/step - loss: 0.0999 - binary_crossentropy: 0.0132 - acc: 0.9959\n",
      "\n",
      "Epoch 00723: acc improved from 0.99343 to 0.99593, saving model to ../cache/wt7-723.h5\n",
      "Epoch 724/725\n",
      "852/852 [==============================] - 237s 278ms/step - loss: 0.0959 - binary_crossentropy: 0.0094 - acc: 0.9972\n",
      "\n",
      "Epoch 00724: acc improved from 0.99593 to 0.99721, saving model to ../cache/wt7-724.h5\n",
      "Epoch 725/725\n",
      "852/852 [==============================] - 239s 280ms/step - loss: 0.0959 - binary_crossentropy: 0.0095 - acc: 0.9971\n",
      "\n",
      "Epoch 00725: acc did not improve from 0.99721\n",
      "725 1e-05 0.0012951186\n"
     ]
    },
    {
     "data": {
      "application/vnd.jupyter.widget-view+json": {
       "model_id": "f60a74a0cfa34cee960b72cb01df022b",
       "version_major": 2,
       "version_minor": 0
      },
      "text/html": [
       "<p>Failed to display Jupyter Widget of type <code>HBox</code>.</p>\n",
       "<p>\n",
       "  If you're reading this message in the Jupyter Notebook or JupyterLab Notebook, it may mean\n",
       "  that the widgets JavaScript is still loading. If this message persists, it\n",
       "  likely means that the widgets JavaScript library is either not installed or\n",
       "  not enabled. See the <a href=\"https://ipywidgets.readthedocs.io/en/stable/user_install.html\">Jupyter\n",
       "  Widgets Documentation</a> for setup instructions.\n",
       "</p>\n",
       "<p>\n",
       "  If you're reading this message in another frontend (for example, a static\n",
       "  rendering on GitHub or <a href=\"https://nbviewer.jupyter.org/\">NBViewer</a>),\n",
       "  it may mean that your frontend doesn't currently support widgets.\n",
       "</p>\n"
      ],
      "text/plain": [
       "HBox(children=(IntProgress(value=0, description='Features', max=213, style=ProgressStyle(description_width='initial')), HTML(value='')))"
      ]
     },
     "metadata": {},
     "output_type": "display_data"
    },
    {
     "name": "stdout",
     "output_type": "stream",
     "text": [
      "\n"
     ]
    },
    {
     "data": {
      "application/vnd.jupyter.widget-view+json": {
       "model_id": "3e62e8889f7048dc9094b3b46511622b",
       "version_major": 2,
       "version_minor": 0
      },
      "text/html": [
       "<p>Failed to display Jupyter Widget of type <code>HBox</code>.</p>\n",
       "<p>\n",
       "  If you're reading this message in the Jupyter Notebook or JupyterLab Notebook, it may mean\n",
       "  that the widgets JavaScript is still loading. If this message persists, it\n",
       "  likely means that the widgets JavaScript library is either not installed or\n",
       "  not enabled. See the <a href=\"https://ipywidgets.readthedocs.io/en/stable/user_install.html\">Jupyter\n",
       "  Widgets Documentation</a> for setup instructions.\n",
       "</p>\n",
       "<p>\n",
       "  If you're reading this message in another frontend (for example, a static\n",
       "  rendering on GitHub or <a href=\"https://nbviewer.jupyter.org/\">NBViewer</a>),\n",
       "  it may mean that your frontend doesn't currently support widgets.\n",
       "</p>\n"
      ],
      "text/plain": [
       "HBox(children=(IntProgress(value=0, description='Scores', max=45306, style=ProgressStyle(description_width='initial')), HTML(value='')))"
      ]
     },
     "metadata": {},
     "output_type": "display_data"
    },
    {
     "name": "stdout",
     "output_type": "stream",
     "text": [
      "\n",
      "Epoch 726/730\n",
      "852/852 [==============================] - 230s 270ms/step - loss: 0.1140 - binary_crossentropy: 0.0277 - acc: 0.9912\n",
      "\n",
      "Epoch 00726: acc improved from -inf to 0.99115, saving model to ../cache/wt7-726.h5\n",
      "Epoch 727/730\n",
      "852/852 [==============================] - 236s 277ms/step - loss: 0.1053 - binary_crossentropy: 0.0190 - acc: 0.9944\n",
      "\n",
      "Epoch 00727: acc improved from 0.99115 to 0.99438, saving model to ../cache/wt7-727.h5\n",
      "Epoch 728/730\n",
      "852/852 [==============================] - 237s 279ms/step - loss: 0.0989 - binary_crossentropy: 0.0128 - acc: 0.9960\n",
      "\n",
      "Epoch 00728: acc improved from 0.99438 to 0.99596, saving model to ../cache/wt7-728.h5\n",
      "Epoch 729/730\n",
      "852/852 [==============================] - 237s 279ms/step - loss: 0.0959 - binary_crossentropy: 0.0099 - acc: 0.9973\n",
      "\n",
      "Epoch 00729: acc improved from 0.99596 to 0.99732, saving model to ../cache/wt7-729.h5\n",
      "Epoch 730/730\n",
      "852/852 [==============================] - 237s 278ms/step - loss: 0.0938 - binary_crossentropy: 0.0079 - acc: 0.9978\n",
      "\n",
      "Epoch 00730: acc improved from 0.99732 to 0.99783, saving model to ../cache/wt7-730.h5\n",
      "730 1e-05 0.0011696091\n"
     ]
    },
    {
     "data": {
      "application/vnd.jupyter.widget-view+json": {
       "model_id": "f258be788da4496c9d0ad81e864c8e96",
       "version_major": 2,
       "version_minor": 0
      },
      "text/html": [
       "<p>Failed to display Jupyter Widget of type <code>HBox</code>.</p>\n",
       "<p>\n",
       "  If you're reading this message in the Jupyter Notebook or JupyterLab Notebook, it may mean\n",
       "  that the widgets JavaScript is still loading. If this message persists, it\n",
       "  likely means that the widgets JavaScript library is either not installed or\n",
       "  not enabled. See the <a href=\"https://ipywidgets.readthedocs.io/en/stable/user_install.html\">Jupyter\n",
       "  Widgets Documentation</a> for setup instructions.\n",
       "</p>\n",
       "<p>\n",
       "  If you're reading this message in another frontend (for example, a static\n",
       "  rendering on GitHub or <a href=\"https://nbviewer.jupyter.org/\">NBViewer</a>),\n",
       "  it may mean that your frontend doesn't currently support widgets.\n",
       "</p>\n"
      ],
      "text/plain": [
       "HBox(children=(IntProgress(value=0, description='Features', max=213, style=ProgressStyle(description_width='initial')), HTML(value='')))"
      ]
     },
     "metadata": {},
     "output_type": "display_data"
    },
    {
     "name": "stdout",
     "output_type": "stream",
     "text": [
      "\n"
     ]
    },
    {
     "data": {
      "application/vnd.jupyter.widget-view+json": {
       "model_id": "457d9876006c4d8b81e22d3ad4fdff86",
       "version_major": 2,
       "version_minor": 0
      },
      "text/html": [
       "<p>Failed to display Jupyter Widget of type <code>HBox</code>.</p>\n",
       "<p>\n",
       "  If you're reading this message in the Jupyter Notebook or JupyterLab Notebook, it may mean\n",
       "  that the widgets JavaScript is still loading. If this message persists, it\n",
       "  likely means that the widgets JavaScript library is either not installed or\n",
       "  not enabled. See the <a href=\"https://ipywidgets.readthedocs.io/en/stable/user_install.html\">Jupyter\n",
       "  Widgets Documentation</a> for setup instructions.\n",
       "</p>\n",
       "<p>\n",
       "  If you're reading this message in another frontend (for example, a static\n",
       "  rendering on GitHub or <a href=\"https://nbviewer.jupyter.org/\">NBViewer</a>),\n",
       "  it may mean that your frontend doesn't currently support widgets.\n",
       "</p>\n"
      ],
      "text/plain": [
       "HBox(children=(IntProgress(value=0, description='Scores', max=45306, style=ProgressStyle(description_width='initial')), HTML(value='')))"
      ]
     },
     "metadata": {},
     "output_type": "display_data"
    },
    {
     "name": "stdout",
     "output_type": "stream",
     "text": [
      "\n",
      "Epoch 731/735\n",
      "852/852 [==============================] - 229s 269ms/step - loss: 0.1170 - binary_crossentropy: 0.0312 - acc: 0.9898\n",
      "\n",
      "Epoch 00731: acc improved from -inf to 0.98983, saving model to ../cache/wt7-731.h5\n",
      "Epoch 732/735\n",
      "852/852 [==============================] - 237s 278ms/step - loss: 0.1066 - binary_crossentropy: 0.0209 - acc: 0.9940\n",
      "\n",
      "Epoch 00732: acc improved from 0.98983 to 0.99402, saving model to ../cache/wt7-732.h5\n",
      "Epoch 733/735\n",
      "852/852 [==============================] - 238s 279ms/step - loss: 0.0996 - binary_crossentropy: 0.0140 - acc: 0.9957\n",
      "\n",
      "Epoch 00733: acc improved from 0.99402 to 0.99574, saving model to ../cache/wt7-733.h5\n",
      "Epoch 734/735\n",
      "852/852 [==============================] - 238s 279ms/step - loss: 0.0970 - binary_crossentropy: 0.0115 - acc: 0.9963\n",
      "\n",
      "Epoch 00734: acc improved from 0.99574 to 0.99629, saving model to ../cache/wt7-734.h5\n",
      "Epoch 735/735\n",
      "852/852 [==============================] - 236s 277ms/step - loss: 0.0941 - binary_crossentropy: 0.0087 - acc: 0.9974\n",
      "\n",
      "Epoch 00735: acc improved from 0.99629 to 0.99736, saving model to ../cache/wt7-735.h5\n",
      "735 1e-05 0.0012868041\n"
     ]
    },
    {
     "data": {
      "application/vnd.jupyter.widget-view+json": {
       "model_id": "4c67885263ce4446884ca0e90ba555d5",
       "version_major": 2,
       "version_minor": 0
      },
      "text/html": [
       "<p>Failed to display Jupyter Widget of type <code>HBox</code>.</p>\n",
       "<p>\n",
       "  If you're reading this message in the Jupyter Notebook or JupyterLab Notebook, it may mean\n",
       "  that the widgets JavaScript is still loading. If this message persists, it\n",
       "  likely means that the widgets JavaScript library is either not installed or\n",
       "  not enabled. See the <a href=\"https://ipywidgets.readthedocs.io/en/stable/user_install.html\">Jupyter\n",
       "  Widgets Documentation</a> for setup instructions.\n",
       "</p>\n",
       "<p>\n",
       "  If you're reading this message in another frontend (for example, a static\n",
       "  rendering on GitHub or <a href=\"https://nbviewer.jupyter.org/\">NBViewer</a>),\n",
       "  it may mean that your frontend doesn't currently support widgets.\n",
       "</p>\n"
      ],
      "text/plain": [
       "HBox(children=(IntProgress(value=0, description='Features', max=213, style=ProgressStyle(description_width='initial')), HTML(value='')))"
      ]
     },
     "metadata": {},
     "output_type": "display_data"
    },
    {
     "name": "stdout",
     "output_type": "stream",
     "text": [
      "\n"
     ]
    },
    {
     "data": {
      "application/vnd.jupyter.widget-view+json": {
       "model_id": "9073a7d3858a4c028f7208c826838919",
       "version_major": 2,
       "version_minor": 0
      },
      "text/html": [
       "<p>Failed to display Jupyter Widget of type <code>HBox</code>.</p>\n",
       "<p>\n",
       "  If you're reading this message in the Jupyter Notebook or JupyterLab Notebook, it may mean\n",
       "  that the widgets JavaScript is still loading. If this message persists, it\n",
       "  likely means that the widgets JavaScript library is either not installed or\n",
       "  not enabled. See the <a href=\"https://ipywidgets.readthedocs.io/en/stable/user_install.html\">Jupyter\n",
       "  Widgets Documentation</a> for setup instructions.\n",
       "</p>\n",
       "<p>\n",
       "  If you're reading this message in another frontend (for example, a static\n",
       "  rendering on GitHub or <a href=\"https://nbviewer.jupyter.org/\">NBViewer</a>),\n",
       "  it may mean that your frontend doesn't currently support widgets.\n",
       "</p>\n"
      ],
      "text/plain": [
       "HBox(children=(IntProgress(value=0, description='Scores', max=45306, style=ProgressStyle(description_width='initial')), HTML(value='')))"
      ]
     },
     "metadata": {},
     "output_type": "display_data"
    },
    {
     "name": "stdout",
     "output_type": "stream",
     "text": [
      "\n",
      "Epoch 736/740\n",
      "852/852 [==============================] - 229s 269ms/step - loss: 0.1133 - binary_crossentropy: 0.0280 - acc: 0.9910\n",
      "\n",
      "Epoch 00736: acc improved from -inf to 0.99101, saving model to ../cache/wt7-736.h5\n",
      "Epoch 737/740\n",
      "852/852 [==============================] - 238s 279ms/step - loss: 0.1017 - binary_crossentropy: 0.0165 - acc: 0.9950\n",
      "\n",
      "Epoch 00737: acc improved from 0.99101 to 0.99501, saving model to ../cache/wt7-737.h5\n",
      "Epoch 738/740\n",
      "852/852 [==============================] - 238s 279ms/step - loss: 0.0987 - binary_crossentropy: 0.0135 - acc: 0.9957\n",
      "\n",
      "Epoch 00738: acc improved from 0.99501 to 0.99574, saving model to ../cache/wt7-738.h5\n",
      "Epoch 739/740\n",
      "852/852 [==============================] - 238s 279ms/step - loss: 0.0948 - binary_crossentropy: 0.0098 - acc: 0.9967\n",
      "\n",
      "Epoch 00739: acc improved from 0.99574 to 0.99666, saving model to ../cache/wt7-739.h5\n",
      "Epoch 740/740\n",
      "852/852 [==============================] - 237s 278ms/step - loss: 0.0933 - binary_crossentropy: 0.0084 - acc: 0.9975\n",
      "\n",
      "Epoch 00740: acc improved from 0.99666 to 0.99747, saving model to ../cache/wt7-740.h5\n",
      "740 1e-05 0.0011820853\n"
     ]
    },
    {
     "data": {
      "application/vnd.jupyter.widget-view+json": {
       "model_id": "d1c46fe6c8d54caf8d414cb7c36a62cd",
       "version_major": 2,
       "version_minor": 0
      },
      "text/html": [
       "<p>Failed to display Jupyter Widget of type <code>HBox</code>.</p>\n",
       "<p>\n",
       "  If you're reading this message in the Jupyter Notebook or JupyterLab Notebook, it may mean\n",
       "  that the widgets JavaScript is still loading. If this message persists, it\n",
       "  likely means that the widgets JavaScript library is either not installed or\n",
       "  not enabled. See the <a href=\"https://ipywidgets.readthedocs.io/en/stable/user_install.html\">Jupyter\n",
       "  Widgets Documentation</a> for setup instructions.\n",
       "</p>\n",
       "<p>\n",
       "  If you're reading this message in another frontend (for example, a static\n",
       "  rendering on GitHub or <a href=\"https://nbviewer.jupyter.org/\">NBViewer</a>),\n",
       "  it may mean that your frontend doesn't currently support widgets.\n",
       "</p>\n"
      ],
      "text/plain": [
       "HBox(children=(IntProgress(value=0, description='Features', max=213, style=ProgressStyle(description_width='initial')), HTML(value='')))"
      ]
     },
     "metadata": {},
     "output_type": "display_data"
    },
    {
     "name": "stdout",
     "output_type": "stream",
     "text": [
      "\n"
     ]
    },
    {
     "data": {
      "application/vnd.jupyter.widget-view+json": {
       "model_id": "56124befd2ab4731b6714a69098626dd",
       "version_major": 2,
       "version_minor": 0
      },
      "text/html": [
       "<p>Failed to display Jupyter Widget of type <code>HBox</code>.</p>\n",
       "<p>\n",
       "  If you're reading this message in the Jupyter Notebook or JupyterLab Notebook, it may mean\n",
       "  that the widgets JavaScript is still loading. If this message persists, it\n",
       "  likely means that the widgets JavaScript library is either not installed or\n",
       "  not enabled. See the <a href=\"https://ipywidgets.readthedocs.io/en/stable/user_install.html\">Jupyter\n",
       "  Widgets Documentation</a> for setup instructions.\n",
       "</p>\n",
       "<p>\n",
       "  If you're reading this message in another frontend (for example, a static\n",
       "  rendering on GitHub or <a href=\"https://nbviewer.jupyter.org/\">NBViewer</a>),\n",
       "  it may mean that your frontend doesn't currently support widgets.\n",
       "</p>\n"
      ],
      "text/plain": [
       "HBox(children=(IntProgress(value=0, description='Scores', max=45306, style=ProgressStyle(description_width='initial')), HTML(value='')))"
      ]
     },
     "metadata": {},
     "output_type": "display_data"
    },
    {
     "name": "stdout",
     "output_type": "stream",
     "text": [
      "\n",
      "Epoch 741/745\n",
      "852/852 [==============================] - 229s 268ms/step - loss: 0.1118 - binary_crossentropy: 0.0270 - acc: 0.9914\n",
      "\n",
      "Epoch 00741: acc improved from -inf to 0.99141, saving model to ../cache/wt7-741.h5\n",
      "Epoch 742/745\n",
      "852/852 [==============================] - 237s 278ms/step - loss: 0.1020 - binary_crossentropy: 0.0173 - acc: 0.9949\n",
      "\n",
      "Epoch 00742: acc improved from 0.99141 to 0.99490, saving model to ../cache/wt7-742.h5\n",
      "Epoch 743/745\n",
      "852/852 [==============================] - 236s 277ms/step - loss: 0.0983 - binary_crossentropy: 0.0136 - acc: 0.9957\n",
      "\n",
      "Epoch 00743: acc improved from 0.99490 to 0.99574, saving model to ../cache/wt7-743.h5\n",
      "Epoch 744/745\n",
      "852/852 [==============================] - 236s 277ms/step - loss: 0.0941 - binary_crossentropy: 0.0096 - acc: 0.9971\n",
      "\n",
      "Epoch 00744: acc improved from 0.99574 to 0.99710, saving model to ../cache/wt7-744.h5\n",
      "Epoch 745/745\n",
      "852/852 [==============================] - 237s 278ms/step - loss: 0.0923 - binary_crossentropy: 0.0079 - acc: 0.9975\n",
      "\n",
      "Epoch 00745: acc improved from 0.99710 to 0.99754, saving model to ../cache/wt7-745.h5\n",
      "745 1e-05 0.0011966266\n"
     ]
    },
    {
     "data": {
      "application/vnd.jupyter.widget-view+json": {
       "model_id": "3791c82d6ce743de8b5baee3c1104737",
       "version_major": 2,
       "version_minor": 0
      },
      "text/html": [
       "<p>Failed to display Jupyter Widget of type <code>HBox</code>.</p>\n",
       "<p>\n",
       "  If you're reading this message in the Jupyter Notebook or JupyterLab Notebook, it may mean\n",
       "  that the widgets JavaScript is still loading. If this message persists, it\n",
       "  likely means that the widgets JavaScript library is either not installed or\n",
       "  not enabled. See the <a href=\"https://ipywidgets.readthedocs.io/en/stable/user_install.html\">Jupyter\n",
       "  Widgets Documentation</a> for setup instructions.\n",
       "</p>\n",
       "<p>\n",
       "  If you're reading this message in another frontend (for example, a static\n",
       "  rendering on GitHub or <a href=\"https://nbviewer.jupyter.org/\">NBViewer</a>),\n",
       "  it may mean that your frontend doesn't currently support widgets.\n",
       "</p>\n"
      ],
      "text/plain": [
       "HBox(children=(IntProgress(value=0, description='Features', max=213, style=ProgressStyle(description_width='initial')), HTML(value='')))"
      ]
     },
     "metadata": {},
     "output_type": "display_data"
    },
    {
     "name": "stdout",
     "output_type": "stream",
     "text": [
      "\n"
     ]
    },
    {
     "data": {
      "application/vnd.jupyter.widget-view+json": {
       "model_id": "668900f97b484ad8a9f155c15083ad1c",
       "version_major": 2,
       "version_minor": 0
      },
      "text/html": [
       "<p>Failed to display Jupyter Widget of type <code>HBox</code>.</p>\n",
       "<p>\n",
       "  If you're reading this message in the Jupyter Notebook or JupyterLab Notebook, it may mean\n",
       "  that the widgets JavaScript is still loading. If this message persists, it\n",
       "  likely means that the widgets JavaScript library is either not installed or\n",
       "  not enabled. See the <a href=\"https://ipywidgets.readthedocs.io/en/stable/user_install.html\">Jupyter\n",
       "  Widgets Documentation</a> for setup instructions.\n",
       "</p>\n",
       "<p>\n",
       "  If you're reading this message in another frontend (for example, a static\n",
       "  rendering on GitHub or <a href=\"https://nbviewer.jupyter.org/\">NBViewer</a>),\n",
       "  it may mean that your frontend doesn't currently support widgets.\n",
       "</p>\n"
      ],
      "text/plain": [
       "HBox(children=(IntProgress(value=0, description='Scores', max=45306, style=ProgressStyle(description_width='initial')), HTML(value='')))"
      ]
     },
     "metadata": {},
     "output_type": "display_data"
    },
    {
     "name": "stdout",
     "output_type": "stream",
     "text": [
      "\n",
      "Epoch 746/750\n",
      "852/852 [==============================] - 228s 268ms/step - loss: 0.1137 - binary_crossentropy: 0.0294 - acc: 0.9902\n",
      "\n",
      "Epoch 00746: acc improved from -inf to 0.99020, saving model to ../cache/wt7-746.h5\n",
      "Epoch 747/750\n",
      "852/852 [==============================] - 237s 278ms/step - loss: 0.1015 - binary_crossentropy: 0.0173 - acc: 0.9950\n",
      "\n",
      "Epoch 00747: acc improved from 0.99020 to 0.99505, saving model to ../cache/wt7-747.h5\n",
      "Epoch 748/750\n",
      "852/852 [==============================] - 237s 278ms/step - loss: 0.0988 - binary_crossentropy: 0.0146 - acc: 0.9958\n",
      "\n",
      "Epoch 00748: acc improved from 0.99505 to 0.99582, saving model to ../cache/wt7-748.h5\n",
      "Epoch 749/750\n",
      "852/852 [==============================] - 237s 278ms/step - loss: 0.0947 - binary_crossentropy: 0.0107 - acc: 0.9975\n",
      "\n",
      "Epoch 00749: acc improved from 0.99582 to 0.99747, saving model to ../cache/wt7-749.h5\n",
      "Epoch 750/750\n",
      "852/852 [==============================] - 236s 277ms/step - loss: 0.0932 - binary_crossentropy: 0.0093 - acc: 0.9971\n",
      "\n",
      "Epoch 00750: acc did not improve from 0.99747\n",
      "750 1e-05 0.0012400954\n"
     ]
    }
   ],
   "source": [
    "# epoch -> 750\n",
    "# model.load_weights('../cache/wt7-600.h5')\n",
    "set_lr(model, 1e-5)\n",
    "for _ in range(30): make_steps(5, 0.25)\n",
    "model.save('../cache/ashish.standard.model-9')"
   ]
  },
  {
   "cell_type": "code",
   "execution_count": null,
   "metadata": {},
   "outputs": [
    {
     "data": {
      "application/vnd.jupyter.widget-view+json": {
       "model_id": "1b6719909ce84ada9c90b1b4d41cccd6",
       "version_major": 2,
       "version_minor": 0
      },
      "text/html": [
       "<p>Failed to display Jupyter Widget of type <code>HBox</code>.</p>\n",
       "<p>\n",
       "  If you're reading this message in the Jupyter Notebook or JupyterLab Notebook, it may mean\n",
       "  that the widgets JavaScript is still loading. If this message persists, it\n",
       "  likely means that the widgets JavaScript library is either not installed or\n",
       "  not enabled. See the <a href=\"https://ipywidgets.readthedocs.io/en/stable/user_install.html\">Jupyter\n",
       "  Widgets Documentation</a> for setup instructions.\n",
       "</p>\n",
       "<p>\n",
       "  If you're reading this message in another frontend (for example, a static\n",
       "  rendering on GitHub or <a href=\"https://nbviewer.jupyter.org/\">NBViewer</a>),\n",
       "  it may mean that your frontend doesn't currently support widgets.\n",
       "</p>\n"
      ],
      "text/plain": [
       "HBox(children=(IntProgress(value=0, description='Features', max=213, style=ProgressStyle(description_width='initial')), HTML(value='')))"
      ]
     },
     "metadata": {},
     "output_type": "display_data"
    },
    {
     "name": "stdout",
     "output_type": "stream",
     "text": [
      "\n"
     ]
    },
    {
     "data": {
      "application/vnd.jupyter.widget-view+json": {
       "model_id": "cb0abb7340464609a9565c0421856e23",
       "version_major": 2,
       "version_minor": 0
      },
      "text/html": [
       "<p>Failed to display Jupyter Widget of type <code>HBox</code>.</p>\n",
       "<p>\n",
       "  If you're reading this message in the Jupyter Notebook or JupyterLab Notebook, it may mean\n",
       "  that the widgets JavaScript is still loading. If this message persists, it\n",
       "  likely means that the widgets JavaScript library is either not installed or\n",
       "  not enabled. See the <a href=\"https://ipywidgets.readthedocs.io/en/stable/user_install.html\">Jupyter\n",
       "  Widgets Documentation</a> for setup instructions.\n",
       "</p>\n",
       "<p>\n",
       "  If you're reading this message in another frontend (for example, a static\n",
       "  rendering on GitHub or <a href=\"https://nbviewer.jupyter.org/\">NBViewer</a>),\n",
       "  it may mean that your frontend doesn't currently support widgets.\n",
       "</p>\n"
      ],
      "text/plain": [
       "HBox(children=(IntProgress(value=0, description='Scores', max=45306, style=ProgressStyle(description_width='initial')), HTML(value='')))"
      ]
     },
     "metadata": {},
     "output_type": "display_data"
    },
    {
     "name": "stdout",
     "output_type": "stream",
     "text": [
      "\n"
     ]
    },
    {
     "name": "stderr",
     "output_type": "stream",
     "text": [
      "/home/watts/anaconda3/envs/hpg/lib/python3.6/site-packages/keras/callbacks.py:1065: UserWarning: `epsilon` argument is deprecated and will be removed, use `min_delta` instead.\n",
      "  warnings.warn('`epsilon` argument is deprecated and '\n"
     ]
    },
    {
     "name": "stdout",
     "output_type": "stream",
     "text": [
      "Epoch 751/755\n",
      "852/852 [==============================] - 233s 273ms/step - loss: 0.1143 - binary_crossentropy: 0.0305 - acc: 0.9900\n",
      "\n",
      "Epoch 00751: acc improved from -inf to 0.98998, saving model to ../cache/wt7-751.h5\n",
      "Epoch 752/755\n",
      "852/852 [==============================] - 239s 280ms/step - loss: 0.1036 - binary_crossentropy: 0.0199 - acc: 0.9936\n",
      "\n",
      "Epoch 00752: acc improved from 0.98998 to 0.99361, saving model to ../cache/wt7-752.h5\n",
      "Epoch 753/755\n",
      "852/852 [==============================] - 239s 281ms/step - loss: 0.0980 - binary_crossentropy: 0.0143 - acc: 0.9958\n",
      "\n",
      "Epoch 00753: acc improved from 0.99361 to 0.99578, saving model to ../cache/wt7-753.h5\n",
      "Epoch 754/755\n",
      "852/852 [==============================] - 240s 282ms/step - loss: 0.0960 - binary_crossentropy: 0.0124 - acc: 0.9963\n",
      "\n",
      "Epoch 00754: acc improved from 0.99578 to 0.99626, saving model to ../cache/wt7-754.h5\n",
      "Epoch 755/755\n",
      "852/852 [==============================] - 247s 289ms/step - loss: 0.0925 - binary_crossentropy: 0.0090 - acc: 0.9972\n",
      "\n",
      "Epoch 00755: acc improved from 0.99626 to 0.99717, saving model to ../cache/wt7-755.h5\n",
      "755 1e-05 0.0012881878\n"
     ]
    },
    {
     "data": {
      "application/vnd.jupyter.widget-view+json": {
       "model_id": "3d2ed75a693047d884886c9e31315235",
       "version_major": 2,
       "version_minor": 0
      },
      "text/html": [
       "<p>Failed to display Jupyter Widget of type <code>HBox</code>.</p>\n",
       "<p>\n",
       "  If you're reading this message in the Jupyter Notebook or JupyterLab Notebook, it may mean\n",
       "  that the widgets JavaScript is still loading. If this message persists, it\n",
       "  likely means that the widgets JavaScript library is either not installed or\n",
       "  not enabled. See the <a href=\"https://ipywidgets.readthedocs.io/en/stable/user_install.html\">Jupyter\n",
       "  Widgets Documentation</a> for setup instructions.\n",
       "</p>\n",
       "<p>\n",
       "  If you're reading this message in another frontend (for example, a static\n",
       "  rendering on GitHub or <a href=\"https://nbviewer.jupyter.org/\">NBViewer</a>),\n",
       "  it may mean that your frontend doesn't currently support widgets.\n",
       "</p>\n"
      ],
      "text/plain": [
       "HBox(children=(IntProgress(value=0, description='Features', max=213, style=ProgressStyle(description_width='initial')), HTML(value='')))"
      ]
     },
     "metadata": {},
     "output_type": "display_data"
    },
    {
     "name": "stdout",
     "output_type": "stream",
     "text": [
      "\n"
     ]
    },
    {
     "data": {
      "application/vnd.jupyter.widget-view+json": {
       "model_id": "e61bd14a9d8f4ea09db98b08197361a6",
       "version_major": 2,
       "version_minor": 0
      },
      "text/html": [
       "<p>Failed to display Jupyter Widget of type <code>HBox</code>.</p>\n",
       "<p>\n",
       "  If you're reading this message in the Jupyter Notebook or JupyterLab Notebook, it may mean\n",
       "  that the widgets JavaScript is still loading. If this message persists, it\n",
       "  likely means that the widgets JavaScript library is either not installed or\n",
       "  not enabled. See the <a href=\"https://ipywidgets.readthedocs.io/en/stable/user_install.html\">Jupyter\n",
       "  Widgets Documentation</a> for setup instructions.\n",
       "</p>\n",
       "<p>\n",
       "  If you're reading this message in another frontend (for example, a static\n",
       "  rendering on GitHub or <a href=\"https://nbviewer.jupyter.org/\">NBViewer</a>),\n",
       "  it may mean that your frontend doesn't currently support widgets.\n",
       "</p>\n"
      ],
      "text/plain": [
       "HBox(children=(IntProgress(value=0, description='Scores', max=45306, style=ProgressStyle(description_width='initial')), HTML(value='')))"
      ]
     },
     "metadata": {},
     "output_type": "display_data"
    },
    {
     "name": "stdout",
     "output_type": "stream",
     "text": [
      "\n",
      "Epoch 756/760\n",
      "852/852 [==============================] - 232s 272ms/step - loss: 0.1089 - binary_crossentropy: 0.0255 - acc: 0.9916\n",
      "\n",
      "Epoch 00756: acc improved from -inf to 0.99160, saving model to ../cache/wt7-756.h5\n",
      "Epoch 757/760\n",
      "852/852 [==============================] - 240s 281ms/step - loss: 0.1026 - binary_crossentropy: 0.0193 - acc: 0.9937\n",
      "\n",
      "Epoch 00757: acc improved from 0.99160 to 0.99372, saving model to ../cache/wt7-757.h5\n",
      "Epoch 758/760\n",
      "852/852 [==============================] - 240s 281ms/step - loss: 0.0969 - binary_crossentropy: 0.0136 - acc: 0.9957\n",
      "\n",
      "Epoch 00758: acc improved from 0.99372 to 0.99567, saving model to ../cache/wt7-758.h5\n",
      "Epoch 759/760\n",
      "852/852 [==============================] - 240s 282ms/step - loss: 0.0939 - binary_crossentropy: 0.0108 - acc: 0.9964\n",
      "\n",
      "Epoch 00759: acc improved from 0.99567 to 0.99637, saving model to ../cache/wt7-759.h5\n",
      "Epoch 760/760\n",
      "852/852 [==============================] - 241s 282ms/step - loss: 0.0919 - binary_crossentropy: 0.0089 - acc: 0.9974\n",
      "\n",
      "Epoch 00760: acc improved from 0.99637 to 0.99739, saving model to ../cache/wt7-760.h5\n",
      "760 1e-05 0.0011292261\n"
     ]
    },
    {
     "data": {
      "application/vnd.jupyter.widget-view+json": {
       "model_id": "f8bd3834a8e5477ab97aaa4b5119f7a2",
       "version_major": 2,
       "version_minor": 0
      },
      "text/html": [
       "<p>Failed to display Jupyter Widget of type <code>HBox</code>.</p>\n",
       "<p>\n",
       "  If you're reading this message in the Jupyter Notebook or JupyterLab Notebook, it may mean\n",
       "  that the widgets JavaScript is still loading. If this message persists, it\n",
       "  likely means that the widgets JavaScript library is either not installed or\n",
       "  not enabled. See the <a href=\"https://ipywidgets.readthedocs.io/en/stable/user_install.html\">Jupyter\n",
       "  Widgets Documentation</a> for setup instructions.\n",
       "</p>\n",
       "<p>\n",
       "  If you're reading this message in another frontend (for example, a static\n",
       "  rendering on GitHub or <a href=\"https://nbviewer.jupyter.org/\">NBViewer</a>),\n",
       "  it may mean that your frontend doesn't currently support widgets.\n",
       "</p>\n"
      ],
      "text/plain": [
       "HBox(children=(IntProgress(value=0, description='Features', max=213, style=ProgressStyle(description_width='initial')), HTML(value='')))"
      ]
     },
     "metadata": {},
     "output_type": "display_data"
    },
    {
     "name": "stdout",
     "output_type": "stream",
     "text": [
      "\n"
     ]
    },
    {
     "data": {
      "application/vnd.jupyter.widget-view+json": {
       "model_id": "6fd5b86ee75e4724b4b903bb946adf7e",
       "version_major": 2,
       "version_minor": 0
      },
      "text/html": [
       "<p>Failed to display Jupyter Widget of type <code>HBox</code>.</p>\n",
       "<p>\n",
       "  If you're reading this message in the Jupyter Notebook or JupyterLab Notebook, it may mean\n",
       "  that the widgets JavaScript is still loading. If this message persists, it\n",
       "  likely means that the widgets JavaScript library is either not installed or\n",
       "  not enabled. See the <a href=\"https://ipywidgets.readthedocs.io/en/stable/user_install.html\">Jupyter\n",
       "  Widgets Documentation</a> for setup instructions.\n",
       "</p>\n",
       "<p>\n",
       "  If you're reading this message in another frontend (for example, a static\n",
       "  rendering on GitHub or <a href=\"https://nbviewer.jupyter.org/\">NBViewer</a>),\n",
       "  it may mean that your frontend doesn't currently support widgets.\n",
       "</p>\n"
      ],
      "text/plain": [
       "HBox(children=(IntProgress(value=0, description='Scores', max=45306, style=ProgressStyle(description_width='initial')), HTML(value='')))"
      ]
     },
     "metadata": {},
     "output_type": "display_data"
    },
    {
     "name": "stdout",
     "output_type": "stream",
     "text": [
      "\n",
      "Epoch 761/765\n",
      "852/852 [==============================] - 232s 272ms/step - loss: 0.1118 - binary_crossentropy: 0.0290 - acc: 0.9907\n",
      "\n",
      "Epoch 00761: acc improved from -inf to 0.99071, saving model to ../cache/wt7-761.h5\n",
      "Epoch 762/765\n",
      "852/852 [==============================] - 241s 283ms/step - loss: 0.1033 - binary_crossentropy: 0.0205 - acc: 0.9940\n",
      "\n",
      "Epoch 00762: acc improved from 0.99071 to 0.99398, saving model to ../cache/wt7-762.h5\n",
      "Epoch 763/765\n",
      "852/852 [==============================] - 241s 282ms/step - loss: 0.0960 - binary_crossentropy: 0.0133 - acc: 0.9959\n",
      "\n",
      "Epoch 00763: acc improved from 0.99398 to 0.99589, saving model to ../cache/wt7-763.h5\n",
      "Epoch 764/765\n",
      "852/852 [==============================] - 239s 281ms/step - loss: 0.0923 - binary_crossentropy: 0.0096 - acc: 0.9970\n",
      "\n",
      "Epoch 00764: acc improved from 0.99589 to 0.99699, saving model to ../cache/wt7-764.h5\n",
      "Epoch 765/765\n",
      "852/852 [==============================] - 238s 279ms/step - loss: 0.0905 - binary_crossentropy: 0.0079 - acc: 0.9977\n",
      "\n",
      "Epoch 00765: acc improved from 0.99699 to 0.99769, saving model to ../cache/wt7-765.h5\n",
      "765 1e-05 0.0011943078\n"
     ]
    },
    {
     "data": {
      "application/vnd.jupyter.widget-view+json": {
       "model_id": "1935563b8b6f4c11b4df92ccecb9580a",
       "version_major": 2,
       "version_minor": 0
      },
      "text/html": [
       "<p>Failed to display Jupyter Widget of type <code>HBox</code>.</p>\n",
       "<p>\n",
       "  If you're reading this message in the Jupyter Notebook or JupyterLab Notebook, it may mean\n",
       "  that the widgets JavaScript is still loading. If this message persists, it\n",
       "  likely means that the widgets JavaScript library is either not installed or\n",
       "  not enabled. See the <a href=\"https://ipywidgets.readthedocs.io/en/stable/user_install.html\">Jupyter\n",
       "  Widgets Documentation</a> for setup instructions.\n",
       "</p>\n",
       "<p>\n",
       "  If you're reading this message in another frontend (for example, a static\n",
       "  rendering on GitHub or <a href=\"https://nbviewer.jupyter.org/\">NBViewer</a>),\n",
       "  it may mean that your frontend doesn't currently support widgets.\n",
       "</p>\n"
      ],
      "text/plain": [
       "HBox(children=(IntProgress(value=0, description='Features', max=213, style=ProgressStyle(description_width='initial')), HTML(value='')))"
      ]
     },
     "metadata": {},
     "output_type": "display_data"
    },
    {
     "name": "stdout",
     "output_type": "stream",
     "text": [
      "\n"
     ]
    },
    {
     "data": {
      "application/vnd.jupyter.widget-view+json": {
       "model_id": "f934413aaaa24b3e9b959a0a0f05944c",
       "version_major": 2,
       "version_minor": 0
      },
      "text/html": [
       "<p>Failed to display Jupyter Widget of type <code>HBox</code>.</p>\n",
       "<p>\n",
       "  If you're reading this message in the Jupyter Notebook or JupyterLab Notebook, it may mean\n",
       "  that the widgets JavaScript is still loading. If this message persists, it\n",
       "  likely means that the widgets JavaScript library is either not installed or\n",
       "  not enabled. See the <a href=\"https://ipywidgets.readthedocs.io/en/stable/user_install.html\">Jupyter\n",
       "  Widgets Documentation</a> for setup instructions.\n",
       "</p>\n",
       "<p>\n",
       "  If you're reading this message in another frontend (for example, a static\n",
       "  rendering on GitHub or <a href=\"https://nbviewer.jupyter.org/\">NBViewer</a>),\n",
       "  it may mean that your frontend doesn't currently support widgets.\n",
       "</p>\n"
      ],
      "text/plain": [
       "HBox(children=(IntProgress(value=0, description='Scores', max=45306, style=ProgressStyle(description_width='initial')), HTML(value='')))"
      ]
     },
     "metadata": {},
     "output_type": "display_data"
    },
    {
     "name": "stdout",
     "output_type": "stream",
     "text": [
      "\n",
      "Epoch 766/770\n",
      "852/852 [==============================] - 230s 270ms/step - loss: 0.1123 - binary_crossentropy: 0.0298 - acc: 0.9907\n",
      "\n",
      "Epoch 00766: acc improved from -inf to 0.99071, saving model to ../cache/wt7-766.h5\n",
      "Epoch 767/770\n",
      "852/852 [==============================] - 239s 281ms/step - loss: 0.1016 - binary_crossentropy: 0.0192 - acc: 0.9938\n",
      "\n",
      "Epoch 00767: acc improved from 0.99071 to 0.99380, saving model to ../cache/wt7-767.h5\n",
      "Epoch 768/770\n",
      "852/852 [==============================] - 238s 280ms/step - loss: 0.0955 - binary_crossentropy: 0.0131 - acc: 0.9957\n",
      "\n",
      "Epoch 00768: acc improved from 0.99380 to 0.99571, saving model to ../cache/wt7-768.h5\n",
      "Epoch 769/770\n",
      "852/852 [==============================] - 239s 280ms/step - loss: 0.0924 - binary_crossentropy: 0.0102 - acc: 0.9972\n",
      "\n",
      "Epoch 00769: acc improved from 0.99571 to 0.99717, saving model to ../cache/wt7-769.h5\n",
      "Epoch 770/770\n",
      "852/852 [==============================] - 239s 280ms/step - loss: 0.0909 - binary_crossentropy: 0.0088 - acc: 0.9976\n",
      "\n",
      "Epoch 00770: acc improved from 0.99717 to 0.99761, saving model to ../cache/wt7-770.h5\n",
      "770 1e-05 0.0011968154\n"
     ]
    },
    {
     "data": {
      "application/vnd.jupyter.widget-view+json": {
       "model_id": "d16929a99d864568af9fd838cfb97ecf",
       "version_major": 2,
       "version_minor": 0
      },
      "text/html": [
       "<p>Failed to display Jupyter Widget of type <code>HBox</code>.</p>\n",
       "<p>\n",
       "  If you're reading this message in the Jupyter Notebook or JupyterLab Notebook, it may mean\n",
       "  that the widgets JavaScript is still loading. If this message persists, it\n",
       "  likely means that the widgets JavaScript library is either not installed or\n",
       "  not enabled. See the <a href=\"https://ipywidgets.readthedocs.io/en/stable/user_install.html\">Jupyter\n",
       "  Widgets Documentation</a> for setup instructions.\n",
       "</p>\n",
       "<p>\n",
       "  If you're reading this message in another frontend (for example, a static\n",
       "  rendering on GitHub or <a href=\"https://nbviewer.jupyter.org/\">NBViewer</a>),\n",
       "  it may mean that your frontend doesn't currently support widgets.\n",
       "</p>\n"
      ],
      "text/plain": [
       "HBox(children=(IntProgress(value=0, description='Features', max=213, style=ProgressStyle(description_width='initial')), HTML(value='')))"
      ]
     },
     "metadata": {},
     "output_type": "display_data"
    },
    {
     "name": "stdout",
     "output_type": "stream",
     "text": [
      "\n"
     ]
    },
    {
     "data": {
      "application/vnd.jupyter.widget-view+json": {
       "model_id": "f71050ea682d4e16853bd5e69a77ff56",
       "version_major": 2,
       "version_minor": 0
      },
      "text/html": [
       "<p>Failed to display Jupyter Widget of type <code>HBox</code>.</p>\n",
       "<p>\n",
       "  If you're reading this message in the Jupyter Notebook or JupyterLab Notebook, it may mean\n",
       "  that the widgets JavaScript is still loading. If this message persists, it\n",
       "  likely means that the widgets JavaScript library is either not installed or\n",
       "  not enabled. See the <a href=\"https://ipywidgets.readthedocs.io/en/stable/user_install.html\">Jupyter\n",
       "  Widgets Documentation</a> for setup instructions.\n",
       "</p>\n",
       "<p>\n",
       "  If you're reading this message in another frontend (for example, a static\n",
       "  rendering on GitHub or <a href=\"https://nbviewer.jupyter.org/\">NBViewer</a>),\n",
       "  it may mean that your frontend doesn't currently support widgets.\n",
       "</p>\n"
      ],
      "text/plain": [
       "HBox(children=(IntProgress(value=0, description='Scores', max=45306, style=ProgressStyle(description_width='initial')), HTML(value='')))"
      ]
     },
     "metadata": {},
     "output_type": "display_data"
    },
    {
     "name": "stdout",
     "output_type": "stream",
     "text": [
      "\n",
      "Epoch 771/775\n",
      "852/852 [==============================] - 232s 272ms/step - loss: 0.1099 - binary_crossentropy: 0.0279 - acc: 0.9912\n",
      "\n",
      "Epoch 00771: acc improved from -inf to 0.99123, saving model to ../cache/wt7-771.h5\n",
      "Epoch 772/775\n",
      "852/852 [==============================] - 239s 281ms/step - loss: 0.1023 - binary_crossentropy: 0.0204 - acc: 0.9931\n",
      "\n",
      "Epoch 00772: acc improved from 0.99123 to 0.99314, saving model to ../cache/wt7-772.h5\n",
      "Epoch 773/775\n",
      "852/852 [==============================] - 240s 282ms/step - loss: 0.0954 - binary_crossentropy: 0.0135 - acc: 0.9961\n",
      "\n",
      "Epoch 00773: acc improved from 0.99314 to 0.99615, saving model to ../cache/wt7-773.h5\n",
      "Epoch 774/775\n",
      "852/852 [==============================] - 254s 298ms/step - loss: 0.0928 - binary_crossentropy: 0.0111 - acc: 0.9966\n",
      "\n",
      "Epoch 00774: acc improved from 0.99615 to 0.99662, saving model to ../cache/wt7-774.h5\n",
      "Epoch 775/775\n",
      "852/852 [==============================] - 257s 302ms/step - loss: 0.0916 - binary_crossentropy: 0.0100 - acc: 0.9971\n",
      "\n",
      "Epoch 00775: acc improved from 0.99662 to 0.99710, saving model to ../cache/wt7-775.h5\n",
      "775 1e-05 0.0012937716\n"
     ]
    },
    {
     "data": {
      "application/vnd.jupyter.widget-view+json": {
       "model_id": "cca917a8d77447c69ee411c8811eef06",
       "version_major": 2,
       "version_minor": 0
      },
      "text/html": [
       "<p>Failed to display Jupyter Widget of type <code>HBox</code>.</p>\n",
       "<p>\n",
       "  If you're reading this message in the Jupyter Notebook or JupyterLab Notebook, it may mean\n",
       "  that the widgets JavaScript is still loading. If this message persists, it\n",
       "  likely means that the widgets JavaScript library is either not installed or\n",
       "  not enabled. See the <a href=\"https://ipywidgets.readthedocs.io/en/stable/user_install.html\">Jupyter\n",
       "  Widgets Documentation</a> for setup instructions.\n",
       "</p>\n",
       "<p>\n",
       "  If you're reading this message in another frontend (for example, a static\n",
       "  rendering on GitHub or <a href=\"https://nbviewer.jupyter.org/\">NBViewer</a>),\n",
       "  it may mean that your frontend doesn't currently support widgets.\n",
       "</p>\n"
      ],
      "text/plain": [
       "HBox(children=(IntProgress(value=0, description='Features', max=213, style=ProgressStyle(description_width='initial')), HTML(value='')))"
      ]
     },
     "metadata": {},
     "output_type": "display_data"
    },
    {
     "name": "stdout",
     "output_type": "stream",
     "text": [
      "\n"
     ]
    },
    {
     "data": {
      "application/vnd.jupyter.widget-view+json": {
       "model_id": "da438c9aaf43498192f36f880a8cd6fc",
       "version_major": 2,
       "version_minor": 0
      },
      "text/html": [
       "<p>Failed to display Jupyter Widget of type <code>HBox</code>.</p>\n",
       "<p>\n",
       "  If you're reading this message in the Jupyter Notebook or JupyterLab Notebook, it may mean\n",
       "  that the widgets JavaScript is still loading. If this message persists, it\n",
       "  likely means that the widgets JavaScript library is either not installed or\n",
       "  not enabled. See the <a href=\"https://ipywidgets.readthedocs.io/en/stable/user_install.html\">Jupyter\n",
       "  Widgets Documentation</a> for setup instructions.\n",
       "</p>\n",
       "<p>\n",
       "  If you're reading this message in another frontend (for example, a static\n",
       "  rendering on GitHub or <a href=\"https://nbviewer.jupyter.org/\">NBViewer</a>),\n",
       "  it may mean that your frontend doesn't currently support widgets.\n",
       "</p>\n"
      ],
      "text/plain": [
       "HBox(children=(IntProgress(value=0, description='Scores', max=45306, style=ProgressStyle(description_width='initial')), HTML(value='')))"
      ]
     },
     "metadata": {},
     "output_type": "display_data"
    },
    {
     "name": "stdout",
     "output_type": "stream",
     "text": [
      "\n",
      "Epoch 776/780\n",
      "852/852 [==============================] - 248s 291ms/step - loss: 0.1122 - binary_crossentropy: 0.0306 - acc: 0.9901\n",
      "\n",
      "Epoch 00776: acc improved from -inf to 0.99009, saving model to ../cache/wt7-776.h5\n",
      "Epoch 777/780\n",
      "852/852 [==============================] - 257s 301ms/step - loss: 0.1014 - binary_crossentropy: 0.0199 - acc: 0.9939\n",
      "\n",
      "Epoch 00777: acc improved from 0.99009 to 0.99394, saving model to ../cache/wt7-777.h5\n",
      "Epoch 778/780\n",
      "852/852 [==============================] - 257s 302ms/step - loss: 0.0963 - binary_crossentropy: 0.0149 - acc: 0.9954\n",
      "\n",
      "Epoch 00778: acc improved from 0.99394 to 0.99538, saving model to ../cache/wt7-778.h5\n",
      "Epoch 779/780\n",
      "852/852 [==============================] - 256s 301ms/step - loss: 0.0921 - binary_crossentropy: 0.0107 - acc: 0.9968\n",
      "\n",
      "Epoch 00779: acc improved from 0.99538 to 0.99681, saving model to ../cache/wt7-779.h5\n",
      "Epoch 780/780\n",
      "852/852 [==============================] - 257s 302ms/step - loss: 0.0895 - binary_crossentropy: 0.0083 - acc: 0.9977\n",
      "\n",
      "Epoch 00780: acc improved from 0.99681 to 0.99772, saving model to ../cache/wt7-780.h5\n",
      "780 1e-05 0.0012649965\n"
     ]
    },
    {
     "data": {
      "application/vnd.jupyter.widget-view+json": {
       "model_id": "f471a14dfd0d477999123bddc5941728",
       "version_major": 2,
       "version_minor": 0
      },
      "text/html": [
       "<p>Failed to display Jupyter Widget of type <code>HBox</code>.</p>\n",
       "<p>\n",
       "  If you're reading this message in the Jupyter Notebook or JupyterLab Notebook, it may mean\n",
       "  that the widgets JavaScript is still loading. If this message persists, it\n",
       "  likely means that the widgets JavaScript library is either not installed or\n",
       "  not enabled. See the <a href=\"https://ipywidgets.readthedocs.io/en/stable/user_install.html\">Jupyter\n",
       "  Widgets Documentation</a> for setup instructions.\n",
       "</p>\n",
       "<p>\n",
       "  If you're reading this message in another frontend (for example, a static\n",
       "  rendering on GitHub or <a href=\"https://nbviewer.jupyter.org/\">NBViewer</a>),\n",
       "  it may mean that your frontend doesn't currently support widgets.\n",
       "</p>\n"
      ],
      "text/plain": [
       "HBox(children=(IntProgress(value=0, description='Features', max=213, style=ProgressStyle(description_width='initial')), HTML(value='')))"
      ]
     },
     "metadata": {},
     "output_type": "display_data"
    },
    {
     "name": "stdout",
     "output_type": "stream",
     "text": [
      "\n"
     ]
    },
    {
     "data": {
      "application/vnd.jupyter.widget-view+json": {
       "model_id": "7b4c5d44754545b4804e0e6f857bdd92",
       "version_major": 2,
       "version_minor": 0
      },
      "text/html": [
       "<p>Failed to display Jupyter Widget of type <code>HBox</code>.</p>\n",
       "<p>\n",
       "  If you're reading this message in the Jupyter Notebook or JupyterLab Notebook, it may mean\n",
       "  that the widgets JavaScript is still loading. If this message persists, it\n",
       "  likely means that the widgets JavaScript library is either not installed or\n",
       "  not enabled. See the <a href=\"https://ipywidgets.readthedocs.io/en/stable/user_install.html\">Jupyter\n",
       "  Widgets Documentation</a> for setup instructions.\n",
       "</p>\n",
       "<p>\n",
       "  If you're reading this message in another frontend (for example, a static\n",
       "  rendering on GitHub or <a href=\"https://nbviewer.jupyter.org/\">NBViewer</a>),\n",
       "  it may mean that your frontend doesn't currently support widgets.\n",
       "</p>\n"
      ],
      "text/plain": [
       "HBox(children=(IntProgress(value=0, description='Scores', max=45306, style=ProgressStyle(description_width='initial')), HTML(value='')))"
      ]
     },
     "metadata": {},
     "output_type": "display_data"
    },
    {
     "name": "stdout",
     "output_type": "stream",
     "text": [
      "\n",
      "Epoch 781/785\n",
      "852/852 [==============================] - 248s 291ms/step - loss: 0.1074 - binary_crossentropy: 0.0262 - acc: 0.9916\n",
      "\n",
      "Epoch 00781: acc improved from -inf to 0.99163, saving model to ../cache/wt7-781.h5\n",
      "Epoch 782/785\n",
      "852/852 [==============================] - 255s 299ms/step - loss: 0.0999 - binary_crossentropy: 0.0188 - acc: 0.9942\n",
      "\n",
      "Epoch 00782: acc improved from 0.99163 to 0.99427, saving model to ../cache/wt7-782.h5\n",
      "Epoch 783/785\n",
      "852/852 [==============================] - 253s 297ms/step - loss: 0.0944 - binary_crossentropy: 0.0134 - acc: 0.9959\n",
      "\n",
      "Epoch 00783: acc improved from 0.99427 to 0.99589, saving model to ../cache/wt7-783.h5\n",
      "Epoch 784/785\n",
      "852/852 [==============================] - 256s 300ms/step - loss: 0.0912 - binary_crossentropy: 0.0103 - acc: 0.9972\n",
      "\n",
      "Epoch 00784: acc improved from 0.99589 to 0.99721, saving model to ../cache/wt7-784.h5\n",
      "Epoch 785/785\n",
      "852/852 [==============================] - 255s 300ms/step - loss: 0.0883 - binary_crossentropy: 0.0075 - acc: 0.9976\n",
      "\n",
      "Epoch 00785: acc improved from 0.99721 to 0.99758, saving model to ../cache/wt7-785.h5\n",
      "785 1e-05 0.0011976858\n"
     ]
    },
    {
     "data": {
      "application/vnd.jupyter.widget-view+json": {
       "model_id": "64d3a57e692e4a0881e47bcf45c85fd9",
       "version_major": 2,
       "version_minor": 0
      },
      "text/html": [
       "<p>Failed to display Jupyter Widget of type <code>HBox</code>.</p>\n",
       "<p>\n",
       "  If you're reading this message in the Jupyter Notebook or JupyterLab Notebook, it may mean\n",
       "  that the widgets JavaScript is still loading. If this message persists, it\n",
       "  likely means that the widgets JavaScript library is either not installed or\n",
       "  not enabled. See the <a href=\"https://ipywidgets.readthedocs.io/en/stable/user_install.html\">Jupyter\n",
       "  Widgets Documentation</a> for setup instructions.\n",
       "</p>\n",
       "<p>\n",
       "  If you're reading this message in another frontend (for example, a static\n",
       "  rendering on GitHub or <a href=\"https://nbviewer.jupyter.org/\">NBViewer</a>),\n",
       "  it may mean that your frontend doesn't currently support widgets.\n",
       "</p>\n"
      ],
      "text/plain": [
       "HBox(children=(IntProgress(value=0, description='Features', max=213, style=ProgressStyle(description_width='initial')), HTML(value='')))"
      ]
     },
     "metadata": {},
     "output_type": "display_data"
    },
    {
     "name": "stdout",
     "output_type": "stream",
     "text": [
      "\n"
     ]
    },
    {
     "data": {
      "application/vnd.jupyter.widget-view+json": {
       "model_id": "a0bea85d7bde43c192dbe1d60e2cbfb0",
       "version_major": 2,
       "version_minor": 0
      },
      "text/html": [
       "<p>Failed to display Jupyter Widget of type <code>HBox</code>.</p>\n",
       "<p>\n",
       "  If you're reading this message in the Jupyter Notebook or JupyterLab Notebook, it may mean\n",
       "  that the widgets JavaScript is still loading. If this message persists, it\n",
       "  likely means that the widgets JavaScript library is either not installed or\n",
       "  not enabled. See the <a href=\"https://ipywidgets.readthedocs.io/en/stable/user_install.html\">Jupyter\n",
       "  Widgets Documentation</a> for setup instructions.\n",
       "</p>\n",
       "<p>\n",
       "  If you're reading this message in another frontend (for example, a static\n",
       "  rendering on GitHub or <a href=\"https://nbviewer.jupyter.org/\">NBViewer</a>),\n",
       "  it may mean that your frontend doesn't currently support widgets.\n",
       "</p>\n"
      ],
      "text/plain": [
       "HBox(children=(IntProgress(value=0, description='Scores', max=45306, style=ProgressStyle(description_width='initial')), HTML(value='')))"
      ]
     },
     "metadata": {},
     "output_type": "display_data"
    },
    {
     "name": "stdout",
     "output_type": "stream",
     "text": [
      "\n",
      "Epoch 786/790\n",
      "852/852 [==============================] - 239s 280ms/step - loss: 0.1080 - binary_crossentropy: 0.0273 - acc: 0.9911\n",
      "\n",
      "Epoch 00786: acc improved from -inf to 0.99112, saving model to ../cache/wt7-786.h5\n",
      "Epoch 787/790\n",
      "852/852 [==============================] - 254s 298ms/step - loss: 0.0988 - binary_crossentropy: 0.0181 - acc: 0.9944\n",
      "\n",
      "Epoch 00787: acc improved from 0.99112 to 0.99435, saving model to ../cache/wt7-787.h5\n",
      "Epoch 788/790\n",
      "852/852 [==============================] - 256s 301ms/step - loss: 0.0936 - binary_crossentropy: 0.0130 - acc: 0.9961\n",
      "\n",
      "Epoch 00788: acc improved from 0.99435 to 0.99607, saving model to ../cache/wt7-788.h5\n",
      "Epoch 789/790\n",
      "852/852 [==============================] - 255s 299ms/step - loss: 0.0918 - binary_crossentropy: 0.0113 - acc: 0.9964\n",
      "\n",
      "Epoch 00789: acc improved from 0.99607 to 0.99637, saving model to ../cache/wt7-789.h5\n",
      "Epoch 790/790\n",
      "852/852 [==============================] - 255s 300ms/step - loss: 0.0888 - binary_crossentropy: 0.0084 - acc: 0.9978\n",
      "\n",
      "Epoch 00790: acc improved from 0.99637 to 0.99783, saving model to ../cache/wt7-790.h5\n",
      "790 1e-05 0.0012540173\n"
     ]
    },
    {
     "data": {
      "application/vnd.jupyter.widget-view+json": {
       "model_id": "4b1fe0802af0462ba02f96ede297fdf0",
       "version_major": 2,
       "version_minor": 0
      },
      "text/html": [
       "<p>Failed to display Jupyter Widget of type <code>HBox</code>.</p>\n",
       "<p>\n",
       "  If you're reading this message in the Jupyter Notebook or JupyterLab Notebook, it may mean\n",
       "  that the widgets JavaScript is still loading. If this message persists, it\n",
       "  likely means that the widgets JavaScript library is either not installed or\n",
       "  not enabled. See the <a href=\"https://ipywidgets.readthedocs.io/en/stable/user_install.html\">Jupyter\n",
       "  Widgets Documentation</a> for setup instructions.\n",
       "</p>\n",
       "<p>\n",
       "  If you're reading this message in another frontend (for example, a static\n",
       "  rendering on GitHub or <a href=\"https://nbviewer.jupyter.org/\">NBViewer</a>),\n",
       "  it may mean that your frontend doesn't currently support widgets.\n",
       "</p>\n"
      ],
      "text/plain": [
       "HBox(children=(IntProgress(value=0, description='Features', max=213, style=ProgressStyle(description_width='initial')), HTML(value='')))"
      ]
     },
     "metadata": {},
     "output_type": "display_data"
    },
    {
     "name": "stdout",
     "output_type": "stream",
     "text": [
      "\n"
     ]
    },
    {
     "data": {
      "application/vnd.jupyter.widget-view+json": {
       "model_id": "0f18e8ecd0ce460cbae16c190076cbb3",
       "version_major": 2,
       "version_minor": 0
      },
      "text/html": [
       "<p>Failed to display Jupyter Widget of type <code>HBox</code>.</p>\n",
       "<p>\n",
       "  If you're reading this message in the Jupyter Notebook or JupyterLab Notebook, it may mean\n",
       "  that the widgets JavaScript is still loading. If this message persists, it\n",
       "  likely means that the widgets JavaScript library is either not installed or\n",
       "  not enabled. See the <a href=\"https://ipywidgets.readthedocs.io/en/stable/user_install.html\">Jupyter\n",
       "  Widgets Documentation</a> for setup instructions.\n",
       "</p>\n",
       "<p>\n",
       "  If you're reading this message in another frontend (for example, a static\n",
       "  rendering on GitHub or <a href=\"https://nbviewer.jupyter.org/\">NBViewer</a>),\n",
       "  it may mean that your frontend doesn't currently support widgets.\n",
       "</p>\n"
      ],
      "text/plain": [
       "HBox(children=(IntProgress(value=0, description='Scores', max=45306, style=ProgressStyle(description_width='initial')), HTML(value='')))"
      ]
     },
     "metadata": {},
     "output_type": "display_data"
    },
    {
     "name": "stdout",
     "output_type": "stream",
     "text": [
      "\n",
      "Epoch 791/795\n",
      "852/852 [==============================] - 230s 270ms/step - loss: 0.1083 - binary_crossentropy: 0.0280 - acc: 0.9912\n",
      "\n",
      "Epoch 00791: acc improved from -inf to 0.99115, saving model to ../cache/wt7-791.h5\n",
      "Epoch 792/795\n",
      "852/852 [==============================] - 238s 280ms/step - loss: 0.0982 - binary_crossentropy: 0.0180 - acc: 0.9945\n",
      "\n",
      "Epoch 00792: acc improved from 0.99115 to 0.99453, saving model to ../cache/wt7-792.h5\n",
      "Epoch 793/795\n",
      "852/852 [==============================] - 238s 279ms/step - loss: 0.0950 - binary_crossentropy: 0.0148 - acc: 0.9957\n",
      "\n",
      "Epoch 00793: acc improved from 0.99453 to 0.99571, saving model to ../cache/wt7-793.h5\n",
      "Epoch 794/795\n",
      "852/852 [==============================] - 239s 280ms/step - loss: 0.0909 - binary_crossentropy: 0.0109 - acc: 0.9968\n",
      "\n",
      "Epoch 00794: acc improved from 0.99571 to 0.99681, saving model to ../cache/wt7-794.h5\n",
      "Epoch 795/795\n",
      "852/852 [==============================] - 244s 286ms/step - loss: 0.0881 - binary_crossentropy: 0.0081 - acc: 0.9976\n",
      "\n",
      "Epoch 00795: acc improved from 0.99681 to 0.99758, saving model to ../cache/wt7-795.h5\n",
      "795 1e-05 0.0011960553\n"
     ]
    },
    {
     "data": {
      "application/vnd.jupyter.widget-view+json": {
       "model_id": "fa0ed517cadf4b889c31abf9521a093a",
       "version_major": 2,
       "version_minor": 0
      },
      "text/html": [
       "<p>Failed to display Jupyter Widget of type <code>HBox</code>.</p>\n",
       "<p>\n",
       "  If you're reading this message in the Jupyter Notebook or JupyterLab Notebook, it may mean\n",
       "  that the widgets JavaScript is still loading. If this message persists, it\n",
       "  likely means that the widgets JavaScript library is either not installed or\n",
       "  not enabled. See the <a href=\"https://ipywidgets.readthedocs.io/en/stable/user_install.html\">Jupyter\n",
       "  Widgets Documentation</a> for setup instructions.\n",
       "</p>\n",
       "<p>\n",
       "  If you're reading this message in another frontend (for example, a static\n",
       "  rendering on GitHub or <a href=\"https://nbviewer.jupyter.org/\">NBViewer</a>),\n",
       "  it may mean that your frontend doesn't currently support widgets.\n",
       "</p>\n"
      ],
      "text/plain": [
       "HBox(children=(IntProgress(value=0, description='Features', max=213, style=ProgressStyle(description_width='initial')), HTML(value='')))"
      ]
     },
     "metadata": {},
     "output_type": "display_data"
    },
    {
     "name": "stdout",
     "output_type": "stream",
     "text": [
      "\n"
     ]
    },
    {
     "data": {
      "application/vnd.jupyter.widget-view+json": {
       "model_id": "98c7f417ade04e01a7ab7c8053c57f0d",
       "version_major": 2,
       "version_minor": 0
      },
      "text/html": [
       "<p>Failed to display Jupyter Widget of type <code>HBox</code>.</p>\n",
       "<p>\n",
       "  If you're reading this message in the Jupyter Notebook or JupyterLab Notebook, it may mean\n",
       "  that the widgets JavaScript is still loading. If this message persists, it\n",
       "  likely means that the widgets JavaScript library is either not installed or\n",
       "  not enabled. See the <a href=\"https://ipywidgets.readthedocs.io/en/stable/user_install.html\">Jupyter\n",
       "  Widgets Documentation</a> for setup instructions.\n",
       "</p>\n",
       "<p>\n",
       "  If you're reading this message in another frontend (for example, a static\n",
       "  rendering on GitHub or <a href=\"https://nbviewer.jupyter.org/\">NBViewer</a>),\n",
       "  it may mean that your frontend doesn't currently support widgets.\n",
       "</p>\n"
      ],
      "text/plain": [
       "HBox(children=(IntProgress(value=0, description='Scores', max=45306, style=ProgressStyle(description_width='initial')), HTML(value='')))"
      ]
     },
     "metadata": {},
     "output_type": "display_data"
    },
    {
     "name": "stdout",
     "output_type": "stream",
     "text": [
      "\n",
      "Epoch 796/800\n",
      "852/852 [==============================] - 229s 268ms/step - loss: 0.1115 - binary_crossentropy: 0.0316 - acc: 0.9895\n",
      "\n",
      "Epoch 00796: acc improved from -inf to 0.98947, saving model to ../cache/wt7-796.h5\n",
      "Epoch 797/800\n",
      "852/852 [==============================] - 238s 279ms/step - loss: 0.0955 - binary_crossentropy: 0.0156 - acc: 0.9951\n",
      "\n",
      "Epoch 00797: acc improved from 0.98947 to 0.99512, saving model to ../cache/wt7-797.h5\n",
      "Epoch 798/800\n",
      "852/852 [==============================] - 237s 278ms/step - loss: 0.0936 - binary_crossentropy: 0.0139 - acc: 0.9956\n",
      "\n",
      "Epoch 00798: acc improved from 0.99512 to 0.99563, saving model to ../cache/wt7-798.h5\n",
      "Epoch 799/800\n",
      "852/852 [==============================] - 237s 279ms/step - loss: 0.0901 - binary_crossentropy: 0.0105 - acc: 0.9966\n",
      "\n",
      "Epoch 00799: acc improved from 0.99563 to 0.99659, saving model to ../cache/wt7-799.h5\n",
      "Epoch 800/800\n",
      "852/852 [==============================] - 237s 279ms/step - loss: 0.0894 - binary_crossentropy: 0.0098 - acc: 0.9970\n",
      "\n",
      "Epoch 00800: acc improved from 0.99659 to 0.99699, saving model to ../cache/wt7-800.h5\n",
      "800 1e-05 0.0012259113\n"
     ]
    },
    {
     "data": {
      "application/vnd.jupyter.widget-view+json": {
       "model_id": "63901bbc587a4cf7b7d79c5cf3dea25a",
       "version_major": 2,
       "version_minor": 0
      },
      "text/html": [
       "<p>Failed to display Jupyter Widget of type <code>HBox</code>.</p>\n",
       "<p>\n",
       "  If you're reading this message in the Jupyter Notebook or JupyterLab Notebook, it may mean\n",
       "  that the widgets JavaScript is still loading. If this message persists, it\n",
       "  likely means that the widgets JavaScript library is either not installed or\n",
       "  not enabled. See the <a href=\"https://ipywidgets.readthedocs.io/en/stable/user_install.html\">Jupyter\n",
       "  Widgets Documentation</a> for setup instructions.\n",
       "</p>\n",
       "<p>\n",
       "  If you're reading this message in another frontend (for example, a static\n",
       "  rendering on GitHub or <a href=\"https://nbviewer.jupyter.org/\">NBViewer</a>),\n",
       "  it may mean that your frontend doesn't currently support widgets.\n",
       "</p>\n"
      ],
      "text/plain": [
       "HBox(children=(IntProgress(value=0, description='Features', max=213, style=ProgressStyle(description_width='initial')), HTML(value='')))"
      ]
     },
     "metadata": {},
     "output_type": "display_data"
    },
    {
     "name": "stdout",
     "output_type": "stream",
     "text": [
      "\n"
     ]
    },
    {
     "data": {
      "application/vnd.jupyter.widget-view+json": {
       "model_id": "9fc16887a4254070bfa4ee44446746ed",
       "version_major": 2,
       "version_minor": 0
      },
      "text/html": [
       "<p>Failed to display Jupyter Widget of type <code>HBox</code>.</p>\n",
       "<p>\n",
       "  If you're reading this message in the Jupyter Notebook or JupyterLab Notebook, it may mean\n",
       "  that the widgets JavaScript is still loading. If this message persists, it\n",
       "  likely means that the widgets JavaScript library is either not installed or\n",
       "  not enabled. See the <a href=\"https://ipywidgets.readthedocs.io/en/stable/user_install.html\">Jupyter\n",
       "  Widgets Documentation</a> for setup instructions.\n",
       "</p>\n",
       "<p>\n",
       "  If you're reading this message in another frontend (for example, a static\n",
       "  rendering on GitHub or <a href=\"https://nbviewer.jupyter.org/\">NBViewer</a>),\n",
       "  it may mean that your frontend doesn't currently support widgets.\n",
       "</p>\n"
      ],
      "text/plain": [
       "HBox(children=(IntProgress(value=0, description='Scores', max=45306, style=ProgressStyle(description_width='initial')), HTML(value='')))"
      ]
     },
     "metadata": {},
     "output_type": "display_data"
    },
    {
     "name": "stdout",
     "output_type": "stream",
     "text": [
      "\n",
      "Epoch 801/805\n",
      "852/852 [==============================] - 229s 268ms/step - loss: 0.1073 - binary_crossentropy: 0.0278 - acc: 0.9911\n",
      "\n",
      "Epoch 00801: acc improved from -inf to 0.99112, saving model to ../cache/wt7-801.h5\n",
      "Epoch 802/805\n",
      "852/852 [==============================] - 236s 277ms/step - loss: 0.0971 - binary_crossentropy: 0.0176 - acc: 0.9947\n",
      "\n",
      "Epoch 00802: acc improved from 0.99112 to 0.99468, saving model to ../cache/wt7-802.h5\n",
      "Epoch 803/805\n",
      "852/852 [==============================] - 236s 278ms/step - loss: 0.0927 - binary_crossentropy: 0.0133 - acc: 0.9959\n",
      "\n",
      "Epoch 00803: acc improved from 0.99468 to 0.99585, saving model to ../cache/wt7-803.h5\n",
      "Epoch 804/805\n",
      "852/852 [==============================] - 236s 277ms/step - loss: 0.0886 - binary_crossentropy: 0.0093 - acc: 0.9970\n",
      "\n",
      "Epoch 00804: acc improved from 0.99585 to 0.99695, saving model to ../cache/wt7-804.h5\n",
      "Epoch 805/805\n",
      "852/852 [==============================] - 236s 277ms/step - loss: 0.0876 - binary_crossentropy: 0.0084 - acc: 0.9971\n",
      "\n",
      "Epoch 00805: acc improved from 0.99695 to 0.99714, saving model to ../cache/wt7-805.h5\n",
      "805 1e-05 0.0011639916\n"
     ]
    },
    {
     "data": {
      "application/vnd.jupyter.widget-view+json": {
       "model_id": "177bc441ce5b423daf4a2f4012c81a92",
       "version_major": 2,
       "version_minor": 0
      },
      "text/html": [
       "<p>Failed to display Jupyter Widget of type <code>HBox</code>.</p>\n",
       "<p>\n",
       "  If you're reading this message in the Jupyter Notebook or JupyterLab Notebook, it may mean\n",
       "  that the widgets JavaScript is still loading. If this message persists, it\n",
       "  likely means that the widgets JavaScript library is either not installed or\n",
       "  not enabled. See the <a href=\"https://ipywidgets.readthedocs.io/en/stable/user_install.html\">Jupyter\n",
       "  Widgets Documentation</a> for setup instructions.\n",
       "</p>\n",
       "<p>\n",
       "  If you're reading this message in another frontend (for example, a static\n",
       "  rendering on GitHub or <a href=\"https://nbviewer.jupyter.org/\">NBViewer</a>),\n",
       "  it may mean that your frontend doesn't currently support widgets.\n",
       "</p>\n"
      ],
      "text/plain": [
       "HBox(children=(IntProgress(value=0, description='Features', max=213, style=ProgressStyle(description_width='initial')), HTML(value='')))"
      ]
     },
     "metadata": {},
     "output_type": "display_data"
    },
    {
     "name": "stdout",
     "output_type": "stream",
     "text": [
      "\n"
     ]
    },
    {
     "data": {
      "application/vnd.jupyter.widget-view+json": {
       "model_id": "e77b8021024a474baa09f158d1edee2b",
       "version_major": 2,
       "version_minor": 0
      },
      "text/html": [
       "<p>Failed to display Jupyter Widget of type <code>HBox</code>.</p>\n",
       "<p>\n",
       "  If you're reading this message in the Jupyter Notebook or JupyterLab Notebook, it may mean\n",
       "  that the widgets JavaScript is still loading. If this message persists, it\n",
       "  likely means that the widgets JavaScript library is either not installed or\n",
       "  not enabled. See the <a href=\"https://ipywidgets.readthedocs.io/en/stable/user_install.html\">Jupyter\n",
       "  Widgets Documentation</a> for setup instructions.\n",
       "</p>\n",
       "<p>\n",
       "  If you're reading this message in another frontend (for example, a static\n",
       "  rendering on GitHub or <a href=\"https://nbviewer.jupyter.org/\">NBViewer</a>),\n",
       "  it may mean that your frontend doesn't currently support widgets.\n",
       "</p>\n"
      ],
      "text/plain": [
       "HBox(children=(IntProgress(value=0, description='Scores', max=45306, style=ProgressStyle(description_width='initial')), HTML(value='')))"
      ]
     },
     "metadata": {},
     "output_type": "display_data"
    },
    {
     "name": "stdout",
     "output_type": "stream",
     "text": [
      "\n",
      "Epoch 806/810\n",
      "852/852 [==============================] - 234s 274ms/step - loss: 0.1061 - binary_crossentropy: 0.0270 - acc: 0.9906\n",
      "\n",
      "Epoch 00806: acc improved from -inf to 0.99064, saving model to ../cache/wt7-806.h5\n",
      "Epoch 807/810\n",
      "852/852 [==============================] - 240s 281ms/step - loss: 0.0978 - binary_crossentropy: 0.0187 - acc: 0.9947\n",
      "\n",
      "Epoch 00807: acc improved from 0.99064 to 0.99471, saving model to ../cache/wt7-807.h5\n",
      "Epoch 808/810\n",
      "852/852 [==============================] - 238s 280ms/step - loss: 0.0923 - binary_crossentropy: 0.0134 - acc: 0.9956\n",
      "\n",
      "Epoch 00808: acc improved from 0.99471 to 0.99563, saving model to ../cache/wt7-808.h5\n",
      "Epoch 809/810\n",
      "852/852 [==============================] - 240s 281ms/step - loss: 0.0890 - binary_crossentropy: 0.0101 - acc: 0.9971\n",
      "\n",
      "Epoch 00809: acc improved from 0.99563 to 0.99714, saving model to ../cache/wt7-809.h5\n",
      "Epoch 810/810\n",
      "852/852 [==============================] - 239s 281ms/step - loss: 0.0894 - binary_crossentropy: 0.0106 - acc: 0.9971\n",
      "\n",
      "Epoch 00810: acc did not improve from 0.99714\n",
      "810 1e-05 0.0011870214\n"
     ]
    },
    {
     "data": {
      "application/vnd.jupyter.widget-view+json": {
       "model_id": "2018b05f92224ede83a2569ccd1f4ba5",
       "version_major": 2,
       "version_minor": 0
      },
      "text/html": [
       "<p>Failed to display Jupyter Widget of type <code>HBox</code>.</p>\n",
       "<p>\n",
       "  If you're reading this message in the Jupyter Notebook or JupyterLab Notebook, it may mean\n",
       "  that the widgets JavaScript is still loading. If this message persists, it\n",
       "  likely means that the widgets JavaScript library is either not installed or\n",
       "  not enabled. See the <a href=\"https://ipywidgets.readthedocs.io/en/stable/user_install.html\">Jupyter\n",
       "  Widgets Documentation</a> for setup instructions.\n",
       "</p>\n",
       "<p>\n",
       "  If you're reading this message in another frontend (for example, a static\n",
       "  rendering on GitHub or <a href=\"https://nbviewer.jupyter.org/\">NBViewer</a>),\n",
       "  it may mean that your frontend doesn't currently support widgets.\n",
       "</p>\n"
      ],
      "text/plain": [
       "HBox(children=(IntProgress(value=0, description='Features', max=213, style=ProgressStyle(description_width='initial')), HTML(value='')))"
      ]
     },
     "metadata": {},
     "output_type": "display_data"
    },
    {
     "name": "stdout",
     "output_type": "stream",
     "text": [
      "\n"
     ]
    },
    {
     "data": {
      "application/vnd.jupyter.widget-view+json": {
       "model_id": "c3b23c40b144435d8d33edbae41fb223",
       "version_major": 2,
       "version_minor": 0
      },
      "text/html": [
       "<p>Failed to display Jupyter Widget of type <code>HBox</code>.</p>\n",
       "<p>\n",
       "  If you're reading this message in the Jupyter Notebook or JupyterLab Notebook, it may mean\n",
       "  that the widgets JavaScript is still loading. If this message persists, it\n",
       "  likely means that the widgets JavaScript library is either not installed or\n",
       "  not enabled. See the <a href=\"https://ipywidgets.readthedocs.io/en/stable/user_install.html\">Jupyter\n",
       "  Widgets Documentation</a> for setup instructions.\n",
       "</p>\n",
       "<p>\n",
       "  If you're reading this message in another frontend (for example, a static\n",
       "  rendering on GitHub or <a href=\"https://nbviewer.jupyter.org/\">NBViewer</a>),\n",
       "  it may mean that your frontend doesn't currently support widgets.\n",
       "</p>\n"
      ],
      "text/plain": [
       "HBox(children=(IntProgress(value=0, description='Scores', max=45306, style=ProgressStyle(description_width='initial')), HTML(value='')))"
      ]
     },
     "metadata": {},
     "output_type": "display_data"
    },
    {
     "name": "stdout",
     "output_type": "stream",
     "text": [
      "\n",
      "Epoch 811/815\n",
      "852/852 [==============================] - 232s 272ms/step - loss: 0.1058 - binary_crossentropy: 0.0271 - acc: 0.9910\n",
      "\n",
      "Epoch 00811: acc improved from -inf to 0.99097, saving model to ../cache/wt7-811.h5\n",
      "Epoch 812/815\n",
      "852/852 [==============================] - 238s 279ms/step - loss: 0.0966 - binary_crossentropy: 0.0179 - acc: 0.9941\n",
      "\n",
      "Epoch 00812: acc improved from 0.99097 to 0.99413, saving model to ../cache/wt7-812.h5\n",
      "Epoch 813/815\n",
      "852/852 [==============================] - 239s 280ms/step - loss: 0.0901 - binary_crossentropy: 0.0115 - acc: 0.9963\n",
      "\n",
      "Epoch 00813: acc improved from 0.99413 to 0.99629, saving model to ../cache/wt7-813.h5\n",
      "Epoch 814/815\n",
      "852/852 [==============================] - 238s 280ms/step - loss: 0.0901 - binary_crossentropy: 0.0116 - acc: 0.9966\n",
      "\n",
      "Epoch 00814: acc improved from 0.99629 to 0.99659, saving model to ../cache/wt7-814.h5\n",
      "Epoch 815/815\n",
      "852/852 [==============================] - 239s 280ms/step - loss: 0.0863 - binary_crossentropy: 0.0079 - acc: 0.9978\n",
      "\n",
      "Epoch 00815: acc improved from 0.99659 to 0.99776, saving model to ../cache/wt7-815.h5\n",
      "815 1e-05 0.0011765404\n"
     ]
    },
    {
     "data": {
      "application/vnd.jupyter.widget-view+json": {
       "model_id": "1868489e1c96464697e749bcd898d2ac",
       "version_major": 2,
       "version_minor": 0
      },
      "text/html": [
       "<p>Failed to display Jupyter Widget of type <code>HBox</code>.</p>\n",
       "<p>\n",
       "  If you're reading this message in the Jupyter Notebook or JupyterLab Notebook, it may mean\n",
       "  that the widgets JavaScript is still loading. If this message persists, it\n",
       "  likely means that the widgets JavaScript library is either not installed or\n",
       "  not enabled. See the <a href=\"https://ipywidgets.readthedocs.io/en/stable/user_install.html\">Jupyter\n",
       "  Widgets Documentation</a> for setup instructions.\n",
       "</p>\n",
       "<p>\n",
       "  If you're reading this message in another frontend (for example, a static\n",
       "  rendering on GitHub or <a href=\"https://nbviewer.jupyter.org/\">NBViewer</a>),\n",
       "  it may mean that your frontend doesn't currently support widgets.\n",
       "</p>\n"
      ],
      "text/plain": [
       "HBox(children=(IntProgress(value=0, description='Features', max=213, style=ProgressStyle(description_width='initial')), HTML(value='')))"
      ]
     },
     "metadata": {},
     "output_type": "display_data"
    },
    {
     "name": "stdout",
     "output_type": "stream",
     "text": [
      "\n"
     ]
    },
    {
     "data": {
      "application/vnd.jupyter.widget-view+json": {
       "model_id": "f2a4ff12a74c4b5ba291319d2597a66a",
       "version_major": 2,
       "version_minor": 0
      },
      "text/html": [
       "<p>Failed to display Jupyter Widget of type <code>HBox</code>.</p>\n",
       "<p>\n",
       "  If you're reading this message in the Jupyter Notebook or JupyterLab Notebook, it may mean\n",
       "  that the widgets JavaScript is still loading. If this message persists, it\n",
       "  likely means that the widgets JavaScript library is either not installed or\n",
       "  not enabled. See the <a href=\"https://ipywidgets.readthedocs.io/en/stable/user_install.html\">Jupyter\n",
       "  Widgets Documentation</a> for setup instructions.\n",
       "</p>\n",
       "<p>\n",
       "  If you're reading this message in another frontend (for example, a static\n",
       "  rendering on GitHub or <a href=\"https://nbviewer.jupyter.org/\">NBViewer</a>),\n",
       "  it may mean that your frontend doesn't currently support widgets.\n",
       "</p>\n"
      ],
      "text/plain": [
       "HBox(children=(IntProgress(value=0, description='Scores', max=45306, style=ProgressStyle(description_width='initial')), HTML(value='')))"
      ]
     },
     "metadata": {},
     "output_type": "display_data"
    },
    {
     "name": "stdout",
     "output_type": "stream",
     "text": [
      "\n",
      "Epoch 816/820\n",
      "852/852 [==============================] - 232s 272ms/step - loss: 0.1074 - binary_crossentropy: 0.0291 - acc: 0.9912\n",
      "\n",
      "Epoch 00816: acc improved from -inf to 0.99119, saving model to ../cache/wt7-816.h5\n",
      "Epoch 817/820\n",
      "852/852 [==============================] - 240s 281ms/step - loss: 0.0991 - binary_crossentropy: 0.0208 - acc: 0.9942\n",
      "\n",
      "Epoch 00817: acc improved from 0.99119 to 0.99420, saving model to ../cache/wt7-817.h5\n",
      "Epoch 818/820\n",
      "383/852 [============>.................] - ETA: 2:16 - loss: 0.0932 - binary_crossentropy: 0.0150 - acc: 0.9956"
     ]
    }
   ],
   "source": [
    "# epoch -> 900\n",
    "# model.load_weights('../cache/wt7-600.h5')\n",
    "set_lr(model, 1e-5)\n",
    "for _ in range(30): make_steps(5, 0.25)\n",
    "model.save('../cache/ashish.standard.model-10')"
   ]
  },
  {
   "cell_type": "code",
   "execution_count": null,
   "metadata": {},
   "outputs": [],
   "source": [
    "def prepare_submission(threshold, filename):\n",
    "    \"\"\"\n",
    "    Generate a Kaggle submission file.\n",
    "    @param threshold the score given to 'new_whale'\n",
    "    @param filename the submission file name\n",
    "    \"\"\"\n",
    "    vtop = 0\n",
    "    vhigh = 0\n",
    "    pos = [0, 0, 0, 0, 0, 0]\n",
    "    with open(filename, 'wt', newline='\\n') as f:\n",
    "        f.write('Image,Id\\n')\n",
    "        for i, p in enumerate(tqdm(submit)):\n",
    "            t = []\n",
    "            s = set()\n",
    "            a = score[i, :]\n",
    "            for j in list(reversed(np.argsort(a))):\n",
    "                h = known[j]\n",
    "                if a[j] < threshold and new_whale not in s:\n",
    "                    pos[len(t)] += 1\n",
    "                    s.add(new_whale)\n",
    "                    t.append(new_whale)\n",
    "                    if len(t) == 5: break;\n",
    "                for w in h2ws[h]:\n",
    "                    assert w != new_whale\n",
    "                    if w not in s:\n",
    "                        if a[j] > 1.0:\n",
    "                            vtop += 1\n",
    "                        elif a[j] >= threshold:\n",
    "                            vhigh += 1\n",
    "                        s.add(w)\n",
    "                        t.append(w)\n",
    "                        if len(t) == 5: break;\n",
    "                if len(t) == 5: break;\n",
    "            if new_whale not in s: pos[5] += 1\n",
    "            assert len(t) == 5 and len(s) == 5\n",
    "            f.write(p + ',' + ' '.join(t[:5]) + '\\n')\n",
    "    return vtop, vhigh, pos"
   ]
  },
  {
   "cell_type": "code",
   "execution_count": null,
   "metadata": {},
   "outputs": [],
   "source": [
    "# Find elements from training sets not 'new_whale'\n",
    "tic = time.time()\n",
    "h2ws = {}\n",
    "for p, w in tagged.items():\n",
    "    if w != new_whale:  # Use only identified whales\n",
    "        h = p2h[p]\n",
    "        if h not in h2ws: h2ws[h] = []\n",
    "        if w not in h2ws[h]: h2ws[h].append(w)\n",
    "known = sorted(list(h2ws.keys()))\n",
    "\n",
    "# Dictionary of picture indices\n",
    "h2i = {}\n",
    "for i, h in enumerate(known): h2i[h] = i\n",
    "\n",
    "# Evaluate the model.\n",
    "fknown = branch_model.predict_generator(FeatureGen(known), max_queue_size=20, workers=10, verbose=0)\n",
    "fsubmit = branch_model.predict_generator(FeatureGen(submit), max_queue_size=20, workers=10, verbose=0)\n",
    "score = head_model.predict_generator(ScoreGen(fknown, fsubmit), max_queue_size=20, workers=10, verbose=0)\n",
    "score = score_reshape(score, fknown, fsubmit)\n",
    "\n"
   ]
  },
  {
   "cell_type": "code",
   "execution_count": null,
   "metadata": {},
   "outputs": [],
   "source": [
    "# Generate the subsmission file.\n",
    "prepare_submission(0.99, '../submissions/sub7e.csv')\n",
    "toc = time.time()\n",
    "print(\"Submission time: \", (toc - tic) / 60.)"
   ]
  },
  {
   "cell_type": "code",
   "execution_count": null,
   "metadata": {},
   "outputs": [],
   "source": [
    "%%time\n",
    "!kaggle competitions submit -c humpback-whale-identification -f ../submissions/sub7e.csv -m \"\""
   ]
  },
  {
   "cell_type": "code",
   "execution_count": null,
   "metadata": {},
   "outputs": [],
   "source": [
    "from time import sleep\n",
    "sleep(10)\n",
    "!kaggle competitions submissions -c humpback-whale-identification"
   ]
  },
  {
   "cell_type": "code",
   "execution_count": null,
   "metadata": {},
   "outputs": [],
   "source": []
  }
 ],
 "metadata": {
  "kernelspec": {
   "display_name": "hpg",
   "language": "python",
   "name": "hpg"
  },
  "language_info": {
   "codemirror_mode": {
    "name": "ipython",
    "version": 3
   },
   "file_extension": ".py",
   "mimetype": "text/x-python",
   "name": "python",
   "nbconvert_exporter": "python",
   "pygments_lexer": "ipython3",
   "version": "3.6.4"
  }
 },
 "nbformat": 4,
 "nbformat_minor": 2
}
